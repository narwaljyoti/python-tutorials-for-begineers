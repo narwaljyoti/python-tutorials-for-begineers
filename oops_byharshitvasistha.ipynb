{
 "cells": [
  {
   "cell_type": "code",
   "execution_count": null,
   "id": "8c97a123",
   "metadata": {},
   "outputs": [],
   "source": [
    "print(\"oops is just style /way to write a code,helpful in creating real world programs\")\n",
    "#class ,object(instance),method"
   ]
  },
  {
   "cell_type": "markdown",
   "id": "0ffecaed",
   "metadata": {},
   "source": [
    "# class \n"
   ]
  },
  {
   "cell_type": "code",
   "execution_count": 2,
   "id": "09af640d",
   "metadata": {},
   "outputs": [
    {
     "name": "stdout",
     "output_type": "stream",
     "text": [
      "class is just like a blue print\n",
      "self is just a reference variable,it refers a variable when any object is created\n",
      "jyoti\n"
     ]
    }
   ],
   "source": [
    "print(\"class is just like a blue print\")\n",
    "print(\"self is just a reference variable,it refers a variable when any object is created\")\n",
    "class Person:\n",
    "    def __init__(self,fname,lname,age):  \n",
    "        #instance variables \n",
    "        self.fname=fname  #yaha par p1.fname=name  self represent krega p1 ko \n",
    "        self.lname=lname\n",
    "        self.age=age   \n",
    "#create a object\n",
    "p1=Person(\"jyoti\",\"gulia\",23)\n",
    "p2=Person(\"dishan\",'narwal',2)\n",
    "#self represent a object,when we create a object ,__init__ method will call \n",
    "#__init__(constructor):reserved method in classes.when a object is created from class this method is called and allows the class to initialize the attribute of a class.\n",
    "print(p1.fname)"
   ]
  },
  {
   "cell_type": "code",
   "execution_count": 3,
   "id": "f818061a",
   "metadata": {},
   "outputs": [
    {
     "name": "stdout",
     "output_type": "stream",
     "text": [
      "HP\n"
     ]
    }
   ],
   "source": [
    "#Exercise :create a laptop class attribute bname,mname,price /acreate 2 object of your laptop class \n",
    "class Laptop:\n",
    "    def __init__(self,bname,mname,price):\n",
    "        #instance variables\n",
    "        self.bname=bname\n",
    "        self.mname=mname\n",
    "        self.price=price\n",
    "#create 2 object \n",
    "l1=Laptop(\"HP\",'123hc',34555)\n",
    "l2=Laptop(\"lenovo\",\"gf6\",87989)\n",
    "print(l1.bname)\n",
    "\n",
    "    "
   ]
  },
  {
   "cell_type": "code",
   "execution_count": null,
   "id": "4fbcbfa2",
   "metadata": {},
   "outputs": [],
   "source": [
    "# Difference between class and object \n",
    "print(\"class is just like a blueprint,class is logical entity,does not take any space when class is created, declared at once\")\n",
    "print(\"object is real world entity,physical entity,when object created it take space,when we required object we can create it\")"
   ]
  },
  {
   "cell_type": "code",
   "execution_count": 12,
   "id": "59e984b2",
   "metadata": {},
   "outputs": [
    {
     "name": "stdout",
     "output_type": "stream",
     "text": [
      "amit\n",
      "amit narwal\n",
      "True\n"
     ]
    }
   ],
   "source": [
    "#Instance(object) method\n",
    "class Person:\n",
    "    def __init__(self,fname,lname,age):  #class parameter\n",
    "        #instance variables\n",
    "        self.fname=fname\n",
    "        self.lname=lname\n",
    "        self.age=age\n",
    "    def fullname(self,):  #koi bhi function  class k andar wo method hota h \n",
    "        return f\"{self.fname} {self.lname}\"\n",
    "    def is_above(self):\n",
    "        return self.age>True\n",
    "        \n",
    "p=Person(\"amit\",\"narwal\",34)\n",
    "print(p.fname)\n",
    "print(p.fullname())\n",
    "print(p.is_above())\n"
   ]
  },
  {
   "cell_type": "code",
   "execution_count": 15,
   "id": "976d3dc4",
   "metadata": {},
   "outputs": [
    {
     "name": "stdout",
     "output_type": "stream",
     "text": [
      "216000.0\n"
     ]
    }
   ],
   "source": [
    "class Laptop:\n",
    "    def __init__(self,bname,mname,price):\n",
    "        #instance variables  or every object has unique instance variables \n",
    "        self.bname=bname\n",
    "        self.mname=mname\n",
    "        self.price=price\n",
    "    def apply_discount(self,num):\n",
    "        discount=(num/100)*self.price\n",
    "        return self.price-discount\n",
    "l1=Laptop(\"dm\",\"ed\",240000)\n",
    "print(l1.apply_discount(10))"
   ]
  },
  {
   "cell_type": "code",
   "execution_count": 13,
   "id": "c2422d0b",
   "metadata": {},
   "outputs": [
    {
     "name": "stdout",
     "output_type": "stream",
     "text": [
      "25.12\n",
      "216000.0\n"
     ]
    }
   ],
   "source": [
    "#class variable:value of class variable is shared with each object \n",
    "class Circle:\n",
    "    \n",
    "    def __init__(self,r,pie):\n",
    "        self.r=r\n",
    "        self.pie=pie\n",
    "    def circum(self):\n",
    "        return 2*self.pie*self.r\n",
    "c1=Circle(4,3.14)\n",
    "c2=Circle(5,3.14)\n",
    "#here we are using pie value again and again so total memeory wastage \n",
    "class Circl:\n",
    "    pi=3.14   #class variable declaration \n",
    "    def __init__(self,r):\n",
    "        self.r=r\n",
    "        \n",
    "    def circum1(self):\n",
    "        return 2*Circl.pi*self.r  #access class variable classname.classvariable\n",
    "c3=Circl(4)\n",
    "print(c3.circum1())\n",
    "\n",
    "\n",
    "\n",
    "#program discountof each laptop is 10 % so each laptop have different percanetage\n",
    "class Laptop:\n",
    "    discount_per=10\n",
    "    def __init__(self,bname,mname,price):\n",
    "        #instance variables  or every object has unique instance variables \n",
    "        self.bname=bname\n",
    "        self.mname=mname\n",
    "        self.price=price\n",
    "    def apply_discount(self):\n",
    "        discount=(Laptop.discount_per/100)*self.price\n",
    "        return self.price-discount\n",
    "l1=Laptop(\"dm\",\"ed\",240000)\n",
    "print(l1.apply_discount())"
   ]
  },
  {
   "cell_type": "code",
   "execution_count": 21,
   "id": "c4a6d34e",
   "metadata": {},
   "outputs": [
    {
     "name": "stdout",
     "output_type": "stream",
     "text": [
      "31500.0\n",
      "{'bname': 'dm', 'mname': 'ed', 'price': 240000}\n"
     ]
    }
   ],
   "source": [
    "#in laptop above example ,each laptop have different discount ,to solve this problem\n",
    "class Laptop:\n",
    "    discount_per=10\n",
    "    def __init__(self,bname,mname,price):\n",
    "        #instance variables  or every object has unique instance variables \n",
    "        self.bname=bname\n",
    "        self.mname=mname\n",
    "        self.price=price\n",
    "    def apply_discount(self):  #at a  particular moment  want to change a  class varaible\n",
    "        discount=(self.discount_per/100)*self.price\n",
    "        return self.price-discount\n",
    "    \n",
    "#muje yaha par different object k liye different sale run krni h\n",
    "\n",
    "l1=Laptop(\"dm\",\"ed\",240000)\n",
    "l2=Laptop(\"hp\",\"au114xt\",63000)\n",
    "l2.discount_per=50\n",
    "print(l2.apply_discount())\n",
    "\n",
    "#how to print namespace (object k pas konse variable h )\n",
    "print(l1.__dict__)"
   ]
  },
  {
   "cell_type": "code",
   "execution_count": 16,
   "id": "6dade24c",
   "metadata": {},
   "outputs": [
    {
     "ename": "AttributeError",
     "evalue": "type object 'Person' has no attribute 'count_instance'",
     "output_type": "error",
     "traceback": [
      "\u001b[1;31m---------------------------------------------------------------------------\u001b[0m",
      "\u001b[1;31mAttributeError\u001b[0m                            Traceback (most recent call last)",
      "\u001b[1;32m<ipython-input-16-449c6bd0488e>\u001b[0m in \u001b[0;36m<module>\u001b[1;34m\u001b[0m\n\u001b[0;32m     17\u001b[0m     \u001b[1;32mdef\u001b[0m \u001b[0mis_above_18\u001b[0m\u001b[1;33m(\u001b[0m\u001b[0mself\u001b[0m\u001b[1;33m)\u001b[0m\u001b[1;33m:\u001b[0m\u001b[1;33m\u001b[0m\u001b[1;33m\u001b[0m\u001b[0m\n\u001b[0;32m     18\u001b[0m         \u001b[1;32mreturn\u001b[0m \u001b[0mself\u001b[0m\u001b[1;33m.\u001b[0m\u001b[0mage\u001b[0m\u001b[1;33m>\u001b[0m\u001b[1;36m18\u001b[0m\u001b[1;33m\u001b[0m\u001b[1;33m\u001b[0m\u001b[0m\n\u001b[1;32m---> 19\u001b[1;33m \u001b[0mp1\u001b[0m\u001b[1;33m=\u001b[0m\u001b[0mPerso\u001b[0m\u001b[1;33m(\u001b[0m\u001b[1;34m\"Hrashit\"\u001b[0m\u001b[1;33m,\u001b[0m\u001b[1;34m\"vasistha\"\u001b[0m\u001b[1;33m,\u001b[0m\u001b[1;36m23\u001b[0m\u001b[1;33m)\u001b[0m\u001b[1;33m\u001b[0m\u001b[1;33m\u001b[0m\u001b[0m\n\u001b[0m\u001b[0;32m     20\u001b[0m \u001b[0mp2\u001b[0m\u001b[1;33m=\u001b[0m\u001b[0mPerso\u001b[0m\u001b[1;33m(\u001b[0m\u001b[1;34m\"somya\"\u001b[0m\u001b[1;33m,\u001b[0m\u001b[1;34m\"jagat\"\u001b[0m\u001b[1;33m,\u001b[0m\u001b[1;36m45\u001b[0m\u001b[1;33m)\u001b[0m\u001b[1;33m\u001b[0m\u001b[1;33m\u001b[0m\u001b[0m\n\u001b[0;32m     21\u001b[0m \u001b[0mprint\u001b[0m\u001b[1;33m(\u001b[0m\u001b[0mPerso\u001b[0m\u001b[1;33m.\u001b[0m\u001b[0mcount_instances\u001b[0m\u001b[1;33m(\u001b[0m\u001b[1;33m)\u001b[0m\u001b[1;33m)\u001b[0m\u001b[1;33m\u001b[0m\u001b[1;33m\u001b[0m\u001b[0m\n",
      "\u001b[1;32m<ipython-input-16-449c6bd0488e>\u001b[0m in \u001b[0;36m__init__\u001b[1;34m(self, f_name, l_name, age)\u001b[0m\n\u001b[0;32m      4\u001b[0m     \u001b[0mcount_instance\u001b[0m\u001b[1;33m=\u001b[0m\u001b[1;36m0\u001b[0m   \u001b[1;31m#class variable/class attaribute\u001b[0m\u001b[1;33m\u001b[0m\u001b[1;33m\u001b[0m\u001b[0m\n\u001b[0;32m      5\u001b[0m     \u001b[1;32mdef\u001b[0m \u001b[0m__init__\u001b[0m\u001b[1;33m(\u001b[0m\u001b[0mself\u001b[0m\u001b[1;33m,\u001b[0m\u001b[0mf_name\u001b[0m\u001b[1;33m,\u001b[0m\u001b[0ml_name\u001b[0m\u001b[1;33m,\u001b[0m\u001b[0mage\u001b[0m\u001b[1;33m)\u001b[0m\u001b[1;33m:\u001b[0m\u001b[1;33m\u001b[0m\u001b[1;33m\u001b[0m\u001b[0m\n\u001b[1;32m----> 6\u001b[1;33m         \u001b[0mPerson\u001b[0m\u001b[1;33m.\u001b[0m\u001b[0mcount_instance\u001b[0m\u001b[1;33m+=\u001b[0m\u001b[1;36m1\u001b[0m\u001b[1;33m\u001b[0m\u001b[1;33m\u001b[0m\u001b[0m\n\u001b[0m\u001b[0;32m      7\u001b[0m         \u001b[0mself\u001b[0m\u001b[1;33m.\u001b[0m\u001b[0mf_name\u001b[0m\u001b[1;33m=\u001b[0m\u001b[0mf_name\u001b[0m\u001b[1;33m\u001b[0m\u001b[1;33m\u001b[0m\u001b[0m\n\u001b[0;32m      8\u001b[0m         \u001b[0mself\u001b[0m\u001b[1;33m.\u001b[0m\u001b[0ml_name\u001b[0m\u001b[1;33m=\u001b[0m\u001b[0ml_name\u001b[0m\u001b[1;33m\u001b[0m\u001b[1;33m\u001b[0m\u001b[0m\n",
      "\u001b[1;31mAttributeError\u001b[0m: type object 'Person' has no attribute 'count_instance'"
     ]
    }
   ],
   "source": [
    "#class methods \n",
    "#difference between class methods \n",
    "class Perso:\n",
    "    count_instance=0   #class variable/class attaribute\n",
    "    def __init__(self,f_name,l_name,age):\n",
    "        Person.count_instance+=1\n",
    "        self.f_name=f_name\n",
    "        self.l_name=l_name\n",
    "        self.age=age\n",
    "    @classmethod  \n",
    "    def count_instances(cls):   #when we define class methods  we will take parameter as cls \n",
    "        return f\"you have created{cls.count_instances} of person class\"\n",
    "    \n",
    "    \n",
    "    def full_name(self):\n",
    "        return f\"{self.f_name} {self.l_name}\"\n",
    "    def is_above_18(self):\n",
    "        return self.age>18\n",
    "p1=Perso(\"Hrashit\",\"vasistha\",23)\n",
    "p2=Perso(\"somya\",\"jagat\",45)\n",
    "print(Perso.count_instances())\n",
    "#define a class method  which return string ,how many instance you have created of a class\n",
    "\"you have created 4 instances of person class\""
   ]
  },
  {
   "cell_type": "markdown",
   "id": "7999d330",
   "metadata": {},
   "source": [
    "# Can you call the base class method without creating an instance?(static method)\n",
    "stAtic method are used when some processing is related to the class but there is no relation to the class or instances.\n",
    "#when we want to pass values from outside and perform some action in the method \n"
   ]
  },
  {
   "cell_type": "code",
   "execution_count": 15,
   "id": "89b86bcf",
   "metadata": {},
   "outputs": [
    {
     "name": "stdout",
     "output_type": "stream",
     "text": [
      "21\n",
      "25\n",
      "True\n"
     ]
    }
   ],
   "source": [
    "from datetime import date\n",
    "  \n",
    "class Person:\n",
    "    def __init__(self, name, age):\n",
    "        self.name = name\n",
    "        self.age = age\n",
    "      \n",
    "    # a class method to create a Person object by birth year.\n",
    "    @classmethod\n",
    "    def fromBirthYear(cls, name, year):\n",
    "        return cls(name, date.today().year - year)\n",
    "      \n",
    "    # a static method to check if a Person is adult or not.\n",
    "    @staticmethod\n",
    "    def isAdult(age):\n",
    "        return age > 18\n",
    "  \n",
    "person1 = Person('mayank', 21)\n",
    "person2 = Person.fromBirthYear('mayank', 1996)\n",
    "  \n",
    "print (person1.age)\n",
    "print (person2.age)\n",
    "  \n",
    "# print the result\n",
    "print (Person.isAdult(22))"
   ]
  },
  {
   "cell_type": "markdown",
   "id": "1f9e4311",
   "metadata": {},
   "source": [
    "# Encapsulation :bind the useful data and code in 1 single unit\n",
    "#we have variables a,b,c in a aprogram and again after 1000 lines again we made a,d ,e variables ,so there will be problem to resolve this probelm we use encapsulation(make private,public,protected)\n",
    "#abstraction: hide the internal functionality of the function from the users.  User is familiar with that \"what function does\" but they don't know \"how it does.\"\n",
    "\n",
    "#naming convention :_name(koi chedchad na kre ,because y private h )\n",
    "__name__:#dunder/magic methods "
   ]
  },
  {
   "cell_type": "code",
   "execution_count": 20,
   "id": "fda8cfe0",
   "metadata": {},
   "outputs": [
    {
     "name": "stdout",
     "output_type": "stream",
     "text": [
      "2000\n",
      "{'brand': 'nokia', 'model_name': '1100', '_price': 2000}\n"
     ]
    }
   ],
   "source": [
    "class Phone:\n",
    "    def __init__(self,brand,model_name,price):\n",
    "        #instance bvariables \n",
    "        self.brand=brand\n",
    "        self.model_name=model_name\n",
    "        self._price=price\n",
    "    def make_a_call(self,phone_number):\n",
    "        print(f\"calling{phone_number}\")\n",
    "    def full_name(self):\n",
    "        return f\"{self.brand} {self.model_name}\"\n",
    "    def send_message(Self):\n",
    "        pass    \n",
    "p1=Phone('nokia','1100',2000)\n",
    "print(p1._price)  \n",
    "print(p1.__dict__)"
   ]
  },
  {
   "cell_type": "code",
   "execution_count": 4,
   "id": "bb31eedd",
   "metadata": {},
   "outputs": [
    {
     "name": "stdout",
     "output_type": "stream",
     "text": [
      "['my', 'name', 'is', 'jyoti']\n"
     ]
    }
   ],
   "source": [
    "a=\"my name is jyoti\"\n",
    "res=a.split(\" \")\n",
    "print(res)"
   ]
  },
  {
   "cell_type": "markdown",
   "id": "66c3a566",
   "metadata": {},
   "source": [
    "# Book coding"
   ]
  },
  {
   "cell_type": "code",
   "execution_count": 1,
   "id": "3ed2505a",
   "metadata": {},
   "outputs": [
    {
     "name": "stdout",
     "output_type": "stream",
     "text": [
      "hello world\n"
     ]
    }
   ],
   "source": [
    "print(\"hello world\")  #to print something on the screen \n"
   ]
  },
  {
   "cell_type": "code",
   "execution_count": 2,
   "id": "ced58bdd",
   "metadata": {},
   "outputs": [
    {
     "ename": "TypeError",
     "evalue": "can only concatenate str (not \"int\") to str",
     "output_type": "error",
     "traceback": [
      "\u001b[1;31m---------------------------------------------------------------------------\u001b[0m",
      "\u001b[1;31mTypeError\u001b[0m                                 Traceback (most recent call last)",
      "\u001b[1;32m<ipython-input-2-881285b073e6>\u001b[0m in \u001b[0;36m<module>\u001b[1;34m\u001b[0m\n\u001b[1;32m----> 1\u001b[1;33m \u001b[0mprint\u001b[0m\u001b[1;33m(\u001b[0m\u001b[1;34m\"42\"\u001b[0m\u001b[1;33m+\u001b[0m\u001b[1;36m3\u001b[0m\u001b[1;33m)\u001b[0m\u001b[1;33m\u001b[0m\u001b[1;33m\u001b[0m\u001b[0m\n\u001b[0m",
      "\u001b[1;31mTypeError\u001b[0m: can only concatenate str (not \"int\") to str"
     ]
    }
   ],
   "source": [
    "print(\"42\"+3)  "
   ]
  },
  {
   "cell_type": "code",
   "execution_count": 8,
   "id": "e9f59c63",
   "metadata": {},
   "outputs": [
    {
     "name": "stdout",
     "output_type": "stream",
     "text": [
      "8\n",
      "0\n",
      "2\n",
      "2.0\n",
      "8\n",
      "2\n",
      "6\n"
     ]
    }
   ],
   "source": [
    "#operator(Highest to lowest precedence) \n",
    "print(2**3)  #exponent operator \n",
    "print(4%2)  #modulus/remainder operator\n",
    "print(4//2) #integer /floored quotient\n",
    "print(4/2)   #float division\n",
    "print(4*2)   #multiplication\n",
    "print(4-2)   #subtraction\n",
    "\n",
    "print(4+2)  #ddition"
   ]
  },
  {
   "cell_type": "code",
   "execution_count": 14,
   "id": "bed5e78b",
   "metadata": {},
   "outputs": [
    {
     "name": "stdout",
     "output_type": "stream",
     "text": [
      " \n",
      "alicebob\n",
      "alicealicealicealicealice\n"
     ]
    },
    {
     "ename": "TypeError",
     "evalue": "can't multiply sequence by non-int of type 'str'",
     "output_type": "error",
     "traceback": [
      "\u001b[1;31m---------------------------------------------------------------------------\u001b[0m",
      "\u001b[1;31mTypeError\u001b[0m                                 Traceback (most recent call last)",
      "\u001b[1;32m<ipython-input-14-bf81c9faef3c>\u001b[0m in \u001b[0;36m<module>\u001b[1;34m\u001b[0m\n\u001b[0;32m      6\u001b[0m \u001b[1;31m#string replication:repeat string number of times using * operator\u001b[0m\u001b[1;33m\u001b[0m\u001b[1;33m\u001b[0m\u001b[1;33m\u001b[0m\u001b[0m\n\u001b[0;32m      7\u001b[0m \u001b[0mprint\u001b[0m\u001b[1;33m(\u001b[0m\u001b[1;34m\"alice\"\u001b[0m\u001b[1;33m*\u001b[0m\u001b[1;36m5\u001b[0m\u001b[1;33m)\u001b[0m\u001b[1;33m\u001b[0m\u001b[1;33m\u001b[0m\u001b[0m\n\u001b[1;32m----> 8\u001b[1;33m \u001b[0mprint\u001b[0m\u001b[1;33m(\u001b[0m\u001b[1;34m\"alice\"\u001b[0m\u001b[1;33m*\u001b[0m\u001b[1;34m\"bob\"\u001b[0m\u001b[1;33m)\u001b[0m\u001b[1;33m\u001b[0m\u001b[1;33m\u001b[0m\u001b[0m\n\u001b[0m",
      "\u001b[1;31mTypeError\u001b[0m: can't multiply sequence by non-int of type 'str'"
     ]
    }
   ],
   "source": [
    "#data types :int.floatingpoint, string \n",
    "print(\" \") #empty string /blank string \n",
    "#string concatenation and replication\n",
    "print(\"alice\"+\"bob\")\n",
    "#we can not add number with string print(\"alice\"+42) \n",
    "#string replication:repeat string number of times using * operator \n",
    "print(\"alice\"*5)\n",
    "print(\"alice\"*\"bob\")  # we can not multiply string with string "
   ]
  },
  {
   "cell_type": "code",
   "execution_count": 17,
   "id": "bc18bbb6",
   "metadata": {},
   "outputs": [
    {
     "name": "stdout",
     "output_type": "stream",
     "text": [
      "40\n",
      "70\n"
     ]
    }
   ],
   "source": [
    "#variables:just like a box in a computer memory where we can store a single value\n",
    "#assignment statements: consisit of   variable name=value\n",
    "spam=42\n",
    "#averwriting the variables \n",
    "a=40\n",
    "b=10\n",
    "print(a)\n",
    "a=60\n",
    "print(a+b)  #here a value has been changed now ,it is called overwriting (means old value is forgotten)\n",
    "#rule for variable name:\n",
    "print(\"it can be only 1 word with no spaces.,use only letters,numbers,and(undersocre),can not begin with numbers,$@#(special characters)\")"
   ]
  },
  {
   "cell_type": "code",
   "execution_count": null,
   "id": "94a5c15a",
   "metadata": {},
   "outputs": [],
   "source": [
    "#python is case sensitive language spam,SPAM,Spam,SPam all are different variable names.\n",
    "#program :say hello and ask for user name \n",
    "print(\"Hello world\")\n",
    "myName=input(\"what is your name\")\n"
   ]
  },
  {
   "cell_type": "code",
   "execution_count": 22,
   "id": "b2cdf9a5",
   "metadata": {},
   "outputs": [
    {
     "name": "stdout",
     "output_type": "stream",
     "text": [
      "take the input from the user and always take input as string \n",
      "print is use to print something on the screen\n",
      "len() will count the length of the string\n",
      "3.0\n"
     ]
    }
   ],
   "source": [
    "print(\"take the input from the user and always take input as string \")\n",
    "print(\"print is use to print something on the screen\")\n",
    "print(\"len() will count the length of the string\")\n",
    "#str(),int(),float() functions:change value into string,integer,float\n"
   ]
  },
  {
   "cell_type": "code",
   "execution_count": 30,
   "id": "d231bbb0",
   "metadata": {},
   "outputs": [
    {
     "name": "stdout",
     "output_type": "stream",
     "text": [
      "* multiply operator\n",
      "<class 'float'>\n",
      "<class 'int'>\n",
      "spamspamspam\n",
      "spamspamspam\n"
     ]
    },
    {
     "data": {
      "text/plain": [
       "'i have eaten99buritos'"
      ]
     },
     "execution_count": 30,
     "metadata": {},
     "output_type": "execute_result"
    }
   ],
   "source": [
    "#practice questions \n",
    "print(\"* multiply operator\")\n",
    "print(type(-88.4))  #float\n",
    "print(type(5))  #int\n",
    "bacon=20\n",
    "bacon+1\n",
    "print(\"spam\"+\"spamspam\")\n",
    "print(\"spam\"*3)\n",
    "'i have eaten'+'99'+'buritos'"
   ]
  },
  {
   "cell_type": "markdown",
   "id": "af71f85d",
   "metadata": {},
   "source": [
    "# Flow Control:these statements can decide which python instructions can execute under which conditions."
   ]
  },
  {
   "cell_type": "code",
   "execution_count": 41,
   "id": "23a9acf8",
   "metadata": {},
   "outputs": [
    {
     "name": "stdout",
     "output_type": "stream",
     "text": [
      "True\n",
      "False\n",
      "True\n",
      "True\n",
      "True\n",
      "True\n",
      "False\n",
      "== operator  check wheter 2 values are same of each other \n",
      "\n"
     ]
    }
   ],
   "source": [
    "#Boolean value \n",
    "a=True\n",
    "print(a)\n",
    "b=False\n",
    "print(b)\n",
    "#True=2+2\n",
    "print(True)\n",
    "\n",
    "\n",
    "#Comparison operator/relational operator :compare 2 values and give result as a boolean value.\n",
    "\n",
    "print(42==42)  #equal to\n",
    "print(42!=43)  #not equal to \n",
    "print(3<4,)   #less than ,less than equal to\n",
    "print(5>6)    #greate than ,greater than equal to \n",
    "\n",
    "print(\"== (equal to operator ) check wheter 2 values are same of each other \")\n",
    "print(\"=(assignment)operator put the right side value on the left side\")\n",
    "#BOOLEAN OPERATOR:\n",
    "print(\"True and False both are the binary boolean operator,if any 1 condition is false then result will be false\")\n",
    "print(\"or operator ,in this 1 condition should be true ,result will be true otherwise false\")\n",
    "print(\"not operator simply evaluates opposite to the boolean value not true(False),not false(True)\")"
   ]
  },
  {
   "cell_type": "markdown",
   "id": "d35d622c",
   "metadata": {},
   "source": [
    "# Elements of flow control :condition+block of code(clause)"
   ]
  },
  {
   "cell_type": "code",
   "execution_count": 5,
   "id": "7de2612e",
   "metadata": {},
   "outputs": [
    {
     "name": "stdout",
     "output_type": "stream",
     "text": [
      "hello jyoti\n",
      "access denied\n"
     ]
    }
   ],
   "source": [
    "#### if-else:if statement is use to check the condition if true then if part will execute otherwise else part will execute .\n",
    "age=int(input(\"enter your age\"))\n",
    "if age>=14:\n",
    "    print(\"you are above 14\")\n",
    "else:\n",
    "    print(\"your are below 14\")"
   ]
  },
  {
   "cell_type": "code",
   "execution_count": null,
   "id": "bf80ff7f",
   "metadata": {},
   "outputs": [],
   "source": [
    "#exercise:number guessing game ,make a variable ,like winning_number and assign any number to it \n",
    "#ask user to guess a number \n",
    "#if user guessed correctly then print you won  #\n",
    "#if user did not guessed correctly then :user guessed lower than actual number then print too low\n",
    "#if user guessed higher than actual number then print too high \n",
    "win_num=27\n",
    "winning_number=int(input(\"Enter some random number\"))\n",
    "if winning_number==win_num:\n",
    "    print(\"you won\")\n",
    "else:\n",
    "    if winning_number<win_num:\n",
    "        print(\"too low\")\n",
    "    else:\n",
    "        print(\"too high\")"
   ]
  },
  {
   "cell_type": "code",
   "execution_count": null,
   "id": "f4089f8c",
   "metadata": {},
   "outputs": [],
   "source": [
    "#if-elif-else     when we have multiple condition \n",
    "age=int(input(\"Enter user age\"))\n",
    "if 0<age<=3:\n",
    "    print(\"Ticket price free\")\n",
    "elif 3<age<=10:\n",
    "    print(\"150 is the fare\")\n",
    "elif 10<age<=60:\n",
    "    print(\"fare is 250\")\n",
    "else:\n",
    "    print(\"ticket price is 200\")"
   ]
  },
  {
   "cell_type": "markdown",
   "id": "1b05c2b7",
   "metadata": {},
   "source": [
    "# while loop:as long as condition is true,statement is execute,when condition false while loop will stop the execution\n"
   ]
  },
  {
   "cell_type": "code",
   "execution_count": 6,
   "id": "e3459a31",
   "metadata": {},
   "outputs": [
    {
     "name": "stdout",
     "output_type": "stream",
     "text": [
      "hello world\n",
      "hello world\n",
      "hello world\n",
      "hello world\n",
      "hello world\n",
      "hello world\n",
      "hello world\n",
      "hello world\n",
      "hello world\n",
      "hello world\n"
     ]
    }
   ],
   "source": [
    "i=1\n",
    "while i<=10:\n",
    "    print(\"hello world\")\n",
    "    i=i+1"
   ]
  },
  {
   "cell_type": "code",
   "execution_count": 7,
   "id": "b8e9d1db",
   "metadata": {},
   "outputs": [
    {
     "name": "stdout",
     "output_type": "stream",
     "text": [
      "210\n"
     ]
    }
   ],
   "source": [
    "#sum using while loop 1 to 20 \n",
    "total=0\n",
    "i=1\n",
    "while i<=20:\n",
    "    total=total+i\n",
    "    i=i+1   #i+=1\n",
    "print(total)    \n"
   ]
  },
  {
   "cell_type": "code",
   "execution_count": 8,
   "id": "06dc229c",
   "metadata": {},
   "outputs": [
    {
     "name": "stdout",
     "output_type": "stream",
     "text": [
      "1\n",
      "2\n",
      "3\n",
      "4\n",
      "\n",
      "\n",
      "1\n",
      "2\n",
      "3\n",
      "4\n",
      "6\n",
      "7\n",
      "8\n",
      "9\n",
      "10\n"
     ]
    }
   ],
   "source": [
    "#break and continue keyword\n",
    "for i in range(1,11):\n",
    "    if i==5:\n",
    "        break\n",
    "    print(i)     #when condition met it will terminate the execution \n",
    "print(\"\\n\")\n",
    "for i in range(1,11):\n",
    "    if i==5:\n",
    "        continue\n",
    "    print(i)  #it will skip only those part where condition met "
   ]
  },
  {
   "cell_type": "code",
   "execution_count": null,
   "id": "6b273caf",
   "metadata": {},
   "outputs": [],
   "source": [
    "#program of break and continue \n",
    "while True:\n",
    "    name=input(\"who are you\")\n",
    "    if name!=\"Joe\":\n",
    "        continue\n",
    "    print(\"Hello joe,what is the passowrd(IT IS A FISH)\")\n",
    "    password=input(\"enter the password\")\n",
    "    if password==\"swordfish\":\n",
    "        break\n",
    "    print(\"access granted\")"
   ]
  },
  {
   "cell_type": "code",
   "execution_count": 7,
   "id": "7443793e",
   "metadata": {},
   "outputs": [
    {
     "name": "stdout",
     "output_type": "stream",
     "text": [
      "0.1.2.3.4.\n",
      "\n",
      "12 13 14 15 16 \n",
      "\n",
      "1,3,5,7,9,"
     ]
    }
   ],
   "source": [
    "#for loop(want to execute code certains numbers of times we use for loop) and range() function  \n",
    "for i in range(5):\n",
    "    print(i,end=\".\")\n",
    "print(\"\\n\")\n",
    "#range(start,stop-1,step):create only range from start to end point-1\n",
    "for i in range(12,17):\n",
    "    print(i,end=\" \")\n",
    "print(\"\\n\")\n",
    "for i in range(1,10,2):\n",
    "    print(i,end=\",\")"
   ]
  },
  {
   "cell_type": "code",
   "execution_count": null,
   "id": "0bcd8115",
   "metadata": {},
   "outputs": [],
   "source": [
    "#importing modules   standard library:python comes with set of modules called standard library.\n",
    "import math #math maodule have mathematical  related functions \n",
    "import random #have random number realted functions \n",
    "from random import*   #all random number related functions import "
   ]
  },
  {
   "cell_type": "markdown",
   "id": "52ec0fe4",
   "metadata": {},
   "source": [
    "# Functions "
   ]
  }
 ],
 "metadata": {
  "kernelspec": {
   "display_name": "Python 3",
   "language": "python",
   "name": "python3"
  },
  "language_info": {
   "codemirror_mode": {
    "name": "ipython",
    "version": 3
   },
   "file_extension": ".py",
   "mimetype": "text/x-python",
   "name": "python",
   "nbconvert_exporter": "python",
   "pygments_lexer": "ipython3",
   "version": "3.8.8"
  }
 },
 "nbformat": 4,
 "nbformat_minor": 5
}
