{
 "cells": [
  {
   "cell_type": "code",
   "execution_count": 3,
   "id": "a7ad285e",
   "metadata": {},
   "outputs": [],
   "source": [
    "#how memeory managed in python\n",
    " #scope resolution\n",
    "#.How to combine dataframes in pandas?\n",
    "#what are the pickling and unpickling \n",
    "#what are the generators?\n",
    "#Whenever Python exits, why isn’t all the memory de-allocated\n",
    "Q51. Explain split(), sub(), subn() methods of “re” module in Python\n",
    "Q49. What does this mean: *args, **kwargs? And why would we use it?\n",
    "    Q48. How can the ternary operators be used in python?"
   ]
  },
  {
   "cell_type": "code",
   "execution_count": null,
   "id": "589db5bf",
   "metadata": {},
   "outputs": [],
   "source": []
  },
  {
   "cell_type": "code",
   "execution_count": null,
   "id": "6a9873f3",
   "metadata": {},
   "outputs": [],
   "source": []
  },
  {
   "cell_type": "code",
   "execution_count": 4,
   "id": "b93593d4",
   "metadata": {},
   "outputs": [
    {
     "name": "stdout",
     "output_type": "stream",
     "text": [
      "python is general purpose high level programming language,highly interpreted,free,easy to use,huge library,object-oriented,portable,dynamically typed language,plateform independent\n"
     ]
    }
   ],
   "source": [
    "#what are the key features of python?\n",
    "print(\"python is general purpose high level programming language,highly interpreted,free,easy to use,huge library,object-oriented,portable,dynamically typed language,plateform independent\")\n",
    "\n"
   ]
  },
  {
   "cell_type": "code",
   "execution_count": 5,
   "id": "0d27ebf8",
   "metadata": {},
   "outputs": [
    {
     "name": "stdout",
     "output_type": "stream",
     "text": [
      "in python our code execute line by line,python program run directly from the source code,with no intermediary compilation step.\n"
     ]
    }
   ],
   "source": [
    "#python is an interpretd language?expalin\n",
    "print(\"in python our code execute line by line,python program run directly from the source code,with no intermediary compilation step.\")"
   ]
  },
  {
   "cell_type": "code",
   "execution_count": 1,
   "id": "9fd14871",
   "metadata": {},
   "outputs": [
    {
     "name": "stdout",
     "output_type": "stream",
     "text": [
      "['jyoti', 'karan', 1, 2, 3.4]\n",
      "('apple', 'banana', 4, 5, 6.7)\n"
     ]
    },
    {
     "ename": "AttributeError",
     "evalue": "'list' object has no attribute '__dict__'",
     "output_type": "error",
     "traceback": [
      "\u001b[1;31m---------------------------------------------------------------------------\u001b[0m",
      "\u001b[1;31mAttributeError\u001b[0m                            Traceback (most recent call last)",
      "\u001b[1;32m<ipython-input-1-de7ab4893a6b>\u001b[0m in \u001b[0;36m<module>\u001b[1;34m\u001b[0m\n\u001b[0;32m      6\u001b[0m \u001b[1;31m#list are mutable (we can add,delete data ),list are slower than tuple,consume lots of memory\u001b[0m\u001b[1;33m\u001b[0m\u001b[1;33m\u001b[0m\u001b[1;33m\u001b[0m\u001b[0m\n\u001b[0;32m      7\u001b[0m \u001b[1;31m#tuple are immutable(created tuple but can't change after creating tuple),faster,consume less memory\u001b[0m\u001b[1;33m\u001b[0m\u001b[1;33m\u001b[0m\u001b[1;33m\u001b[0m\u001b[0m\n\u001b[1;32m----> 8\u001b[1;33m \u001b[0mprint\u001b[0m\u001b[1;33m(\u001b[0m\u001b[0ml\u001b[0m\u001b[1;33m.\u001b[0m\u001b[0m__dict__\u001b[0m\u001b[1;33m)\u001b[0m\u001b[1;33m\u001b[0m\u001b[1;33m\u001b[0m\u001b[0m\n\u001b[0m",
      "\u001b[1;31mAttributeError\u001b[0m: 'list' object has no attribute '__dict__'"
     ]
    }
   ],
   "source": [
    "#difference between list and tuple \n",
    "l=['jyoti','karan',1,2,3.4]\n",
    "print(l)\n",
    "t=('apple','banana',4,5,6.7)\n",
    "print(t)\n",
    "#list are mutable (we can add,delete data ),list are slower than tuple,consume lots of memory\n",
    "#tuple are immutable(created tuple but can't change after creating tuple),faster,consume less memory\n"
   ]
  },
  {
   "cell_type": "code",
   "execution_count": 7,
   "id": "87ae8c9f",
   "metadata": {},
   "outputs": [],
   "source": [
    "#pep8:python enhancement proposal::it is set of rules that specify how to write &design python code with maximum readibility.\n",
    "#PYTHONPATH-it tells python interpreter where to locate the module files imported into a program."
   ]
  },
  {
   "cell_type": "code",
   "execution_count": 6,
   "id": "07bf8ec6",
   "metadata": {},
   "outputs": [
    {
     "name": "stdout",
     "output_type": "stream",
     "text": [
      "amit\n",
      "amit narwal\n",
      "True\n",
      "namespaces {'fname': 'amit', 'lname': 'narwal', 'age': 34}\n"
     ]
    }
   ],
   "source": [
    "#what are the python namespaces:object k pas konse variable h (object  have which type of variables )\n",
    "class Person:\n",
    "    def __init__(self,fname,lname,age):  #class parameter\n",
    "        #instance variables\n",
    "        self.fname=fname\n",
    "        self.lname=lname\n",
    "        self.age=age\n",
    "    def fullname(self,):  #koi bhi function  class k andar wo method hota h \n",
    "        return f\"{self.fname} {self.lname}\"\n",
    "    def is_above(self):\n",
    "        return self.age>True\n",
    "        \n",
    "p=Person(\"amit\",\"narwal\",34)\n",
    "print(p.fname)\n",
    "print(p.fullname())\n",
    "print(p.is_above())\n",
    "print(\"namespaces\",p.__dict__)\n",
    "\n",
    "\n",
    "print(\"\\n\")\n",
    "#what are the python name spaces ?\n",
    "print(\"A namespace is a system that has a unique name for each and every object in Python,so that we can avoids naming conflicts .\")\n",
    "var1 = 5   #global namespace\n",
    "def some_func():\n",
    " \n",
    "   \n",
    "    var2 = 6  #local name space \n",
    "    def some_inner_func():\n",
    " \n",
    "        # var3 is in the nested local\n",
    "        # namespace\n",
    "        var3 = 7"
   ]
  },
  {
   "cell_type": "code",
   "execution_count": 8,
   "id": "a4deaf4a",
   "metadata": {},
   "outputs": [],
   "source": [
    "#python modules :those file which contain python code(may be statements,class,functions,or variables) called module..py file contain executable code.\n",
    "#os,sys,math,JSON"
   ]
  },
  {
   "cell_type": "code",
   "execution_count": 9,
   "id": "45dbc815",
   "metadata": {},
   "outputs": [],
   "source": [
    "#decorators:use to increase functionality of another function  @sign is use to define a decorator "
   ]
  },
  {
   "cell_type": "code",
   "execution_count": 10,
   "id": "0f688a2f",
   "metadata": {},
   "outputs": [
    {
     "name": "stdout",
     "output_type": "stream",
     "text": [
      "[1, 4, 9, 16, 25, 36, 49, 64, 81, 100]\n",
      "\n",
      "\n",
      "[1, 4, 9, 16, 25, 36, 49, 64, 81, 100]\n",
      "\n",
      "\n",
      "[-1, -2, -3, -4, -5, -6, -7, -8, -9, -10]\n",
      "\n",
      "\n",
      "\n",
      "[-1, -2, -3, -4, -5, -6, -7, -8, -9, -10]\n",
      "['h', 'm', 'r']\n",
      "using list comprehension\n",
      "['h', 'm', 'r']\n"
     ]
    }
   ],
   "source": [
    "#what are dict and list comprehension?\n",
    "#list comprehension:create a list in 1 line with the help of comprehension\n",
    "#syntax:[expression for item in list]\n",
    "squares=[]\n",
    "\n",
    "for i in range(1,11):\n",
    "    squares.append(i**2)\n",
    "print(squares)\n",
    "print(\"\\n\")\n",
    "sqaures2=[i**2 for i in range(1,11)]\n",
    "print(sqaures2)\n",
    "print(\"\\n\")\n",
    "#print list 1 to 10 in negative \n",
    "s2=[]\n",
    "for i in range(1,11):\n",
    "    s2.append(-i)\n",
    "print(s2)\n",
    "print(\"\\n\\n\") \n",
    "neg=[(-i) for i in range(1,11)]\n",
    "print(neg)\n",
    "\n",
    "names=['harshit','mohit','rohit']  #output=['h','m',r]\n",
    "new_list=[]\n",
    "for name in names:\n",
    "    new_list.append(name[0])\n",
    "print(new_list)\n",
    "\n",
    "print(\"using list comprehension\")\n",
    "li_nam=[]\n",
    "name_list=[name[0] for name in names]\n",
    "print(name_list)"
   ]
  },
  {
   "cell_type": "code",
   "execution_count": null,
   "id": "143268c4",
   "metadata": {},
   "outputs": [],
   "source": [
    "#function:group of related statement that performs some specific task .function allows us to divide large programs into smaller part.\n",
    "#function provide reusabiltiy of code.and avoid repititon of code .\n",
    "#type:1)user defined  2)in bulilt function"
   ]
  },
  {
   "cell_type": "code",
   "execution_count": 10,
   "id": "898ecae1",
   "metadata": {},
   "outputs": [
    {
     "name": "stdout",
     "output_type": "stream",
     "text": [
      "[1, 2, 3, 4, 5]\n",
      "{'a': 1, 'e': 2, 'i': 3, 'o': 4, 'u': 5}\n"
     ]
    }
   ],
   "source": [
    "#dict comprehension:in the form of key:value \n",
    "key=['a','e','i','o','u']\n",
    "value=list(range(1,6))\n",
    "print(value)\n",
    "my_dict={k:v for (k,v) in zip(key,value)}\n",
    "print(my_dict)"
   ]
  },
  {
   "cell_type": "code",
   "execution_count": 11,
   "id": "5683a1cd",
   "metadata": {},
   "outputs": [
    {
     "name": "stdout",
     "output_type": "stream",
     "text": [
      "number,list,strig,dictionary,set,boolean,tuple\n"
     ]
    }
   ],
   "source": [
    "#what are the common built in data types in python?\n",
    "print(\"number,list,strig,dictionary,set,boolean,tuple\")"
   ]
  },
  {
   "cell_type": "code",
   "execution_count": 12,
   "id": "8a2fc30e",
   "metadata": {},
   "outputs": [],
   "source": [
    "#difference between .py and .pyc ?\n",
    "#.py python source code \n",
    "#.pyc-byte python source code (.pyc files created when code imported from some other source)"
   ]
  },
  {
   "cell_type": "code",
   "execution_count": 13,
   "id": "37f30408",
   "metadata": {},
   "outputs": [
    {
     "name": "stdout",
     "output_type": "stream",
     "text": [
      "karan\n"
     ]
    }
   ],
   "source": [
    "#what is slicing in python?  object[start:stop-1:step]\n",
    "#to access the elemnts we use slices \n",
    "a=[1,2,'amit','karan','jyoti',5]\n",
    "print(a[3])  #here start and stop are optional \n"
   ]
  },
  {
   "cell_type": "code",
   "execution_count": 14,
   "id": "8b74d7a2",
   "metadata": {},
   "outputs": [
    {
     "name": "stdout",
     "output_type": "stream",
     "text": [
      "keyword are reserved words which have special meaning.total 33 keywords\n",
      "['False', 'None', 'True', 'and', 'as', 'assert', 'async', 'await', 'break', 'class', 'continue', 'def', 'del', 'elif', 'else', 'except', 'finally', 'for', 'from', 'global', 'if', 'import', 'in', 'is', 'lambda', 'nonlocal', 'not', 'or', 'pass', 'raise', 'return', 'try', 'while', 'with', 'yield']\n"
     ]
    }
   ],
   "source": [
    "#what are the keywords in python?\n",
    "print(\"keyword are reserved words which have special meaning.total 33 keywords\")\n",
    "import keyword\n",
    "print(keyword.kwlist)"
   ]
  },
  {
   "cell_type": "code",
   "execution_count": 15,
   "id": "ff903aac",
   "metadata": {},
   "outputs": [
    {
     "name": "stdout",
     "output_type": "stream",
     "text": [
      "literals can be defined as data that is given in a variable or constant \n",
      "single,double,triple quotes\n"
     ]
    }
   ],
   "source": [
    "#what are the literals in python and explain about different literals?\n",
    "\n",
    "print(\"literals can be defined as data that is given in a variable or constant \")\n",
    "print(\"single,double,triple quotes\")\n",
    "#numeric literals a=10,b=10.5,c=9+2j\n",
    "#special literals a=None\n",
    "#collection literals:list,set,tuple,dictionary"
   ]
  },
  {
   "cell_type": "code",
   "execution_count": 16,
   "id": "5b81f727",
   "metadata": {},
   "outputs": [
    {
     "name": "stdout",
     "output_type": "stream",
     "text": [
      "False\n"
     ]
    }
   ],
   "source": [
    "#python is case sensitive language \n",
    "name=\"jyoti\"\n",
    "NAME=\"KARAN\"\n",
    "print(name is NAME) #NAME AND nAME ARE 2 different variables "
   ]
  },
  {
   "cell_type": "code",
   "execution_count": 17,
   "id": "0c0ea0a3",
   "metadata": {},
   "outputs": [],
   "source": [
    "#what is type conversion in python ?\n",
    "#int(),str(),bin(),hex(),list(),tuple(),complex(real,img)"
   ]
  },
  {
   "cell_type": "code",
   "execution_count": 18,
   "id": "f4ff6537",
   "metadata": {},
   "outputs": [
    {
     "name": "stdout",
     "output_type": "stream",
     "text": [
      "yes,it specifies block of code \n"
     ]
    }
   ],
   "source": [
    "#s indentation required in python?\n",
    "print(\"yes,it specifies block of code \")"
   ]
  },
  {
   "cell_type": "code",
   "execution_count": 8,
   "id": "9a91b49f",
   "metadata": {},
   "outputs": [
    {
     "name": "stdout",
     "output_type": "stream",
     "text": [
      "array hold similar data type values but list can contain mixed data types values\n",
      "array module is import but in list not need any module\n",
      "prefferd for longer sequence data items but list for shorter\n",
      "less flexible but list more flexible because of adding,delting etc.\n",
      "array('d', [2.5, 3.2, 3.3])\n",
      "array('d', [2.5, 4.0, 3.2, 3.3])\n"
     ]
    }
   ],
   "source": [
    "#difference between python array and list data type\n",
    "print(\"array hold similar data type values but list can contain mixed data types values\")\n",
    "print(\"array module is import but in list not need any module\")\n",
    "print(\"prefferd for longer sequence data items but list for shorter\")\n",
    "print(\"less flexible because adding,deleting element wise  but list more flexible because of adding,delting etc.\")\n",
    "print(\"both can handle directly airthemetic operations \")\n",
    "import array as arr\n",
    "b = arr.array('d', [2.5, 3.2, 3.3])\n",
    "print(b)\n",
    "b.insert(1,4)\n",
    "print(b)"
   ]
  },
  {
   "cell_type": "code",
   "execution_count": 20,
   "id": "52359239",
   "metadata": {},
   "outputs": [
    {
     "name": "stdout",
     "output_type": "stream",
     "text": [
      "['pineapple', 'kiwi', 'banana', 'apple']\n"
     ]
    }
   ],
   "source": [
    " #What does [::-1} do?\n",
    "name=['apple','banana','kiwi','pineapple']\n",
    "print(name[::-1])  #reverse of the list elements"
   ]
  },
  {
   "cell_type": "code",
   "execution_count": 37,
   "id": "f8f8ca02",
   "metadata": {},
   "outputs": [
    {
     "name": "stdout",
     "output_type": "stream",
     "text": [
      "=====\n",
      "=====\n",
      "             Date/Time  Temp_C  Dew Point Temp_C  Rel Hum_%  Wind Speed_km/h  \\\n",
      "0        01-01-12 0:00    -1.8              -3.9         86                4   \n",
      "1        01-01-12 1:00    -1.8              -3.7         87                4   \n",
      "2        01-01-12 2:00    -1.8              -3.4         89                7   \n",
      "3        01-01-12 3:00    -1.5              -3.2         88                6   \n",
      "4        01-01-12 4:00    -1.5              -3.3         88                7   \n",
      "8779  12/31/2012 19:00     0.1              -2.7         81               30   \n",
      "8780  12/31/2012 20:00     0.2              -2.4         83               24   \n",
      "8781  12/31/2012 21:00    -0.5              -1.5         93               28   \n",
      "8782  12/31/2012 22:00    -0.2              -1.8         89               28   \n",
      "8783  12/31/2012 23:00     0.0              -2.1         86               30   \n",
      "\n",
      "      Visibility_km  Press_kPa               Weather  \n",
      "0               8.0     101.24                   Fog  \n",
      "1               8.0     101.24                   Fog  \n",
      "2               4.0     101.26  Freezing Drizzle,Fog  \n",
      "3               4.0     101.27  Freezing Drizzle,Fog  \n",
      "4               4.8     101.23                   Fog  \n",
      "8779            9.7     100.13                  Snow  \n",
      "8780            9.7     100.03                  Snow  \n",
      "8781            4.8      99.95                  Snow  \n",
      "8782            9.7      99.91                  Snow  \n",
      "8783           11.3      99.89                  Snow  \n"
     ]
    }
   ],
   "source": [
    "#how to combine dataframe in pandas ?\n",
    "#concatenating dataframes:use to append either columns or rows from 1 dataframe to another.\n",
    "import pandas as pd\n",
    "data=pd.read_csv(\"Weather.csv\")\n",
    "d1=data.head(5)\n",
    "d2=data.tail(5)\n",
    "#print(d1)\n",
    "#print(\"\\n \",d2)\n",
    "frames=[d1,d2]\n",
    "#pd.concat(objs,axis=0,join='outer',join_axes=None,ignore_index=Flase)\n",
    "\n",
    "\n",
    "#print(\"join(outer(union,default),inner(intersection)),how to handle indexes on other axis\")\n",
    "print(\"=====\\n=====\")\n",
    "#print(pd.concat(frames))  #it will give data as it is nothing wiil change no index nothing\n",
    "#print(pd.concat(frames,keys=['x','y'],ignore_index=True))  #keys is use to define the data from which dataframe data have been taken \n",
    "#ignore_index=True means it will give the index in order 0,1,2,3,4 \n",
    "\n",
    "\n",
    "#using append we can also add 2 data frame \n",
    "print(d1.append(d2))"
   ]
  },
  {
   "cell_type": "code",
   "execution_count": 38,
   "id": "a3c66f53",
   "metadata": {},
   "outputs": [
    {
     "name": "stdout",
     "output_type": "stream",
     "text": [
      "3\n"
     ]
    }
   ],
   "source": [
    "#what are the global and local varaibles?\n",
    "#local variables and global variables \n",
    "a= 3   #global variable (those variable which is defined outside any function and can also access outside the function )\n",
    "def func():\n",
    "        x=7   #local variable (those variables which are defined inside any function called local variables )\n",
    "        #return x\n",
    "        return a \n",
    "        return \n",
    "def func2():\n",
    "    #print(x)\n",
    "    print(a)\n",
    "#print(func2())   #func()  x variable ka scope only func() tak hi h ,iske bhar hum use nhi kr skte \n",
    "\n",
    "print(func())"
   ]
  },
  {
   "cell_type": "code",
   "execution_count": 42,
   "id": "c8c99429",
   "metadata": {},
   "outputs": [
    {
     "name": "stdout",
     "output_type": "stream",
     "text": [
      "it is a method or constructor.when a new object /instance of a class is created,it is automatically called.all classes have __init__ method.\n",
      "24\n",
      "40000\n"
     ]
    }
   ],
   "source": [
    "#what is __init__?\n",
    "print(\"It is a method or constructor.when a new object /instance of a class is created,it is automatically called.all classes have __init__ method.\")\n",
    "class Employee:\n",
    "    def __init__(self,name,age,salary):\n",
    "        self.name=name\n",
    "        self.age=age\n",
    "        self.salary=salary\n",
    "#create a object instance of a class   \n",
    "E1=Employee(\"jyoti\",24,40000)  #__init__ creates memory allocation for E1\n",
    "print(E1.age)\n",
    "print(E1.salary)\n",
    "#self:self is an object /instance of a class .this is first parameter of function definition."
   ]
  },
  {
   "cell_type": "code",
   "execution_count": null,
   "id": "d87ef961",
   "metadata": {},
   "outputs": [],
   "source": [
    "#What is a lambda function?ananoymous function .single line statement/have no name \n",
    "dd2=lambda a,b:a+b,\n",
    "#we don,t assign lambda expression into any variable  .we use it with in built function \n",
    "\n",
    "is_even=lambda a:a%2==0\n",
    "print(is_even(9))  #False means not even number "
   ]
  },
  {
   "cell_type": "code",
   "execution_count": 50,
   "id": "d414b00d",
   "metadata": {},
   "outputs": [
    {
     "name": "stdout",
     "output_type": "stream",
     "text": [
      "break:allows loop termination when any conditon is met,control is transfer to the next statement\n",
      "continue:allows to skip some part of loop when specific condition is met and controler is transfered to the beginning of the loop\n",
      "pass:when we need any block but want to skip its execution,null operation,nothing will happen when it is executed. \n",
      "1 2 3 4 \n",
      "\n",
      "1 2 3 4 6 7 8 9 10 "
     ]
    }
   ],
   "source": [
    "#break/continue/pass\n",
    "print(\"break:allows loop termination when any conditon is met,control is transfer to the next statement\")\n",
    "print(\"continue:allows to skip some part of loop when specific condition is met and controler is transfered to the beginning of the loop\")\n",
    "print(\"pass:when we need any block but want to skip its execution,null operation,nothing will happen when it is executed. \")\n",
    "#print 1 to 10m\n",
    "for i in range(1,11):\n",
    "    if i==5:\n",
    "        break  #it will stop the execution after meeting specific conditon\n",
    "    print(i,end=\" \")  #now break this loop when i=5\n",
    "print(\"\\n\")\n",
    "#continue keyword\n",
    "for i in range(1,11):\n",
    "    if i==5:\n",
    "        continue #it will skip only  condition, next part will execute \n",
    "    print(i,end=\" \")\n",
    "#pass statement \n",
    "x=18\n",
    "if x>18:\n",
    "    #you dont want to write after this then use pass statement\n",
    "    pass"
   ]
  },
  {
   "cell_type": "code",
   "execution_count": 4,
   "id": "a1783ce1",
   "metadata": {},
   "outputs": [
    {
     "name": "stdout",
     "output_type": "stream",
     "text": [
      "['The', 'Flying', 'Flag', 'Keep', 'High', 'Blue']\n",
      "Shuffle list x in place, and return None.\n",
      "\n",
      "        Optional argument random is a 0-argument function returning a\n",
      "        random float in [0.0, 1.0); if it is the default None, the\n",
      "        standard random.random will be used.\n",
      "\n",
      "        \n"
     ]
    }
   ],
   "source": [
    "#How can you randomize the items of a list in place in Python?\n",
    "from random import shuffle\n",
    "x = ['Keep', 'The', 'Blue', 'Flag', 'Flying', 'High']\n",
    "shuffle(x)\n",
    "print(x) \n",
    "print(shuffle.__doc__)"
   ]
  },
  {
   "cell_type": "code",
   "execution_count": 5,
   "id": "6b142844",
   "metadata": {},
   "outputs": [
    {
     "name": "stdout",
     "output_type": "stream",
     "text": [
      "[1, 2, 'jyoti']\n",
      "1,2,jyoti,"
     ]
    }
   ],
   "source": [
    "#what are the python iterators? which can be traversed all element\n",
    "tu=(1,2,'jyoti')\n",
    "x=iter(tu)\n",
    "print(list(x))\n",
    "\n",
    "for a in tu:\n",
    "    print(a,end=\",\")"
   ]
  },
  {
   "cell_type": "code",
   "execution_count": 72,
   "id": "d3bbaa26",
   "metadata": {},
   "outputs": [
    {
     "name": "stdout",
     "output_type": "stream",
     "text": [
      "it will give float number in between  0.0 and 1.0 0.2544471780458688\n",
      "3\n",
      "karan\n",
      "21\n"
     ]
    }
   ],
   "source": [
    "#How can you generate random numbers in Python?\n",
    "import random \n",
    "print(\"it will give float number in between  0.0 and 1.0\", random.random())\n",
    "print(random.randint(1,4))  #it will give integer  random number between a,b \n",
    "#random.choice(sequence):from the given sequence will give random \n",
    "print(random.choice([4,5,6,7,'karan']))\n",
    "print(random.randrange(1,100,10))  #start,stop,step "
   ]
  },
  {
   "cell_type": "code",
   "execution_count": 5,
   "id": "b255e52b",
   "metadata": {},
   "outputs": [
    {
     "name": "stdout",
     "output_type": "stream",
     "text": [
      "[1, 2, 3, 4, 5, 6, 7, 8, 9, 10]\n"
     ]
    },
    {
     "ename": "NameError",
     "evalue": "name 'xrange' is not defined",
     "output_type": "error",
     "traceback": [
      "\u001b[1;31m---------------------------------------------------------------------------\u001b[0m",
      "\u001b[1;31mNameError\u001b[0m                                 Traceback (most recent call last)",
      "\u001b[1;32m<ipython-input-5-e1a8dbf5e7a2>\u001b[0m in \u001b[0;36m<module>\u001b[1;34m\u001b[0m\n\u001b[0;32m      2\u001b[0m \u001b[0ma\u001b[0m\u001b[1;33m=\u001b[0m\u001b[0mrange\u001b[0m\u001b[1;33m(\u001b[0m\u001b[1;36m1\u001b[0m\u001b[1;33m,\u001b[0m\u001b[1;36m11\u001b[0m\u001b[1;33m)\u001b[0m\u001b[1;33m\u001b[0m\u001b[1;33m\u001b[0m\u001b[0m\n\u001b[0;32m      3\u001b[0m \u001b[0mprint\u001b[0m\u001b[1;33m(\u001b[0m\u001b[0mlist\u001b[0m\u001b[1;33m(\u001b[0m\u001b[0ma\u001b[0m\u001b[1;33m)\u001b[0m\u001b[1;33m)\u001b[0m \u001b[1;31m#it will return only range ,we use lit() then it will create a list\u001b[0m\u001b[1;33m\u001b[0m\u001b[1;33m\u001b[0m\u001b[0m\n\u001b[1;32m----> 4\u001b[1;33m \u001b[0mx\u001b[0m \u001b[1;33m=\u001b[0m \u001b[0mxrange\u001b[0m\u001b[1;33m(\u001b[0m\u001b[1;36m1\u001b[0m\u001b[1;33m,\u001b[0m\u001b[1;36m10000\u001b[0m\u001b[1;33m)\u001b[0m  \u001b[1;31m#it will give error name 'xrange is not defined'\u001b[0m\u001b[1;33m\u001b[0m\u001b[1;33m\u001b[0m\u001b[0m\n\u001b[0m\u001b[0;32m      5\u001b[0m \u001b[0mprint\u001b[0m\u001b[1;33m(\u001b[0m\u001b[0mx\u001b[0m\u001b[1;33m)\u001b[0m\u001b[1;33m\u001b[0m\u001b[1;33m\u001b[0m\u001b[0m\n\u001b[0;32m      6\u001b[0m \u001b[0mprint\u001b[0m\u001b[1;33m(\u001b[0m\u001b[0mtype\u001b[0m\u001b[1;33m(\u001b[0m\u001b[0mx\u001b[0m\u001b[1;33m)\u001b[0m\u001b[1;33m)\u001b[0m\u001b[1;33m\u001b[0m\u001b[1;33m\u001b[0m\u001b[0m\n",
      "\u001b[1;31mNameError\u001b[0m: name 'xrange' is not defined"
     ]
    }
   ],
   "source": [
    "#difference between range and xrange (no xrange in python 3)\n",
    "a=range(1,11)\n",
    "print(list(a)) #it will return only range ,we use lit() then it will create a list \n",
    "#x = xrange(1,10000)  #it will give error name 'xrange is not defined'\n",
    "#print(x)  #but xrange() returns an xrange() object \n",
    "#print(type(x))  \n",
    "#comments"
   ]
  },
  {
   "cell_type": "code",
   "execution_count": 9,
   "id": "ffd96bc2",
   "metadata": {},
   "outputs": [
    {
     "name": "stdout",
     "output_type": "stream",
     "text": [
      "Jyoti\n"
     ]
    }
   ],
   "source": [
    "#How will you capitalize the first letter of string?\n",
    "s=\"jyoti\"\n",
    "print(s.title())"
   ]
  },
  {
   "cell_type": "code",
   "execution_count": 10,
   "id": "d9d808f4",
   "metadata": {},
   "outputs": [
    {
     "name": "stdout",
     "output_type": "stream",
     "text": [
      "hgweweuifjeoirklm\n"
     ]
    }
   ],
   "source": [
    "#How will you convert a string to all lowercase?\n",
    "b=\"HGWEWEUIFJEOIRKLM\"\n",
    "print(b.lower())"
   ]
  },
  {
   "cell_type": "code",
   "execution_count": 11,
   "id": "13fa7060",
   "metadata": {},
   "outputs": [
    {
     "name": "stdout",
     "output_type": "stream",
     "text": [
      "documentation string are written within 3 triple quotes\n",
      "5\n"
     ]
    }
   ],
   "source": [
    "#What are docstrings in Python?\n",
    "print(\"documentation string are written within 3 triple quotes\")\n",
    "'''uhyfioewjfuyegyfijkdhfcvuiohjgfewuijklh'''\n",
    "a=5\n",
    "print(a)"
   ]
  },
  {
   "cell_type": "code",
   "execution_count": 14,
   "id": "748e2bdb",
   "metadata": {},
   "outputs": [
    {
     "name": "stdout",
     "output_type": "stream",
     "text": [
      "True\n",
      "id of a 164723476480\n",
      "id of c 164723480448\n",
      "False\n",
      "False\n",
      "element is present\n"
     ]
    }
   ],
   "source": [
    "#What is the purpose of ‘is’, ‘not’ and ‘in’ operators?\n",
    "#is:when 2 operands are true =True\n",
    "a=[2,3,4]\n",
    "b=[4,5,6]\n",
    "print(a is a)\n",
    "print(\"id of a\",id(a))\n",
    "print(\"id of c\",id(c))\n",
    "c=[2,3,4]\n",
    "print(a is c)  #False because elements are same but storage location is different \n",
    "\n",
    "#returns the inverse of boolean value\n",
    "d=True\n",
    "print(not d)#in :use to check elements is present or not \n",
    "if 2 in a:\n",
    "    print(\"element is present\")\n",
    "else:\n",
    "    print(\"element is not present\")"
   ]
  },
  {
   "cell_type": "code",
   "execution_count": 15,
   "id": "5ee3b773",
   "metadata": {},
   "outputs": [
    {
     "name": "stdout",
     "output_type": "stream",
     "text": [
      "help is a in-built useful function that written the complete documentation of particular method,classes,objects\n",
      "dir() is use to display the defined symbols \n",
      "5\n",
      "Help on function add in module __main__:\n",
      "\n",
      "add(a, b)\n",
      "\n",
      "complete documentation None\n",
      "\n",
      "\n",
      "['__annotations__', '__call__', '__class__', '__closure__', '__code__', '__defaults__', '__delattr__', '__dict__', '__dir__', '__doc__', '__eq__', '__format__', '__ge__', '__get__', '__getattribute__', '__globals__', '__gt__', '__hash__', '__init__', '__init_subclass__', '__kwdefaults__', '__le__', '__lt__', '__module__', '__name__', '__ne__', '__new__', '__qualname__', '__reduce__', '__reduce_ex__', '__repr__', '__setattr__', '__sizeof__', '__str__', '__subclasshook__']\n"
     ]
    }
   ],
   "source": [
    "#What is the usage of help() and dir() function in Python?\n",
    "print(\"help is a in-built useful function that written the complete documentation of particular method,classes,objects\")\n",
    "print(\"dir() is use to display the defined symbols \")\n",
    "def add(a,b):\n",
    "    s=a+b\n",
    "    return s\n",
    "\n",
    "res=add(2,3)\n",
    "print(res)\n",
    "print(\"complete documentation\",help(add))\n",
    "print(\"\\n\")\n",
    "print(dir(add))\n",
    "#print(help(list))"
   ]
  },
  {
   "cell_type": "code",
   "execution_count": 2,
   "id": "4f66fc48",
   "metadata": {},
   "outputs": [
    {
     "name": "stdout",
     "output_type": "stream",
     "text": [
      "jyoti\n",
      "{'name': 'mohit'}\n",
      "{'a': None, 'i': None, 'u': None, 'e': None, 'o': None}\n",
      "present\n",
      "\n",
      "\n",
      "present\n",
      "name,harshit\n",
      "age,4\n",
      "fav_tunes,['coco', 'kimi na cova']\n",
      "fav_movies,['diljale', 'kal ho na ho', 'ajadpanchi']\n",
      "\n",
      "\n",
      "updated dictionary\n",
      " {'name': 'jyoti', 'age': 24, 'fav_movie': ['diljale', 'maut', 'hum apke h kon'], 'fav_songs': ['song1', 'song2', 'song3']}\n",
      "jyoti\n",
      "after clear method apply it willgive empty dictionary {}\n",
      "copy of any dictionary {'name': 'jyoti', 'age': 24, 'fav_movie': ['diljale', 'maut', 'hum apke h kon'], 'fav_songs': ['song1', 'song2', 'song3']}\n",
      "{'a': 1, 'h': 1, 'r': 1, 's': 1, 'i': 1, 't': 1}\n",
      "{'h': 2}\n"
     ]
    }
   ],
   "source": [
    "#dictionary :it is an ordered collection of items in the form of (can't change must be immutable and unique)key:value(can be any data type & can be repeat)\n",
    "#where we use dictionary :when there is a realtion between data like user name and contact number.\n",
    "d1={'name':'jyoti',2:[1,2,3]}\n",
    "#access elements of dictionary dict[key]\n",
    "\n",
    "print(d1.get('name'))  #when key is not available ,IT GIVE None as a result \n",
    "\n",
    "\n",
    "\n",
    "#how to add data to empty dictionary \n",
    "user_info={}\n",
    "user_info['name']='mohit'\n",
    "print(user_info)\n",
    "\n",
    "\n",
    "\n",
    "\n",
    "#fromkeys():create a new dictionary from the given sequence of elements with a value provided by user (default value is unknown like diferent key with same value)\n",
    "keys={'a','e','i','o','u'}\n",
    "value={1,2,3,4,5}\n",
    "vowels=dict.fromkeys(keys)  #{'a': None, 'u': None, 'i': None, 'o': None, 'e': None}\n",
    "print(vowels)\n",
    "\n",
    "\n",
    "\n",
    "\n",
    "#in keyword and iteration in dictionary \n",
    "user_info={'name':'harshit','age':4,'fav_tunes':['coco','kimi na cova'],'fav_movies':['diljale','kal ho na ho','ajadpanchi']}\n",
    "\n",
    "#how to check key in dictionary \n",
    "if 'name' in user_info:\n",
    "    print(\"present\")\n",
    "else:\n",
    "    print(\"not present\")\n",
    "   \n",
    "print(\"\\n\")\n",
    "\n",
    "\n",
    "#check value exist in dictionary \n",
    "if 'harshit' in user_info.values():  \n",
    "    print(\"present\")\n",
    "else:\n",
    "    print(\"not present\")\n",
    "\n",
    "#loops in dictionary \n",
    "for k,v in  user_info.items():\n",
    "    print(f\"{k},{v}\")                 #\n",
    "\n",
    "    \n",
    "print(\"\\n\")\n",
    "\n",
    "\n",
    "#add and delete data from dictionary \n",
    "user_info={'name':'jyoti','age':24,'fav_movie':['diljale','maut','hum apke h kon']}\n",
    "#add data in dictionary \n",
    "user_info['fav_songs']=['song1','song2','song3']\n",
    "print(\"updated dictionary\\n\",user_info)\n",
    "\n",
    "\n",
    "#how to update dictionary  dict1.update(d2)  #we have already 1 dictionary and i want to update it \n",
    "\n",
    "#delete the data from dictionary \n",
    "#dict.pop('key'):delete element with key-->pair and it also return the element so we can store it in variable (if key is not available then it will give error)\n",
    "#dict.popitem()it returns and also delete random variables and does not take any parameter .\n",
    "\n",
    "#get method :\n",
    "d={'name':'jyoti','age':'unknown'}\n",
    "\n",
    "\n",
    "#print(\"it will give the output\",d['name'])\n",
    "#print(\"it will give key error to remove this we use get method\",d['names'])  #it will give keyError to handle this error we use get method\n",
    "print(d.get('name'))\n",
    "\n",
    "#copy(want to make copy of the dictionary) and clear method (clear will give empty dictionary )\n",
    "d.clear()\n",
    "print(\"after clear method apply it willgive empty dictionary\",d)\n",
    "d1=user_info.copy()\n",
    "print(\"copy of any dictionary\",d1)\n",
    "#word counter   (name=\"harshit\") in dictionary 2 keys are not same \n",
    "\n",
    "d2={'a':1,'h':2,'r':1,'s':1,'i':1,'t':1,'h':1}\n",
    "print(d2)\n",
    "def word_count(s):\n",
    "    \n",
    "    count={}\n",
    "    for char in s:\n",
    "        count[char]=s.count(char)\n",
    "        return count\n",
    "print(word_count('harshit'))"
   ]
  },
  {
   "cell_type": "code",
   "execution_count": 32,
   "id": "8245ce68",
   "metadata": {},
   "outputs": [
    {
     "name": "stdout",
     "output_type": "stream",
     "text": [
      "25\n"
     ]
    }
   ],
   "source": [
    "# ternary operators :use to show the conditional statement.\n",
    "#syntax:[on_true] if [expression] else [on_false]\n",
    "x, y = 25, 50\n",
    "big = x if x < y else y\n",
    "print(big)"
   ]
  },
  {
   "cell_type": "code",
   "execution_count": 35,
   "id": "2218a866",
   "metadata": {},
   "outputs": [
    {
     "name": "stdout",
     "output_type": "stream",
     "text": [
      "3.141592653589793\n"
     ]
    }
   ],
   "source": [
    "#len() :count the lenght \n",
    "a=\"jyoti\"\n",
    "len(a)\n",
    "#How to import modules in python?\n",
    "import math \n",
    "print(math.pi)"
   ]
  },
  {
   "cell_type": "code",
   "execution_count": 34,
   "id": "ce4378ba",
   "metadata": {},
   "outputs": [
    {
     "name": "stdout",
     "output_type": "stream",
     "text": [
      "negative ondex means to access the element at the last,last element at -position\n",
      "tishrah\n"
     ]
    }
   ],
   "source": [
    "#What are negative indexes and why are they used?\n",
    "print(\"negative ondex means to access the element at the last,last element at -1position\")\n",
    "a=\"harhsit\"\n",
    "print(a[::-1])"
   ]
  },
  {
   "cell_type": "code",
   "execution_count": 38,
   "id": "aa14883e",
   "metadata": {},
   "outputs": [
    {
     "name": "stdout",
     "output_type": "stream",
     "text": [
      "Split() is use to split string into list\n",
      "<class 'str'>\n",
      "['jyoti', 'gulia', 'badli']\n",
      "<class 'list'>\n"
     ]
    }
   ],
   "source": [
    "#What is split used for?\n",
    "print(\"Split() is use to split string into list\")\n",
    "a=\"jyoti gulia badli\"\n",
    "print(type(a))\n",
    "res=a.split()\n",
    "print(res)\n",
    "print(type(res))"
   ]
  },
  {
   "cell_type": "code",
   "execution_count": null,
   "id": "a5e8fe39",
   "metadata": {},
   "outputs": [],
   "source": [
    "#hat are Python libraries? Name a few of them.\n",
    "print(\"it is a collection of python package,numpy,pandas,matplotlib\")"
   ]
  },
  {
   "cell_type": "code",
   "execution_count": 13,
   "id": "c138a104",
   "metadata": {},
   "outputs": [
    {
     "name": "stdout",
     "output_type": "stream",
     "text": [
      "['False', 'None', 'True', 'and', 'as', 'assert', 'async', 'await', 'break', 'class', 'continue', 'def', 'del', 'elif', 'else', 'except', 'finally', 'for', 'from', 'global', 'if', 'import', 'in', 'is', 'lambda', 'nonlocal', 'not', 'or', 'pass', 'raise', 'return', 'try', 'while', 'with', 'yield']\n"
     ]
    }
   ],
   "source": [
    "import keyword \n",
    "print(keyword.kwlist)"
   ]
  },
  {
   "cell_type": "markdown",
   "id": "a84b5089",
   "metadata": {},
   "source": [
    "# pickling and unpickling "
   ]
  },
  {
   "cell_type": "code",
   "execution_count": null,
   "id": "2e5528c3",
   "metadata": {},
   "outputs": [],
   "source": [
    "#pickling:process of converting a class object into a byte stream,so that it can be stored in a file .This is called as object serialization.\n",
    "print(\"we use pickle module to perform pickling and unpickling.\")\n",
    "print(\"pickle has 2 main methods:dump(),load()\")\n",
    "#pickle.dump(object,file):It returns the pickled representation of the object as a bytes object,instead of writing it to a file.\n",
    "#unpickling:byte stream converted back into a class object /de-serialization \n",
    "#pickle.load(file):used to read an pickled object from a binary file and returns it into object .\n"
   ]
  },
  {
   "cell_type": "code",
   "execution_count": 6,
   "id": "31003a11",
   "metadata": {},
   "outputs": [
    {
     "name": "stdout",
     "output_type": "stream",
     "text": [
      "when we store some structured data in the file and want to perform calculation that time we need unpickiling and unpckiling \n",
      "pickiling done\n",
      "unpickiling done\n",
      "Name:rahul Roll:101 Address:ranchi\n",
      "Name:jyoti Roll:102 Address:amit\n"
     ]
    }
   ],
   "source": [
    "#why we need pickling and unpickiling?\n",
    "print(\"when we store some structured data in the file and want to perform calculation that time we need unpickiling and unpckiling \")\n",
    "import pickle \n",
    "class Student:\n",
    "    def __init__(self,name,roll,address):\n",
    "        self.name=name   \n",
    "        self.roll=roll\n",
    "        self.address=address\n",
    "    def display(self):\n",
    "        print(f\"Name:{self.name} Roll:{self.roll} Address:{self.address}\")\n",
    "with open(\"student.dat\",mode='wb') as f:\n",
    "    stud1=Student(\"rahul\",101,\"ranchi\")\n",
    "    stud2=Student(\"jyoti\",102,\"amit\")\n",
    "    pickle.dump(stud1,f)  #dump the data into byte stream \n",
    "    pickle.dump(stud2,f)    #yaha par jitni bar data dump krna h utni bar  data mention krenge \n",
    "    print(\"pickiling done\")\n",
    "\n",
    "    \n",
    "    #how to unpickiling \n",
    "with open(\"student.dat\",mode=\"rb\") as f1:\n",
    "    var=pickle.load(f1)\n",
    "    var2=pickle.load(f1)\n",
    "    print(\"unpickiling done\")\n",
    "    var.display()\n",
    "    var2.display()"
   ]
  },
  {
   "cell_type": "code",
   "execution_count": 1,
   "id": "49197664",
   "metadata": {},
   "outputs": [
    {
     "data": {
      "text/plain": [
       "48"
      ]
     },
     "execution_count": 1,
     "metadata": {},
     "output_type": "execute_result"
    }
   ],
   "source": [
    "a=\"PYTHON IS GENRAL PURPOSE HIGH LENBISHF KJHDOISKL\"\n",
    "len(a)"
   ]
  },
  {
   "cell_type": "code",
   "execution_count": 12,
   "id": "fd46001b",
   "metadata": {},
   "outputs": [
    {
     "data": {
      "text/plain": [
       "'my name is jyot'"
      ]
     },
     "execution_count": 12,
     "metadata": {},
     "output_type": "execute_result"
    }
   ],
   "source": [
    "#Q55. What are the built-in types of python?\n",
    "print(\"int,float,complex,string,boolean\")"
   ]
  },
  {
   "cell_type": "code",
   "execution_count": 1,
   "id": "68ecccf3",
   "metadata": {},
   "outputs": [
    {
     "name": "stdout",
     "output_type": "stream",
     "text": [
      "1 2 3 4 5 6 7 8 9 10 "
     ]
    }
   ],
   "source": [
    "for i in range(1,11):\n",
    "    print(i,end=\" \")"
   ]
  },
  {
   "cell_type": "code",
   "execution_count": 2,
   "id": "daf674d9",
   "metadata": {},
   "outputs": [
    {
     "data": {
      "text/plain": [
       "tuple"
      ]
     },
     "execution_count": 2,
     "metadata": {},
     "output_type": "execute_result"
    }
   ],
   "source": [
    "a=(3,4,5)\n",
    "b=(\"jyoti\",\"karan\")\n",
    "type(a+b)"
   ]
  },
  {
   "cell_type": "code",
   "execution_count": 2,
   "id": "593dc20b",
   "metadata": {},
   "outputs": [
    {
     "name": "stdout",
     "output_type": "stream",
     "text": [
      "[1, 2, 3]\n",
      "[1, 2, 3]\n"
     ]
    }
   ],
   "source": [
    "#deep copy and shallow copy \n",
    "import copy \n",
    "l1=[1,2,3]\n",
    "l2=[5,6,7]\n",
    "#using copy for shallow copy \n",
    "l3=copy.copy(l1)\n",
    "print(l3)\n",
    "l4=copy.deepcopy(l1):#change in original list will not reflected.\n",
    "print(l4)"
   ]
  },
  {
   "cell_type": "code",
   "execution_count": 4,
   "id": "78ea1dd7",
   "metadata": {},
   "outputs": [
    {
     "name": "stdout",
     "output_type": "stream",
     "text": [
      "[[0. 0. 0.]\n",
      " [0. 0. 0.]]\n"
     ]
    }
   ],
   "source": [
    "import numpy as np \n",
    "a=np.zeros((2,3))\n",
    "print(a)"
   ]
  },
  {
   "cell_type": "code",
   "execution_count": 10,
   "id": "e7d34c7f",
   "metadata": {},
   "outputs": [
    {
     "name": "stdout",
     "output_type": "stream",
     "text": [
      "    name team\n",
      "0  jyoti    a\n",
      "1  sumit    b\n",
      "2  karan    c\n"
     ]
    }
   ],
   "source": [
    "import pandas as pd \n",
    "a={'name':[\"jyoti\",\"sumit\",\"karan\"],\"team\":['a','b','c']}\n",
    "res=pd.DataFrame(a)\n",
    "print(res)"
   ]
  },
  {
   "cell_type": "code",
   "execution_count": 6,
   "id": "93c5c62f",
   "metadata": {},
   "outputs": [
    {
     "name": "stdout",
     "output_type": "stream",
     "text": [
      "<class 'str'>\n"
     ]
    }
   ],
   "source": [
    "a=5\n",
    "type(a)\n",
    "b=str(a)\n",
    "print(type(b))"
   ]
  },
  {
   "cell_type": "code",
   "execution_count": 7,
   "id": "d4f75a15",
   "metadata": {},
   "outputs": [
    {
     "name": "stdout",
     "output_type": "stream",
     "text": [
      "[6, 5, 4, 3, 2, 1]\n"
     ]
    }
   ],
   "source": [
    "a=[1,2,3,4,5,6]\n",
    "print(a[-1::-1])"
   ]
  },
  {
   "cell_type": "code",
   "execution_count": null,
   "id": "ad3879e5",
   "metadata": {},
   "outputs": [],
   "source": []
  }
 ],
 "metadata": {
  "kernelspec": {
   "display_name": "Python 3",
   "language": "python",
   "name": "python3"
  },
  "language_info": {
   "codemirror_mode": {
    "name": "ipython",
    "version": 3
   },
   "file_extension": ".py",
   "mimetype": "text/x-python",
   "name": "python",
   "nbconvert_exporter": "python",
   "pygments_lexer": "ipython3",
   "version": "3.8.8"
  }
 },
 "nbformat": 4,
 "nbformat_minor": 5
}
