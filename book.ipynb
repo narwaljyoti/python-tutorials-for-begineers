{
 "cells": [
  {
   "cell_type": "code",
   "execution_count": 5,
   "id": "13500064",
   "metadata": {},
   "outputs": [
    {
     "name": "stdout",
     "output_type": "stream",
     "text": [
      "exit to exit\n",
      "menfdlkew\n",
      "exit to exit\n",
      "kjnekwld\n",
      "exit to exit\n",
      "jkd\n",
      "exit to exit\n",
      "exit\n"
     ]
    },
    {
     "ename": "SystemExit",
     "evalue": "",
     "output_type": "error",
     "traceback": [
      "An exception has occurred, use %tb to see the full traceback.\n",
      "\u001b[1;31mSystemExit\u001b[0m\n"
     ]
    }
   ],
   "source": [
    "#if the program execution reaches the bottom of instructions.then how to terminate the execution of the program.\n",
    "import sys \n",
    "while True:\n",
    "    print(\"exit to exit\")\n",
    "    response=input()\n",
    "    if response==\"exit\":\n",
    "        sys.exit()   #terminate the execution of the program.\n",
    "        print(f\"you typed  {response}\")\n",
    "    \n",
    "    "
   ]
  },
  {
   "cell_type": "code",
   "execution_count": null,
   "id": "00b4d851",
   "metadata": {},
   "outputs": [],
   "source": []
  }
 ],
 "metadata": {
  "kernelspec": {
   "display_name": "Python 3",
   "language": "python",
   "name": "python3"
  },
  "language_info": {
   "codemirror_mode": {
    "name": "ipython",
    "version": 3
   },
   "file_extension": ".py",
   "mimetype": "text/x-python",
   "name": "python",
   "nbconvert_exporter": "python",
   "pygments_lexer": "ipython3",
   "version": "3.8.8"
  }
 },
 "nbformat": 4,
 "nbformat_minor": 5
}
