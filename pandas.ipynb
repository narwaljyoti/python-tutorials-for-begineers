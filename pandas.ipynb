{
 "cells": [
  {
   "cell_type": "code",
   "execution_count": 1,
   "id": "2f6e50f9",
   "metadata": {},
   "outputs": [
    {
     "name": "stdout",
     "output_type": "stream",
     "text": [
      "high performance data analysis and manipulation  tool\n",
      "working with large data sets\n",
      "support  or load data with different formats(excel,text)\n",
      "more flexible to use \n",
      "data in the tabular format(rows*columns)\n"
     ]
    }
   ],
   "source": [
    "print(\"high performance data analysis and manipulation  tool\")\n",
    "print(\"working with large data sets\")\n",
    "print(\"support  or load data with different formats(excel,text)\")\n",
    "print(\"more flexible to use \")\n",
    "print(\"data in the tabular format(rows*columns)\")\n",
    "print(\"working with missing data\")\n",
    "print(\"indexing,slicing,subsetting the large data sets\")\n",
    "print(\"merge and join data 2 different data sets easilt\")\n",
    "print(\"reshape the data sets\")"
   ]
  },
  {
   "cell_type": "code",
   "execution_count": 1,
   "id": "7338a318",
   "metadata": {},
   "outputs": [
    {
     "name": "stdout",
     "output_type": "stream",
     "text": [
      "series\n",
      " a    1\n",
      "b    2\n",
      "c    3\n",
      "dtype: int64\n",
      "this is the empty series Series([], dtype: float64)\n"
     ]
    },
    {
     "name": "stderr",
     "output_type": "stream",
     "text": [
      "<ipython-input-1-5477b9b16019>:8: DeprecationWarning: The default dtype for empty Series will be 'object' instead of 'float64' in a future version. Specify a dtype explicitly to silence this warning.\n",
      "  b=pd.Series()\n"
     ]
    }
   ],
   "source": [
    "#pandas deals with 3 data structures Series,Dataframe,Panel\n",
    "#Series(data,index,copy,order)-data represent in 1 d array (list),homogeneous array,size immutable\n",
    "#Dataframe(data,index,columns,dtype,copy);;-2 d format data shape (list,dictionary,series,)size mutable,hetrogeneous data \n",
    "#Pnael-multidimensional array :3-d array,data ,measure axis(col,rows),size mutable array \n",
    "import pandas as pd\n",
    "a=pd.Series([1,2,3],index=['a','b','c'])\n",
    "print(\"series\\n\",a)\n",
    "b=pd.Series()\n",
    "print(\"this is the empty series\",b)\n",
    "\n"
   ]
  },
  {
   "cell_type": "code",
   "execution_count": 8,
   "id": "24de45ac",
   "metadata": {},
   "outputs": [
    {
     "name": "stdout",
     "output_type": "stream",
     "text": [
      "empty dataframe Empty DataFrame\n",
      "Columns: []\n",
      "Index: []\n",
      "    name  age\n",
      "a   ajay   26\n",
      "b  karan   34\n",
      "c   yash   78\n",
      "        name  age\n",
      "rank1   ajay   23\n",
      "rank2   ashu   45\n",
      "rank3  samir   65\n"
     ]
    }
   ],
   "source": [
    "#DataFrame(data,index,columns,dtype,copy)\n",
    "d1=pd.DataFrame()\n",
    "print(\"empty dataframe\",d1)\n",
    "\n",
    "\n",
    "d2=[['ajay',26],['karan',34],['yash',78]]\n",
    "dframe=pd.DataFrame(d2,index=['a','b','c'],columns=['name','age'])\n",
    "print(dframe)\n",
    "\n",
    "#create a dataframe using dictionary/ndarray\n",
    "d3={'name':['ajay','ashu','samir'],'age':[23,45,65]}\n",
    "d2frame=pd.DataFrame(d3,index=['rank1','rank2','rank3'])\n",
    "print(d2frame)"
   ]
  },
  {
   "cell_type": "code",
   "execution_count": 13,
   "id": "ba3037bf",
   "metadata": {},
   "outputs": [
    {
     "ename": "AttributeError",
     "evalue": "module 'pandas' has no attribute 'Panel'",
     "output_type": "error",
     "traceback": [
      "\u001b[1;31m---------------------------------------------------------------------------\u001b[0m",
      "\u001b[1;31mAttributeError\u001b[0m                            Traceback (most recent call last)",
      "\u001b[1;32m<ipython-input-13-8c639b245560>\u001b[0m in \u001b[0;36m<module>\u001b[1;34m\u001b[0m\n\u001b[0;32m      6\u001b[0m \u001b[1;33m\u001b[0m\u001b[0m\n\u001b[0;32m      7\u001b[0m \u001b[0mdata\u001b[0m \u001b[1;33m=\u001b[0m \u001b[0mnp\u001b[0m\u001b[1;33m.\u001b[0m\u001b[0mrandom\u001b[0m\u001b[1;33m.\u001b[0m\u001b[0mrand\u001b[0m\u001b[1;33m(\u001b[0m\u001b[1;36m2\u001b[0m\u001b[1;33m,\u001b[0m\u001b[1;36m4\u001b[0m\u001b[1;33m,\u001b[0m\u001b[1;36m5\u001b[0m\u001b[1;33m)\u001b[0m\u001b[1;33m\u001b[0m\u001b[1;33m\u001b[0m\u001b[0m\n\u001b[1;32m----> 8\u001b[1;33m \u001b[0mp\u001b[0m\u001b[1;33m=\u001b[0m\u001b[0mpd\u001b[0m\u001b[1;33m.\u001b[0m\u001b[0mPanel\u001b[0m\u001b[1;33m(\u001b[0m\u001b[0mdata\u001b[0m\u001b[1;33m)\u001b[0m\u001b[1;33m\u001b[0m\u001b[1;33m\u001b[0m\u001b[0m\n\u001b[0m\u001b[0;32m      9\u001b[0m \u001b[0mprint\u001b[0m\u001b[1;33m(\u001b[0m\u001b[0mp\u001b[0m\u001b[1;33m)\u001b[0m\u001b[1;33m\u001b[0m\u001b[1;33m\u001b[0m\u001b[0m\n\u001b[0;32m     10\u001b[0m \u001b[1;33m\u001b[0m\u001b[0m\n",
      "\u001b[1;32m~\\anaconda3\\lib\\site-packages\\pandas\\__init__.py\u001b[0m in \u001b[0;36m__getattr__\u001b[1;34m(name)\u001b[0m\n\u001b[0;32m    242\u001b[0m         \u001b[1;32mreturn\u001b[0m \u001b[0m_SparseArray\u001b[0m\u001b[1;33m\u001b[0m\u001b[1;33m\u001b[0m\u001b[0m\n\u001b[0;32m    243\u001b[0m \u001b[1;33m\u001b[0m\u001b[0m\n\u001b[1;32m--> 244\u001b[1;33m     \u001b[1;32mraise\u001b[0m \u001b[0mAttributeError\u001b[0m\u001b[1;33m(\u001b[0m\u001b[1;34mf\"module 'pandas' has no attribute '{name}'\"\u001b[0m\u001b[1;33m)\u001b[0m\u001b[1;33m\u001b[0m\u001b[1;33m\u001b[0m\u001b[0m\n\u001b[0m\u001b[0;32m    245\u001b[0m \u001b[1;33m\u001b[0m\u001b[0m\n\u001b[0;32m    246\u001b[0m \u001b[1;33m\u001b[0m\u001b[0m\n",
      "\u001b[1;31mAttributeError\u001b[0m: module 'pandas' has no attribute 'Panel'"
     ]
    }
   ],
   "source": [
    "#pandas.Panel(data, items0, major_axis1, minor_axis2, dtype, copy)\n",
    "#creatign an empty panel \n",
    "import pandas as pd\n",
    "import numpy as np\n",
    "p1=np.random.rand(2,4,5)\n",
    "\n",
    "data = np.random.rand(2,4,5)\n",
    "p=pd.Panel(data)\n",
    "print(p)\n",
    "\n",
    "#From dict of DataFrame Objects\n",
    "da = {'Item1' : pd.DataFrame(np.random.randn(4, 3)), \n",
    "   'Item2' : pd.DataFrame(np.random.randn(4, 2))}\n",
    "p1=pd.Panel(da)\n",
    "print(p1)"
   ]
  },
  {
   "cell_type": "markdown",
   "id": "3d7c6531",
   "metadata": {},
   "source": [
    "# basic functionality"
   ]
  },
  {
   "cell_type": "code",
   "execution_count": 29,
   "id": "35a38f20",
   "metadata": {},
   "outputs": [
    {
     "name": "stdout",
     "output_type": "stream",
     "text": [
      "[0.85353694 0.08949299 0.29662974 0.18870655 0.35198738]\n",
      "0    0.853537\n",
      "1    0.089493\n",
      "2    0.296630\n",
      "3    0.188707\n",
      "4    0.351987\n",
      "dtype: float64\n",
      "[RangeIndex(start=0, stop=5, step=1)]\n",
      "False\n",
      "know the dimension 1\n",
      "return size len of the series 5\n",
      "values [0.85353694 0.08949299 0.29662974 0.18870655 0.35198738]\n",
      "<bound method NDFrame.head of 0    0.853537\n",
      "1    0.089493\n",
      "2    0.296630\n",
      "3    0.188707\n",
      "4    0.351987\n",
      "dtype: float64>\n"
     ]
    }
   ],
   "source": [
    "import pandas as pd\n",
    "import numpy as np \n",
    "num1=np.random.rand(5)\n",
    "print(num1)\n",
    "#create a series\n",
    "s1=pd.Series(num1)\n",
    "print(s1)\n",
    "print(s1.axes)\n",
    "print(s1.empty)  #if empty return True otherwise False\n",
    "print(\"know the dimension\",s1.ndim)\n",
    "print(\"return size len of the series\",s1.size)\n",
    "print(\"values\",s1.values)\n",
    "print(s1.head)"
   ]
  },
  {
   "cell_type": "markdown",
   "id": "884dd509",
   "metadata": {},
   "source": [
    "# group by "
   ]
  },
  {
   "cell_type": "code",
   "execution_count": 2,
   "id": "54364eba",
   "metadata": {},
   "outputs": [
    {
     "name": "stdout",
     "output_type": "stream",
     "text": [
      "in many situation we split the data into sets and apply functionality on each subset \n",
      "we can select a particular group also by get_group(name) \n",
      "Year\n",
      "2014    795.25\n",
      "2015    769.50\n",
      "2016    725.00\n",
      "2017    739.00\n",
      "Name: Points, dtype: float64\n"
     ]
    }
   ],
   "source": [
    "#in groupby() :1)split the object 2)apply a function, 3)combine the results \n",
    "print(\"in many situation we split the data into sets and apply functionality on each subset \")\n",
    "\n",
    "#Aggregation − computing a summary statistic\n",
    "\n",
    "#Transformation − perform some group-specific operation\n",
    "\n",
    "#Filtration − discarding the data with some condition\n",
    "\n",
    "#split an object::: obje.groupby('key')      obj.groupby(['key1','key2'])    obj.groupby('key',axis=1) \n",
    "\n",
    "#after applying groupby e can see our objects using    print(dataname.groupby('key').groups\n",
    "\n",
    "print(\"we can select a particular group also by get_group(name) \")\n",
    "\n",
    "\n",
    "#aggregation: function return a single agregate value of each group\n",
    "import numpy as np\n",
    "import pandas as pd\n",
    "ipl_data = {'Team': ['Riders', 'Riders', 'Devils', 'Devils', 'Kings',\n",
    "   'kings', 'Kings', 'Kings', 'Riders', 'Royals', 'Royals', 'Riders'],\n",
    "   'Rank': [1, 2, 2, 3, 3,4 ,1 ,1,2 , 4,1,2],\n",
    "   'Year': [2014,2015,2014,2015,2014,2015,2016,2017,2016,2014,2015,2017],\n",
    "   'Points':[876,789,863,673,741,812,756,788,694,701,804,690]}\n",
    "df =pd.DataFrame(ipl_data)\n",
    "\n",
    "grouped = df.groupby('Year')\n",
    "print(grouped['Points'].agg(np.mean))"
   ]
  },
  {
   "cell_type": "code",
   "execution_count": null,
   "id": "f0f87743",
   "metadata": {},
   "outputs": [],
   "source": []
  },
  {
   "cell_type": "markdown",
   "id": "2bf96a0b",
   "metadata": {},
   "source": [
    "# Descriptive statistics "
   ]
  },
  {
   "cell_type": "code",
   "execution_count": 9,
   "id": "919a8f2e",
   "metadata": {},
   "outputs": [
    {
     "name": "stdout",
     "output_type": "stream",
     "text": [
      "Index(['Date/Time', 'Temp_C', 'Dew Point Temp_C', 'Rel Hum_%',\n",
      "       'Wind Speed_km/h', 'Visibility_km', 'Press_kPa', 'Weather'],\n",
      "      dtype='object')\n",
      "find mean dataframe.mean()\n",
      "standard deviation datframe.mean()\n"
     ]
    }
   ],
   "source": [
    "import pandas as pd\n",
    "data=pd.read_csv(\"Weather.csv\")\n",
    "#print(data.head(3))\n",
    "print(data.columns)\n",
    "#how to print sum pdata['Weather'].sum()  \n",
    "print(\"find mean dataframe.mean()\")\n",
    "print(\"standard deviation datframe.mean()\")\n",
    "print(\"dataframe.describe() will give all the statistics of dataframe\")"
   ]
  },
  {
   "cell_type": "code",
   "execution_count": null,
   "id": "de616894",
   "metadata": {},
   "outputs": [],
   "source": [
    "#drop();use to drop specified labels from rows and columns\n",
    "#df.drop(self, labels=None, axis=0, index=None, columns=None, level=None, inplace=False, errors='raise')\n",
    "#"
   ]
  },
  {
   "cell_type": "code",
   "execution_count": 2,
   "id": "d6bc65c8",
   "metadata": {},
   "outputs": [
    {
     "ename": "NameError",
     "evalue": "name 'police' is not defined",
     "output_type": "error",
     "traceback": [
      "\u001b[1;31m---------------------------------------------------------------------------\u001b[0m",
      "\u001b[1;31mNameError\u001b[0m                                 Traceback (most recent call last)",
      "\u001b[1;32m<ipython-input-2-2a3c7e1e84c8>\u001b[0m in \u001b[0;36m<module>\u001b[1;34m\u001b[0m\n\u001b[0;32m      1\u001b[0m \u001b[1;31m#pd.map():it is use to map the values 2 series that have a common column\u001b[0m\u001b[1;33m\u001b[0m\u001b[1;33m\u001b[0m\u001b[1;33m\u001b[0m\u001b[0m\n\u001b[0;32m      2\u001b[0m \u001b[1;31m#syntax:df.map(arg,na_action=None)\u001b[0m\u001b[1;33m\u001b[0m\u001b[1;33m\u001b[0m\u001b[1;33m\u001b[0m\u001b[0m\n\u001b[1;32m----> 3\u001b[1;33m \u001b[0mpolice\u001b[0m\u001b[1;33m.\u001b[0m\u001b[0mhead\u001b[0m\u001b[1;33m(\u001b[0m\u001b[1;36m3\u001b[0m\u001b[1;33m)\u001b[0m\u001b[1;33m\u001b[0m\u001b[1;33m\u001b[0m\u001b[0m\n\u001b[0m",
      "\u001b[1;31mNameError\u001b[0m: name 'police' is not defined"
     ]
    }
   ],
   "source": [
    "#pd.map():it is use to map the values 2 series that have a common column \n",
    "#syntax:df.map(arg,na_action=None)\n",
    "police.head(3)"
   ]
  },
  {
   "cell_type": "code",
   "execution_count": 8,
   "id": "4c26a710",
   "metadata": {},
   "outputs": [
    {
     "name": "stdout",
     "output_type": "stream",
     "text": [
      "0       True\n",
      "1       True\n",
      "2       True\n",
      "3       True\n",
      "4       True\n",
      "       ...  \n",
      "995    False\n",
      "996     True\n",
      "997     True\n",
      "998     True\n",
      "999     True\n",
      "Name: Gender, Length: 1000, dtype: bool\n"
     ]
    }
   ],
   "source": [
    "#working with missing data in pandas :in real life programs missing values are very big problem.(NA-not available),Nan(not a number)\n",
    "#checking for missing values iemployees.csvsnull(),notnull()\n",
    "import pandas as pd\n",
    "employe=pd.read_csv(\"employees.csv\")\n",
    "#print(employe)\n",
    "#print(employe.isnull())  # where value is null give True otherwise False \n",
    "#print(employe.notnull())   #value is presnt then True ,otherwise false\n",
    "boolen_value=pd.notnull(employe['Gender'])\n",
    "print(boolen_value)  #print gender column where gender=notnull  value is True ,"
   ]
  },
  {
   "cell_type": "code",
   "execution_count": 18,
   "id": "8126f3bc",
   "metadata": {},
   "outputs": [
    {
     "name": "stdout",
     "output_type": "stream",
     "text": [
      "    First Name  Gender  Start Date Last Login Time  Salary  Bonus %  \\\n",
      "0      Douglas    Male    08-06-93        12:42 PM   97308    6.945   \n",
      "1       Thomas    Male   3/31/1996         6:53 AM   61933    4.170   \n",
      "2        Maria  Female   4/23/1993        11:17 AM  130590   11.858   \n",
      "3        Jerry    Male    03-04-05         1:00 PM  138705    9.340   \n",
      "4        Larry    Male   1/24/1998         4:47 PM  101004    1.389   \n",
      "..         ...     ...         ...             ...     ...      ...   \n",
      "995      Henry    Male  11/23/2014         6:09 AM  132483   16.655   \n",
      "996    Phillip    Male   1/31/1984         6:30 AM   42392   19.675   \n",
      "997    Russell    Male   5/20/2013        12:39 PM   96914    1.421   \n",
      "998      Larry    Male   4/20/2013         4:45 PM   60500   11.985   \n",
      "999     Albert    Male   5/15/2012         6:24 PM  129949   10.169   \n",
      "\n",
      "    Senior Management                  Team  \n",
      "0                True             Marketing  \n",
      "1                True             Marketing  \n",
      "2               False               Finance  \n",
      "3                True               Finance  \n",
      "4                True       Client Services  \n",
      "..                ...                   ...  \n",
      "995             False          Distribution  \n",
      "996             False               Finance  \n",
      "997             False               Product  \n",
      "998             False  Business Development  \n",
      "999              True                 Sales  \n",
      "\n",
      "[1000 rows x 8 columns]\n"
     ]
    }
   ],
   "source": [
    "#filling missing values .fillna(),replace,interpolate\n",
    "#df.fillna(0)  all nan values filled by 0\n",
    "#2)df.fillna(method='pad') #filling missing values with previous one value \n",
    "#3)df.fillna(method='bfill') #filling missing value with next one\n",
    "import numpy as np\n",
    "gender=employe[\"Gender\"]#now i want to fill values in \"Gender column\"\n",
    "#print(employe['Gender'].fillna(\"no gender\"))\n",
    "#now fill other -99 with np.nan\n",
    "employe.replace(to_replace=np.nan,inplace=True)\n",
    "\n",
    "#interpolate() :interpolate the missing values linear method.(ignore index and treat the value are equally spaced.)\n",
    "print(employe.interpolate(method='linear',limit_direction='forward'))"
   ]
  },
  {
   "cell_type": "code",
   "execution_count": null,
   "id": "5cef907d",
   "metadata": {},
   "outputs": [],
   "source": [
    "#df.dropna():drop row atleast with 1 Nan values.\n",
    "#df.dropna(how=\"all\")  :all values"
   ]
  },
  {
   "cell_type": "code",
   "execution_count": 2,
   "id": "1342b010",
   "metadata": {},
   "outputs": [
    {
     "name": "stdout",
     "output_type": "stream",
     "text": [
      "      Team  Rank  Year  Points\n",
      "0   Riders     1  2014     876\n",
      "1   Riders     2  2015     789\n",
      "2   Devils     2  2014     863\n",
      "3   Devils     3  2015     673\n",
      "4    Kings     3  2014     741\n",
      "5    kings     4  2015     812\n",
      "6    Kings     1  2016     756\n",
      "7    Kings     1  2017     788\n",
      "8   Riders     2  2016     694\n",
      "9   Royals     4  2014     701\n",
      "10  Royals     1  2015     804\n",
      "11  Riders     2  2017     690\n"
     ]
    }
   ],
   "source": [
    "import numpy as np\n",
    "import pandas as pd\n",
    "ipl_data = {'Team': ['Riders', 'Riders', 'Devils', 'Devils', 'Kings',\n",
    "   'kings', 'Kings', 'Kings', 'Riders', 'Royals', 'Royals', 'Riders'],\n",
    "   'Rank': [1, 2, 2, 3, 3,4 ,1 ,1,2 , 4,1,2],\n",
    "   'Year': [2014,2015,2014,2015,2014,2015,2016,2017,2016,2014,2015,2017],\n",
    "   'Points':[876,789,863,673,741,812,756,788,694,701,804,690]}\n",
    "df =pd.DataFrame(ipl_data)\n",
    "print(df)"
   ]
  },
  {
   "cell_type": "code",
   "execution_count": 4,
   "id": "f98944f0",
   "metadata": {},
   "outputs": [
    {
     "name": "stdout",
     "output_type": "stream",
     "text": [
      "0     True\n",
      "1    False\n",
      "2     True\n",
      "Name: a, dtype: bool\n"
     ]
    }
   ],
   "source": [
    "df=pd.DataFrame({'a':[1,2,1],'b':[1,1,1]})\n",
    "print(df['a']==1)"
   ]
  },
  {
   "cell_type": "code",
   "execution_count": null,
   "id": "913160db",
   "metadata": {},
   "outputs": [],
   "source": [
    "#use to save our file df.to_csv(filename)"
   ]
  },
  {
   "cell_type": "code",
   "execution_count": null,
   "id": "9980bf2d",
   "metadata": {},
   "outputs": [],
   "source": [
    "#api "
   ]
  },
  {
   "cell_type": "code",
   "execution_count": 9,
   "id": "930af56a",
   "metadata": {},
   "outputs": [
    {
     "name": "stdout",
     "output_type": "stream",
     "text": [
      "(4, 2)\n"
     ]
    }
   ],
   "source": [
    "import numpy as np \n",
    "np.array([1,-1])*np.array([1,1])\n",
    "\n",
    "\n",
    "np.dot(np.array([1,-1]),np.array([1,1]))\n",
    "A=np.array([[1,2],[3,4],[5,6],[7,8]])\n",
    "print(A.shape)\n"
   ]
  },
  {
   "cell_type": "code",
   "execution_count": 13,
   "id": "d88ef292",
   "metadata": {},
   "outputs": [
    {
     "data": {
      "text/plain": [
       "array([11, 11, 11, 11, 11])"
      ]
     },
     "execution_count": 13,
     "metadata": {},
     "output_type": "execute_result"
    }
   ],
   "source": [
    "a=np.array([1,1,1,1,1])\n",
    "\n",
    "a+10"
   ]
  },
  {
   "cell_type": "code",
   "execution_count": null,
   "id": "3d4a4d47",
   "metadata": {},
   "outputs": [],
   "source": []
  }
 ],
 "metadata": {
  "kernelspec": {
   "display_name": "Python 3",
   "language": "python",
   "name": "python3"
  },
  "language_info": {
   "codemirror_mode": {
    "name": "ipython",
    "version": 3
   },
   "file_extension": ".py",
   "mimetype": "text/x-python",
   "name": "python",
   "nbconvert_exporter": "python",
   "pygments_lexer": "ipython3",
   "version": "3.8.8"
  }
 },
 "nbformat": 4,
 "nbformat_minor": 5
}
