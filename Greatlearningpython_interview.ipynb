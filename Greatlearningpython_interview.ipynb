{
 "cells": [
  {
   "cell_type": "markdown",
   "id": "d68103c6",
   "metadata": {},
   "source": [
    "#1) What are the key features of Python?"
   ]
  },
  {
   "cell_type": "code",
   "execution_count": null,
   "id": "77943405",
   "metadata": {},
   "outputs": [],
   "source": [
    "print(\"python is free,easy to use,rReadable and Maintainable Code,portable,dynamically typed language,object oriented PL\")\n"
   ]
  },
  {
   "cell_type": "markdown",
   "id": "13bc3719",
   "metadata": {},
   "source": [
    "# 2)What are Keywords in Python?"
   ]
  },
  {
   "cell_type": "code",
   "execution_count": 3,
   "id": "9e66bb64",
   "metadata": {},
   "outputs": [
    {
     "name": "stdout",
     "output_type": "stream",
     "text": [
      "keyword are the reserved words which are used as identifiers,function name or variable name.total(33)\n",
      "['False', 'None', 'True', 'and', 'as', 'assert', 'async', 'await', 'break', 'class', 'continue', 'def', 'del', 'elif', 'else', 'except', 'finally', 'for', 'from', 'global', 'if', 'import', 'in', 'is', 'lambda', 'nonlocal', 'not', 'or', 'pass', 'raise', 'return', 'try', 'while', 'with', 'yield']\n"
     ]
    }
   ],
   "source": [
    "print(\"keyword are the reserved words which are used as identifiers,function name or variable name.total(33)\")\n",
    "import keyword  as kw\n",
    "print(kw.kwlist)"
   ]
  },
  {
   "cell_type": "markdown",
   "id": "73a67cd1",
   "metadata": {},
   "source": [
    "# 3.) What are Literals in Python and explain about different Literals?\n"
   ]
  },
  {
   "cell_type": "code",
   "execution_count": null,
   "id": "e0ac23c7",
   "metadata": {},
   "outputs": [],
   "source": [
    "print(\"Literals in Python refer to the data that is given in a variable or constant.\")\n",
    "#string Literals,Numeric Literals,Boolean Literals,Special Literals(None)"
   ]
  },
  {
   "cell_type": "markdown",
   "id": "4cf026cf",
   "metadata": {},
   "source": [
    "# 4. How can you concatenate two tuples?"
   ]
  },
  {
   "cell_type": "code",
   "execution_count": 4,
   "id": "62bad2fd",
   "metadata": {},
   "outputs": [
    {
     "data": {
      "text/plain": [
       "(1, 'thdd', 'dh', 232, 9, 'dh', 'ehd', 100)"
      ]
     },
     "execution_count": 4,
     "metadata": {},
     "output_type": "execute_result"
    }
   ],
   "source": [
    "a=(1,\"thdd\",\"dh\",232)\n",
    "b=(9,\"dh\",\"ehd\",100)\n",
    "a+b"
   ]
  },
  {
   "cell_type": "markdown",
   "id": "d89db682",
   "metadata": {},
   "source": [
    "# 5. What are functions in Python?"
   ]
  },
  {
   "cell_type": "code",
   "execution_count": 6,
   "id": "58f580ce",
   "metadata": {},
   "outputs": [
    {
     "name": "stdout",
     "output_type": "stream",
     "text": [
      "Functions group of special statement that performs some special tasks.and it provide reusabiltiy of code and avoid repitition of code.\n",
      "9\n"
     ]
    }
   ],
   "source": [
    "print(\"Functions group of special statement that performs some special tasks.and it provide reusabiltiy of code and avoid repitition of code.\")\n",
    "def add(a,b):\n",
    "    return a+b\n",
    "res=add(4,5)\n",
    "print(res)"
   ]
  },
  {
   "cell_type": "markdown",
   "id": "77b3225d",
   "metadata": {},
   "source": [
    "# 6. How to Install Python?"
   ]
  },
  {
   "cell_type": "markdown",
   "id": "b0b83739",
   "metadata": {},
   "source": [
    "# . 7)What is Python Used For?"
   ]
  },
  {
   "cell_type": "code",
   "execution_count": null,
   "id": "d51fc952",
   "metadata": {},
   "outputs": [],
   "source": [
    "print(\"web application,iot,artifical intelligence,ml,big data ,data analytics\")"
   ]
  },
  {
   "cell_type": "markdown",
   "id": "6e7c9cc1",
   "metadata": {},
   "source": [
    "# 8. How can you initialize a 5*5 numpy array with only zeroes?"
   ]
  },
  {
   "cell_type": "code",
   "execution_count": 13,
   "id": "3d2599b9",
   "metadata": {},
   "outputs": [
    {
     "data": {
      "text/plain": [
       "array([[0., 0., 0., 0., 0.],\n",
       "       [0., 0., 0., 0., 0.],\n",
       "       [0., 0., 0., 0., 0.],\n",
       "       [0., 0., 0., 0., 0.],\n",
       "       [0., 0., 0., 0., 0.]])"
      ]
     },
     "execution_count": 13,
     "metadata": {},
     "output_type": "execute_result"
    }
   ],
   "source": [
    "import numpy as np\n",
    "n1=np.zeros((5,5))\n",
    "n1"
   ]
  },
  {
   "cell_type": "markdown",
   "id": "03c04e9b",
   "metadata": {},
   "source": [
    "# 9. What is Pandas?"
   ]
  },
  {
   "cell_type": "markdown",
   "id": "da34e554",
   "metadata": {},
   "source": [
    "# print(\"pandas is an open source python library which provided high-performance data manipulation,analysis\")\n",
    "import pandas as pd\n",
    "a=pd.Series([1,2,3])\n",
    "print(a)"
   ]
  },
  {
   "cell_type": "markdown",
   "id": "88d1e5f6",
   "metadata": {},
   "source": [
    "# 10. What are dataframes? "
   ]
  },
  {
   "cell_type": "code",
   "execution_count": 19,
   "id": "7d5d73b6",
   "metadata": {},
   "outputs": [
    {
     "name": "stdout",
     "output_type": "stream",
     "text": [
      "Dataframes are 2 d data structure in rows and column format,size(mutable)\n",
      "     a\n",
      "0  1.0\n",
      "1  2.0\n",
      "2  3.0\n"
     ]
    }
   ],
   "source": [
    "print(\"Dataframes are 2 d data structure in rows and column format,size(mutable)\")\n",
    "import pandas as pd\n",
    "b=pd.DataFrame([1,2,3],dtype=\"float\",columns=['a'])\n",
    "print(b)"
   ]
  },
  {
   "cell_type": "markdown",
   "id": "2e597c8a",
   "metadata": {},
   "source": [
    "# 11) what is pandas series?"
   ]
  },
  {
   "cell_type": "code",
   "execution_count": 22,
   "id": "8b6b5f69",
   "metadata": {},
   "outputs": [
    {
     "name": "stdout",
     "output_type": "stream",
     "text": [
      "pandas series is 1 d data structure.\n",
      "100    a\n",
      "101    b\n",
      "102    c\n",
      "103    d\n",
      "dtype: object\n"
     ]
    }
   ],
   "source": [
    "print(\"pandas series is 1 d data structure.\")\n",
    "import pandas as pd\n",
    "import numpy as np\n",
    "data = np.array(['a','b','c','d'])\n",
    "s =pd.Series(data,index=[100,101,102,103])\n",
    "print(s)"
   ]
  },
  {
   "cell_type": "code",
   "execution_count": null,
   "id": "7f611431",
   "metadata": {},
   "outputs": [],
   "source": []
  }
 ],
 "metadata": {
  "kernelspec": {
   "display_name": "Python 3",
   "language": "python",
   "name": "python3"
  },
  "language_info": {
   "codemirror_mode": {
    "name": "ipython",
    "version": 3
   },
   "file_extension": ".py",
   "mimetype": "text/x-python",
   "name": "python",
   "nbconvert_exporter": "python",
   "pygments_lexer": "ipython3",
   "version": "3.8.8"
  }
 },
 "nbformat": 4,
 "nbformat_minor": 5
}
