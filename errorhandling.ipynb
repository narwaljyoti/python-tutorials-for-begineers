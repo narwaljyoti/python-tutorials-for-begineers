{
 "cells": [
  {
   "cell_type": "code",
   "execution_count": 3,
   "id": "a70fbeb1",
   "metadata": {},
   "outputs": [
    {
     "ename": "TypeError",
     "evalue": "can only concatenate str (not \"int\") to str",
     "output_type": "error",
     "traceback": [
      "\u001b[1;31m---------------------------------------------------------------------------\u001b[0m",
      "\u001b[1;31mTypeError\u001b[0m                                 Traceback (most recent call last)",
      "\u001b[1;32m<ipython-input-3-ef4214456179>\u001b[0m in \u001b[0;36m<module>\u001b[1;34m\u001b[0m\n\u001b[0;32m      8\u001b[0m \u001b[0ma\u001b[0m\u001b[1;33m=\u001b[0m\u001b[1;34m\"harhsit\"\u001b[0m\u001b[1;33m\u001b[0m\u001b[1;33m\u001b[0m\u001b[0m\n\u001b[0;32m      9\u001b[0m \u001b[0mb\u001b[0m\u001b[1;33m=\u001b[0m\u001b[0mint\u001b[0m\u001b[1;33m(\u001b[0m\u001b[1;36m2\u001b[0m\u001b[1;33m)\u001b[0m\u001b[1;33m\u001b[0m\u001b[1;33m\u001b[0m\u001b[0m\n\u001b[1;32m---> 10\u001b[1;33m \u001b[0ma\u001b[0m\u001b[1;33m+\u001b[0m\u001b[0mb\u001b[0m\u001b[1;33m\u001b[0m\u001b[1;33m\u001b[0m\u001b[0m\n\u001b[0m",
      "\u001b[1;31mTypeError\u001b[0m: can only concatenate str (not \"int\") to str"
     ]
    }
   ],
   "source": [
    "#error are the problems in a program due to which the program will stop the execution.\n",
    "\n",
    "    \n",
    "#syntax error:missing any colon,(),syntax is wrong \n",
    "#indentaion error:spaces related problem \n",
    "#nameerror:we use any name/function  but not defind \n",
    "#Typeerror:when we perform any  operation/function in wrong time .\n",
    "#indexerror:when out of index give indexx error\n",
    "#valueerror:when in any function we give right data type but we give wrong values .\n",
    "#attribute error:when any function/method is not exist in python \n",
    "#keyerror:when key is not present s"
   ]
  },
  {
   "cell_type": "markdown",
   "id": "3ec6f084",
   "metadata": {},
   "source": [
    "# Raise error"
   ]
  },
  {
   "cell_type": "code",
   "execution_count": 6,
   "id": "d9ec8d78",
   "metadata": {},
   "outputs": [
    {
     "ename": "TypeError",
     "evalue": "oops you are enetered wrong data type",
     "output_type": "error",
     "traceback": [
      "\u001b[1;31m---------------------------------------------------------------------------\u001b[0m",
      "\u001b[1;31mTypeError\u001b[0m                                 Traceback (most recent call last)",
      "\u001b[1;32m<ipython-input-6-cda01ff456f4>\u001b[0m in \u001b[0;36m<module>\u001b[1;34m\u001b[0m\n\u001b[0;32m      4\u001b[0m         \u001b[1;32mreturn\u001b[0m \u001b[0ma\u001b[0m\u001b[1;33m+\u001b[0m\u001b[0mb\u001b[0m\u001b[1;33m\u001b[0m\u001b[1;33m\u001b[0m\u001b[0m\n\u001b[0;32m      5\u001b[0m     \u001b[1;32mraise\u001b[0m \u001b[0mTypeError\u001b[0m\u001b[1;33m(\u001b[0m\u001b[1;34m\"oops you are enetered wrong data type\"\u001b[0m\u001b[1;33m)\u001b[0m\u001b[1;33m\u001b[0m\u001b[1;33m\u001b[0m\u001b[0m\n\u001b[1;32m----> 6\u001b[1;33m \u001b[0mprint\u001b[0m\u001b[1;33m(\u001b[0m\u001b[0madd\u001b[0m\u001b[1;33m(\u001b[0m\u001b[1;34m\"amit\"\u001b[0m\u001b[1;33m,\u001b[0m\u001b[1;34m\"sumit\"\u001b[0m\u001b[1;33m)\u001b[0m\u001b[1;33m)\u001b[0m\u001b[1;33m\u001b[0m\u001b[1;33m\u001b[0m\u001b[0m\n\u001b[0m",
      "\u001b[1;32m<ipython-input-6-cda01ff456f4>\u001b[0m in \u001b[0;36madd\u001b[1;34m(a, b)\u001b[0m\n\u001b[0;32m      3\u001b[0m     \u001b[1;32mif\u001b[0m \u001b[1;33m(\u001b[0m\u001b[0mtype\u001b[0m\u001b[1;33m(\u001b[0m\u001b[0ma\u001b[0m\u001b[1;33m)\u001b[0m \u001b[1;32mis\u001b[0m \u001b[0mint\u001b[0m\u001b[1;33m)\u001b[0m \u001b[1;32mand\u001b[0m \u001b[1;33m(\u001b[0m\u001b[0mtype\u001b[0m\u001b[1;33m(\u001b[0m\u001b[0mb\u001b[0m\u001b[1;33m)\u001b[0m \u001b[1;32mis\u001b[0m \u001b[0mint\u001b[0m\u001b[1;33m)\u001b[0m\u001b[1;33m:\u001b[0m\u001b[1;33m\u001b[0m\u001b[1;33m\u001b[0m\u001b[0m\n\u001b[0;32m      4\u001b[0m         \u001b[1;32mreturn\u001b[0m \u001b[0ma\u001b[0m\u001b[1;33m+\u001b[0m\u001b[0mb\u001b[0m\u001b[1;33m\u001b[0m\u001b[1;33m\u001b[0m\u001b[0m\n\u001b[1;32m----> 5\u001b[1;33m     \u001b[1;32mraise\u001b[0m \u001b[0mTypeError\u001b[0m\u001b[1;33m(\u001b[0m\u001b[1;34m\"oops you are enetered wrong data type\"\u001b[0m\u001b[1;33m)\u001b[0m\u001b[1;33m\u001b[0m\u001b[1;33m\u001b[0m\u001b[0m\n\u001b[0m\u001b[0;32m      6\u001b[0m \u001b[0mprint\u001b[0m\u001b[1;33m(\u001b[0m\u001b[0madd\u001b[0m\u001b[1;33m(\u001b[0m\u001b[1;34m\"amit\"\u001b[0m\u001b[1;33m,\u001b[0m\u001b[1;34m\"sumit\"\u001b[0m\u001b[1;33m)\u001b[0m\u001b[1;33m)\u001b[0m\u001b[1;33m\u001b[0m\u001b[1;33m\u001b[0m\u001b[0m\n",
      "\u001b[1;31mTypeError\u001b[0m: oops you are enetered wrong data type"
     ]
    }
   ],
   "source": [
    "#when user give wrong values raise error \n",
    "def add(a,b):\n",
    "    if (type(a) is int) and (type(b) is int):\n",
    "        return a+b\n",
    "    raise TypeError(\"oops you are entered wrong data type\")\n",
    "print(add(\"amit\",\"sumit\"))  "
   ]
  },
  {
   "cell_type": "code",
   "execution_count": 13,
   "id": "465af855",
   "metadata": {},
   "outputs": [
    {
     "ename": "NotImplementedError",
     "evalue": "you have to define this method in subclass",
     "output_type": "error",
     "traceback": [
      "\u001b[1;31m---------------------------------------------------------------------------\u001b[0m",
      "\u001b[1;31mNotImplementedError\u001b[0m                       Traceback (most recent call last)",
      "\u001b[1;32m<ipython-input-13-ddf60656a5cd>\u001b[0m in \u001b[0;36m<module>\u001b[1;34m\u001b[0m\n\u001b[0;32m     16\u001b[0m         \u001b[1;32mreturn\u001b[0m \u001b[1;34m\"bhoo bhoo\"\u001b[0m\u001b[1;33m\u001b[0m\u001b[1;33m\u001b[0m\u001b[0m\n\u001b[0;32m     17\u001b[0m \u001b[0mdoggy\u001b[0m\u001b[1;33m=\u001b[0m\u001b[0mDog\u001b[0m\u001b[1;33m(\u001b[0m\u001b[1;34m\"bonny\"\u001b[0m\u001b[1;33m,\u001b[0m\u001b[1;34m\"dug\"\u001b[0m\u001b[1;33m)\u001b[0m\u001b[1;33m\u001b[0m\u001b[1;33m\u001b[0m\u001b[0m\n\u001b[1;32m---> 18\u001b[1;33m \u001b[0mprint\u001b[0m\u001b[1;33m(\u001b[0m\u001b[0mdoggy\u001b[0m\u001b[1;33m.\u001b[0m\u001b[0msound\u001b[0m\u001b[1;33m(\u001b[0m\u001b[1;33m)\u001b[0m\u001b[1;33m)\u001b[0m\u001b[1;33m\u001b[0m\u001b[1;33m\u001b[0m\u001b[0m\n\u001b[0m\u001b[0;32m     19\u001b[0m \u001b[1;31m#now we want animal class ki subclass bani h ,us class ko sound method define krna padega\u001b[0m\u001b[1;33m\u001b[0m\u001b[1;33m\u001b[0m\u001b[1;33m\u001b[0m\u001b[0m\n",
      "\u001b[1;32m<ipython-input-13-ddf60656a5cd>\u001b[0m in \u001b[0;36msound\u001b[1;34m(self)\u001b[0m\n\u001b[0;32m      4\u001b[0m         \u001b[0mself\u001b[0m\u001b[1;33m.\u001b[0m\u001b[0mname\u001b[0m\u001b[1;33m=\u001b[0m\u001b[0mname\u001b[0m\u001b[1;33m\u001b[0m\u001b[1;33m\u001b[0m\u001b[0m\n\u001b[0;32m      5\u001b[0m     \u001b[1;32mdef\u001b[0m \u001b[0msound\u001b[0m\u001b[1;33m(\u001b[0m\u001b[0mself\u001b[0m\u001b[1;33m)\u001b[0m\u001b[1;33m:\u001b[0m\u001b[1;33m\u001b[0m\u001b[1;33m\u001b[0m\u001b[0m\n\u001b[1;32m----> 6\u001b[1;33m         \u001b[1;32mraise\u001b[0m \u001b[0mNotImplementedError\u001b[0m\u001b[1;33m(\u001b[0m\u001b[1;34m\"you have to define this method in subclass\"\u001b[0m\u001b[1;33m)\u001b[0m\u001b[1;33m\u001b[0m\u001b[1;33m\u001b[0m\u001b[0m\n\u001b[0m\u001b[0;32m      7\u001b[0m \u001b[1;32mclass\u001b[0m \u001b[0mDog\u001b[0m\u001b[1;33m(\u001b[0m\u001b[0mAnimal\u001b[0m\u001b[1;33m)\u001b[0m\u001b[1;33m:\u001b[0m\u001b[1;33m\u001b[0m\u001b[1;33m\u001b[0m\u001b[0m\n\u001b[0;32m      8\u001b[0m     \u001b[1;32mdef\u001b[0m \u001b[0m__init__\u001b[0m\u001b[1;33m(\u001b[0m\u001b[0mself\u001b[0m\u001b[1;33m,\u001b[0m\u001b[0mname\u001b[0m\u001b[1;33m,\u001b[0m\u001b[0mbread\u001b[0m\u001b[1;33m)\u001b[0m\u001b[1;33m:\u001b[0m\u001b[1;33m\u001b[0m\u001b[1;33m\u001b[0m\u001b[0m\n",
      "\u001b[1;31mNotImplementedError\u001b[0m: you have to define this method in subclass"
     ]
    }
   ],
   "source": [
    "#example:NotImplementedError    /abstract method:we use this error into inheritance \n",
    "class Animal:\n",
    "    def __init__(self,name):\n",
    "        self.name=name\n",
    "    def sound(self):\n",
    "        raise NotImplementedError(\"you have to define this method in subclass\")\n",
    "class Dog(Animal):\n",
    "    def __init__(self,name,bread):\n",
    "        super().__init__(name)\n",
    "        self.bread=bread\n",
    "class Cat(Animal):\n",
    "    def __init__(self,name,bread):\n",
    "        super().__init__(name)\n",
    "        self.bread=bread\n",
    "    def sound(self):\n",
    "        return \"bhoo bhoo\"\n",
    "doggy=Dog(\"bonny\",\"dug\")\n",
    "print(doggy.sound())\n",
    "#now we want animal class ki subclass bani h ,us class ko sound method define krna padega "
   ]
  },
  {
   "cell_type": "code",
   "execution_count": 21,
   "id": "09b80b40",
   "metadata": {},
   "outputs": [
    {
     "name": "stdout",
     "output_type": "stream",
     "text": [
      "Enter your agedbfhjek\n",
      "May be you entered string instead of number,try again\n",
      "Enter your agehbguydfj\n",
      "May be you entered string instead of number,try again\n",
      "Enter your agevfyude\n",
      "May be you entered string instead of number,try again\n",
      "Enter your agevyuehj\n",
      "May be you entered string instead of number,try again\n",
      "Enter your age3\n"
     ]
    }
   ],
   "source": [
    "#Try,except,exception handling:which error we got during run time called exception \n",
    "\n",
    "#how to handle exception handling :we use try-except-else-finally 3USER JAB TAK INPUT PROVIDE KRTA RHE TAB TAK RIGHT INPUT NA PROVIDE HO.\n",
    "while True:\n",
    "    try:#here we focus on which part we can get error.\n",
    "        age=int(input(\"Enter your age\"))\n",
    "        break   #if we not get any error then loop will break \n",
    "    except ValueError:\n",
    "        print(\"May be you entered string instead of number,try again\")\n",
    "    except:\n",
    "        print(\"unexpected erro\")\n"
   ]
  },
  {
   "cell_type": "code",
   "execution_count": 2,
   "id": "7b38a702",
   "metadata": {},
   "outputs": [
    {
     "name": "stdout",
     "output_type": "stream",
     "text": [
      "enter a number4\n",
      "user input,4\n",
      "finally block always execute\n"
     ]
    }
   ],
   "source": [
    "#else and finally block \n",
    "while True:\n",
    "    try:\n",
    "        number=int(input(\"enter a number\"))\n",
    "        print(f\"user input,{number}\")\n",
    "        break\n",
    "    except ValueError:\n",
    "        print(\"you did not eneter integer\")\n",
    "    except:\n",
    "        print(\"unexpected error\")\n",
    "    else:\n",
    "        print(f\"user input={number}\")#we can also use else block ,if we got error then except block will execute,if we did not get any error then else block will exceute.\n",
    "        #hum chahte h ki koi exception na aye hum use krenge else block \n",
    "        break\n",
    "    finally:  #finally block will always exceute either we will get error or not \n",
    "        print(\"finally block always execute\")"
   ]
  },
  {
   "cell_type": "code",
   "execution_count": 5,
   "id": "0d594087",
   "metadata": {
    "scrolled": true
   },
   "outputs": [
    {
     "name": "stdout",
     "output_type": "stream",
     "text": [
      "enter your nameshbd\n"
     ]
    },
    {
     "ename": "NameTooShortError",
     "evalue": "name is too short",
     "output_type": "error",
     "traceback": [
      "\u001b[1;31m---------------------------------------------------------------------------\u001b[0m",
      "\u001b[1;31mNameTooShortError\u001b[0m                         Traceback (most recent call last)",
      "\u001b[1;32m<ipython-input-5-582f31cc8127>\u001b[0m in \u001b[0;36m<module>\u001b[1;34m\u001b[0m\n\u001b[0;32m      6\u001b[0m         \u001b[1;32mraise\u001b[0m \u001b[0mNameTooShortError\u001b[0m\u001b[1;33m(\u001b[0m\u001b[1;34m'name is too short'\u001b[0m\u001b[1;33m)\u001b[0m\u001b[1;33m\u001b[0m\u001b[1;33m\u001b[0m\u001b[0m\n\u001b[0;32m      7\u001b[0m \u001b[0musername\u001b[0m\u001b[1;33m=\u001b[0m\u001b[0minput\u001b[0m\u001b[1;33m(\u001b[0m\u001b[1;34m\"enter your name\"\u001b[0m\u001b[1;33m)\u001b[0m\u001b[1;33m\u001b[0m\u001b[1;33m\u001b[0m\u001b[0m\n\u001b[1;32m----> 8\u001b[1;33m \u001b[0mvalidate\u001b[0m\u001b[1;33m(\u001b[0m\u001b[0musername\u001b[0m\u001b[1;33m)\u001b[0m\u001b[1;33m\u001b[0m\u001b[1;33m\u001b[0m\u001b[0m\n\u001b[0m\u001b[0;32m      9\u001b[0m \u001b[0mprint\u001b[0m\u001b[1;33m(\u001b[0m\u001b[1;34mf\"hello {username}\"\u001b[0m\u001b[1;33m)\u001b[0m\u001b[1;33m\u001b[0m\u001b[1;33m\u001b[0m\u001b[0m\n",
      "\u001b[1;32m<ipython-input-5-582f31cc8127>\u001b[0m in \u001b[0;36mvalidate\u001b[1;34m(name)\u001b[0m\n\u001b[0;32m      4\u001b[0m \u001b[1;32mdef\u001b[0m \u001b[0mvalidate\u001b[0m\u001b[1;33m(\u001b[0m\u001b[0mname\u001b[0m\u001b[1;33m)\u001b[0m\u001b[1;33m:\u001b[0m\u001b[1;33m\u001b[0m\u001b[1;33m\u001b[0m\u001b[0m\n\u001b[0;32m      5\u001b[0m     \u001b[1;32mif\u001b[0m \u001b[0mlen\u001b[0m\u001b[1;33m(\u001b[0m\u001b[0mname\u001b[0m\u001b[1;33m)\u001b[0m\u001b[1;33m<\u001b[0m\u001b[1;36m8\u001b[0m\u001b[1;33m:\u001b[0m\u001b[1;33m\u001b[0m\u001b[1;33m\u001b[0m\u001b[0m\n\u001b[1;32m----> 6\u001b[1;33m         \u001b[1;32mraise\u001b[0m \u001b[0mNameTooShortError\u001b[0m\u001b[1;33m(\u001b[0m\u001b[1;34m'name is too short'\u001b[0m\u001b[1;33m)\u001b[0m\u001b[1;33m\u001b[0m\u001b[1;33m\u001b[0m\u001b[0m\n\u001b[0m\u001b[0;32m      7\u001b[0m \u001b[0musername\u001b[0m\u001b[1;33m=\u001b[0m\u001b[0minput\u001b[0m\u001b[1;33m(\u001b[0m\u001b[1;34m\"enter your name\"\u001b[0m\u001b[1;33m)\u001b[0m\u001b[1;33m\u001b[0m\u001b[1;33m\u001b[0m\u001b[0m\n\u001b[0;32m      8\u001b[0m \u001b[0mvalidate\u001b[0m\u001b[1;33m(\u001b[0m\u001b[0musername\u001b[0m\u001b[1;33m)\u001b[0m\u001b[1;33m\u001b[0m\u001b[1;33m\u001b[0m\u001b[0m\n",
      "\u001b[1;31mNameTooShortError\u001b[0m: name is too short"
     ]
    }
   ],
   "source": [
    "#custom exception :to increase the readibility of code :just like nametooshort error i want to create instead of value error then we can create a class\n",
    "class NameTooShortError(ValueError):#here we inherit value error \n",
    "    pass\n",
    "def validate(name):\n",
    "    if len(name)<8:\n",
    "        raise NameTooShortError('name is too short')\n",
    "username=input(\"enter your name\")\n",
    "validate(username)\n",
    "print(f\"hello {username}\")"
   ]
  },
  {
   "cell_type": "markdown",
   "id": "a943476e",
   "metadata": {},
   "source": [
    "# Pyhton debugger:Debugging is the process to find the error and fix that errors."
   ]
  },
  {
   "cell_type": "code",
   "execution_count": null,
   "id": "7cc6172b",
   "metadata": {},
   "outputs": [
    {
     "name": "stdout",
     "output_type": "stream",
     "text": [
      "--Return--\n",
      "None\n",
      "> \u001b[1;32m<ipython-input-9-0f3b3abf5d55>\u001b[0m(3)\u001b[0;36m<module>\u001b[1;34m()\u001b[0m\n",
      "\u001b[1;32m      1 \u001b[1;33m\u001b[1;31m#why debugging:our program is not running and causing unexpected error.2.\u001b[0m\u001b[1;33m\u001b[0m\u001b[1;33m\u001b[0m\u001b[1;33m\u001b[0m\u001b[0m\n",
      "\u001b[0m\u001b[1;32m      2 \u001b[1;33m\u001b[1;32mimport\u001b[0m \u001b[0mpdb\u001b[0m  \u001b[1;31m#module:for python debugging we use pdb module.\u001b[0m\u001b[1;33m\u001b[0m\u001b[1;33m\u001b[0m\u001b[0m\n",
      "\u001b[0m\u001b[1;32m----> 3 \u001b[1;33m\u001b[0mpdb\u001b[0m\u001b[1;33m.\u001b[0m\u001b[0mset_trace\u001b[0m\u001b[1;33m(\u001b[0m\u001b[1;33m)\u001b[0m   \u001b[1;31m#is function   /it will stop the program again and again\u001b[0m\u001b[1;33m\u001b[0m\u001b[1;33m\u001b[0m\u001b[0m\n",
      "\u001b[0m\u001b[1;32m      4 \u001b[1;33m\u001b[0mprint\u001b[0m\u001b[1;33m(\u001b[0m\u001b[1;34m\"our program is running but not same result which i want\"\u001b[0m\u001b[1;33m)\u001b[0m\u001b[1;33m\u001b[0m\u001b[1;33m\u001b[0m\u001b[0m\n",
      "\u001b[0m\u001b[1;32m      5 \u001b[1;33m\u001b[0mname\u001b[0m\u001b[1;33m=\u001b[0m\u001b[0minput\u001b[0m\u001b[1;33m(\u001b[0m\u001b[1;34m\"enter your name\"\u001b[0m\u001b[1;33m)\u001b[0m\u001b[1;33m\u001b[0m\u001b[1;33m\u001b[0m\u001b[0m\n",
      "\u001b[0m\n"
     ]
    }
   ],
   "source": [
    "#why debugging:our program is not running and causing unexpected error.2.\n",
    "import pdb  #module:for python debugging we use pdb module.\n",
    "pdb.set_trace()   #is function   /it will stop the program again and again \n",
    "print(\"our program is running but not same result which i want\")\n",
    "name=input(\"enter your name\")\n",
    "age=print(\"please type your age\")\n",
    "print(f\"hello {name} your age is{age}\")\n",
    "age2=age+5\n",
    "print(f\"{name} you will be age {age2} in next five years\")\n",
    "\n"
   ]
  },
  {
   "cell_type": "code",
   "execution_count": null,
   "id": "9300b1ad",
   "metadata": {},
   "outputs": [],
   "source": [
    "\n",
    "#exception handling by durga sir :"
   ]
  },
  {
   "cell_type": "code",
   "execution_count": 16,
   "id": "2fcc988f",
   "metadata": {},
   "outputs": [
    {
     "name": "stdout",
     "output_type": "stream",
     "text": [
      "2 types of error 1)syntax error[writing the code in wrong way] and run time error\n",
      "x value is 10\n",
      "\n",
      "\n",
      "enter first number3\n",
      "enter second number3\n",
      "the result is 1.0\n"
     ]
    },
    {
     "ename": "FileNotFoundError",
     "evalue": "[Errno 2] No such file or directory: 'abc.txt'",
     "output_type": "error",
     "traceback": [
      "\u001b[1;31m---------------------------------------------------------------------------\u001b[0m",
      "\u001b[1;31mFileNotFoundError\u001b[0m                         Traceback (most recent call last)",
      "\u001b[1;32m<ipython-input-16-199ebe6bd9bc>\u001b[0m in \u001b[0;36m<module>\u001b[1;34m\u001b[0m\n\u001b[0;32m      9\u001b[0m \u001b[0mprint\u001b[0m\u001b[1;33m(\u001b[0m\u001b[1;34m\"the result is\"\u001b[0m\u001b[1;33m,\u001b[0m\u001b[0my\u001b[0m\u001b[1;33m/\u001b[0m\u001b[0mz\u001b[0m\u001b[1;33m)\u001b[0m\u001b[1;33m\u001b[0m\u001b[1;33m\u001b[0m\u001b[0m\n\u001b[0;32m     10\u001b[0m \u001b[1;31m#ZeroDivisionError also we get\u001b[0m\u001b[1;33m\u001b[0m\u001b[1;33m\u001b[0m\u001b[1;33m\u001b[0m\u001b[0m\n\u001b[1;32m---> 11\u001b[1;33m \u001b[0mf\u001b[0m\u001b[1;33m=\u001b[0m\u001b[0mopen\u001b[0m\u001b[1;33m(\u001b[0m\u001b[1;34m\"abc.txt\"\u001b[0m\u001b[1;33m)\u001b[0m\u001b[1;33m\u001b[0m\u001b[1;33m\u001b[0m\u001b[0m\n\u001b[0m\u001b[0;32m     12\u001b[0m \u001b[0mprint\u001b[0m\u001b[1;33m(\u001b[0m\u001b[0mf\u001b[0m\u001b[1;33m.\u001b[0m\u001b[0mread\u001b[0m\u001b[1;33m(\u001b[0m\u001b[1;33m)\u001b[0m\u001b[1;33m)\u001b[0m\u001b[1;33m\u001b[0m\u001b[1;33m\u001b[0m\u001b[0m\n",
      "\u001b[1;31mFileNotFoundError\u001b[0m: [Errno 2] No such file or directory: 'abc.txt'"
     ]
    }
   ],
   "source": [
    "print(\"2 types of error 1)syntax error[writing the code in wrong way] and run time error\")\n",
    "x=10\n",
    "if x== 10:  #if we dont give : it will give syntax error\n",
    "    print(\"x value is 10\")  #if we miss the ) or ( also get syntax error\n",
    "print(\"\\n\")\n",
    "#run time error :at rune time we get error \n",
    "y=int(input(\"enter first number\"))   #if we give string value then it will give run time error\n",
    "z=int(input(\"enter second number\"))\n",
    "print(\"the result is\",y/z)\n",
    "#ZeroDivisionError also we get \n",
    "\n"
   ]
  },
  {
   "cell_type": "markdown",
   "id": "1505f3c0",
   "metadata": {},
   "source": [
    "# EXCEPTION HANDLING ERROR APPLICABLE ONLY FOR RUN TIME ERROR."
   ]
  },
  {
   "cell_type": "code",
   "execution_count": 17,
   "id": "e5370774",
   "metadata": {},
   "outputs": [
    {
     "name": "stdout",
     "output_type": "stream",
     "text": [
      "some unexpected ,unwanted event that distrubed normal flow just like internet goes in between while watching any videos.\n"
     ]
    }
   ],
   "source": [
    "# Q1)what is an exception?\n",
    "print(\"some unexpected ,unwanted event that distrubed normal flow  of program just like internet goes in between while watching any videos.\")\n",
    "#q2)what is the main objective for exception handling?\n",
    "print(\"graceful termination of the program,we should not blast our program.\")\n",
    "#q3)what is the meaninf of exception handling?\n",
    "print(\"exception handling does not mean repairing an exception,we have to define alternative way to continue rest of the program normally/way of defining alternative is nothing exception handling.\")\n",
    "print()"
   ]
  },
  {
   "cell_type": "code",
   "execution_count": null,
   "id": "98d23480",
   "metadata": {},
   "outputs": [],
   "source": []
  }
 ],
 "metadata": {
  "kernelspec": {
   "display_name": "Python 3",
   "language": "python",
   "name": "python3"
  },
  "language_info": {
   "codemirror_mode": {
    "name": "ipython",
    "version": 3
   },
   "file_extension": ".py",
   "mimetype": "text/x-python",
   "name": "python",
   "nbconvert_exporter": "python",
   "pygments_lexer": "ipython3",
   "version": "3.8.8"
  }
 },
 "nbformat": 4,
 "nbformat_minor": 5
}
