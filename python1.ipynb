{
 "cells": [
  {
   "cell_type": "code",
   "execution_count": 1,
   "id": "c1c074f7",
   "metadata": {},
   "outputs": [
    {
     "name": "stdout",
     "output_type": "stream",
     "text": [
      "use to print something on the screen \n",
      "hello world...\n",
      "string is collection of character inside double or single quotes\n",
      "python is 'general purpose.' HLP language\n"
     ]
    }
   ],
   "source": [
    "print(\"use to print something on the screen \")\n",
    "print(\"hello world...\")#here we can use single or double quotes(use to join more than 1 string..)\n",
    "print(\"string is collection of character inside double or single quotes\")\n",
    "\n",
    "#we can use single quotes inside double quotes   or double quotes inside single quotes \n",
    "print(\"python is 'general purpose.' HLP language\")"
   ]
  },
  {
   "cell_type": "markdown",
   "id": "dbf0c160",
   "metadata": {},
   "source": [
    "# Escape sequences   \n",
    "\\' single quote     \\\" double quotes    \\\\-backslash    \\n-new line   \\t -tab   \\b backspace"
   ]
  },
  {
   "cell_type": "code",
   "execution_count": 28,
   "id": "71df0132",
   "metadata": {},
   "outputs": [
    {
     "name": "stdout",
     "output_type": "stream",
     "text": [
      "i'm harshit\n",
      "free and easy \"to\" use \n",
      "lineA\n",
      "lineB\n",
      "python is dynamically type and interpreted\tlangauge\n",
      "hell\blo\n",
      "this is single \\backslash \n",
      "this is double \\\\ backslash\n",
      "comments # this is only for user so that user can understand \n",
      "line a \\n lineb\n",
      "linea\\t line b\n",
      "\\\" \\'\n",
      "this is double backslash \\\\\n",
      "this is /\\/\\/\\ mountain\n",
      "he is \t \t awesome\n",
      "\\n \\t \\'\n",
      "linea \\nlineb\n",
      "😅\n"
     ]
    }
   ],
   "source": [
    "#\n",
    "print(\"i\\'m harshit\")     #single quote \\'\n",
    "print('free and easy \\\"to\\\" use ')  #double quotes \n",
    "print(\"lineA\\nlineB\")   #IT will print in the next line \n",
    "print(\"python is dynamically type and interpreted\\tlangauge\")  #\\t is use for tab \n",
    "print(\"hell\\blo\")   #i add 1 ; extra in hello to remove 1 extra l we use \\b\n",
    "\n",
    "print(\"this is single \\\\backslash \")\n",
    "print(\"this is double \\\\\\\\ backslash\")\n",
    "print(\"comments # this is only for user so that user can understand \") \n",
    "\n",
    "#escape sequence as normal text :\n",
    "\n",
    "#output linea\\nlineb   #here \\n means next line but we want to print this as normal text \n",
    "print(\"line a \\\\n lineb\")   \n",
    "print(\"linea\\\\t line b\")\n",
    "\n",
    "#output::  \\\" \\'\n",
    "print(\"\\\\\\\" \\\\\\'\")\n",
    "\n",
    "print(\"this is double backslash \\\\\\\\\")\n",
    "print(\"this is /\\/\\/\\ mountain\")\n",
    "print(\"he is \\t \\t awesome\")\n",
    "print(\"\\\\n \\\\t \\\\'\")\n",
    "print(r\"linea \\nlineb\")   #r OR R WE CAN use this r and escape sequence will become normal text \n",
    "print(\"\\U0001F605\")  #print emoji (u+1F605)  #ADD \\ at the starting and +(000)"
   ]
  },
  {
   "cell_type": "code",
   "execution_count": 39,
   "id": "b37a9eb1",
   "metadata": {},
   "outputs": [
    {
     "name": "stdout",
     "output_type": "stream",
     "text": [
      "add -1\n",
      "sub 5\n",
      "mul 8\n",
      "float division(result always float value...) 2.0\n",
      "integer division(result always int value) 2\n",
      "modulo(it gives remainder) 1\n",
      "exponent 27\n"
     ]
    }
   ],
   "source": [
    "#python as a calculator \n",
    "print(\"add\",2-3)\n",
    "print(\"sub\",2+3)\n",
    "print(\"mul\",2*4)\n",
    "print(\"float division(result always float value...)\",4/2)\n",
    "print(\"integer division(result always int value)\",4//2)\n",
    "print(\"modulo(it gives remainder)\",4%3)\n",
    "print(\"exponent\",3**3)"
   ]
  },
  {
   "cell_type": "markdown",
   "id": "8f2c1f67",
   "metadata": {},
   "source": [
    "# variables:are use to store any value(string,int,float,set,dict etc) and we can change the value of the variable ."
   ]
  },
  {
   "cell_type": "code",
   "execution_count": 60,
   "id": "43e1f786",
   "metadata": {},
   "outputs": [
    {
     "name": "stdout",
     "output_type": "stream",
     "text": [
      "3\n",
      "can not start with number 4num not valid ,any special character($,%,&) also can not use as a variable \n",
      "hello harshit your age is24\n"
     ]
    }
   ],
   "source": [
    "num1=3\n",
    "print(num1)\n",
    "#rules for variable \n",
    "print(\"can not start with number 4num not valid ,any special character($,%,&) also can not use as a variable \")\n",
    "\n",
    "\n",
    "#naming conventions for variables  :recommendition\n",
    "user_name_one=\"jyoti\"  #snake case writing\n",
    "#camel case writing\n",
    "User_Name=\"monika\"\n",
    "\n",
    "#more about variables \n",
    "name,age=\"harshit\",\"24\" \n",
    "print(\"hello\" \" \" + name+ \" \"\"your age is\" +age)\n"
   ]
  },
  {
   "cell_type": "markdown",
   "id": "92bde2b4",
   "metadata": {},
   "source": [
    "# string concatenation :add 2 string "
   ]
  },
  {
   "cell_type": "code",
   "execution_count": 1,
   "id": "386f0490",
   "metadata": {},
   "outputs": [
    {
     "name": "stdout",
     "output_type": "stream",
     "text": [
      "harshitvasishtha\n",
      "harshit vasishtha\n",
      "harshitharshitharshit\n"
     ]
    }
   ],
   "source": [
    "f_name,l_name=\"harshit\",\"vasishtha\"\n",
    "print(f_name+l_name)   #it will not print space in between both string   harshitvasishtha #\n",
    "print(f_name +\" \" +l_name)   #add space bewteen 2 string \n",
    "#print(f_name+3)   #we can not add string with integer  (convert int with str then add )\n",
    "print(f_name*3)   #we can multiply string with number \n"
   ]
  },
  {
   "cell_type": "markdown",
   "id": "d9490223",
   "metadata": {},
   "source": [
    "# user input :take the input from the user or keyboard "
   ]
  },
  {
   "cell_type": "code",
   "execution_count": 1,
   "id": "b85fb041",
   "metadata": {},
   "outputs": [
    {
     "ename": "NameError",
     "evalue": "name 'a' is not defined",
     "output_type": "error",
     "traceback": [
      "\u001b[1;31m---------------------------------------------------------------------------\u001b[0m",
      "\u001b[1;31mNameError\u001b[0m                                 Traceback (most recent call last)",
      "\u001b[1;32m<ipython-input-1-1d1609c06407>\u001b[0m in \u001b[0;36m<module>\u001b[1;34m\u001b[0m\n\u001b[0;32m      1\u001b[0m \u001b[1;31m# a=input(\"enter your name\")\u001b[0m\u001b[1;33m\u001b[0m\u001b[1;33m\u001b[0m\u001b[1;33m\u001b[0m\u001b[0m\n\u001b[1;32m----> 2\u001b[1;33m \u001b[0mprint\u001b[0m\u001b[1;33m(\u001b[0m\u001b[0ma\u001b[0m\u001b[1;33m)\u001b[0m\u001b[1;33m\u001b[0m\u001b[1;33m\u001b[0m\u001b[0m\n\u001b[0m\u001b[0;32m      3\u001b[0m \u001b[0mprint\u001b[0m\u001b[1;33m(\u001b[0m\u001b[0mtype\u001b[0m\u001b[1;33m(\u001b[0m\u001b[0ma\u001b[0m\u001b[1;33m)\u001b[0m\u001b[1;33m)\u001b[0m    \u001b[1;31m#input() will take input always as a string either it will be a number\u001b[0m\u001b[1;33m\u001b[0m\u001b[1;33m\u001b[0m\u001b[0m\n\u001b[0;32m      4\u001b[0m \u001b[1;33m\u001b[0m\u001b[0m\n\u001b[0;32m      5\u001b[0m \u001b[1;31m#wap to take input from user and print sum\u001b[0m\u001b[1;33m\u001b[0m\u001b[1;33m\u001b[0m\u001b[1;33m\u001b[0m\u001b[0m\n",
      "\u001b[1;31mNameError\u001b[0m: name 'a' is not defined"
     ]
    }
   ],
   "source": [
    "# a=input(\"enter your name\")\n",
    "print(a)\n",
    "print(type(a))    #input() will take input always as a string either it will be a number\n",
    "\n",
    "#wap to take input from user and print sum \n",
    "n1=float(input(\"enter first number\"))\n",
    "n2=float(input(\"enter second number\"))\n",
    "total=n1+n2\n",
    "print(total)\n",
    "\n",
    "#2 or more input in 1 line\n",
    "name,age=input(\"enter your name and age\").split(\" \")  #split(\",\")  #use to split a string into list at a specified seprator \n",
    "print(name)\n",
    "print(age)\n",
    "\n",
    "#string formatting:python3 for handling complex string formatting more efficiently\n",
    "name,age=\"harshit\",24\n",
    "print(\"hello my name is\" +name+ \"and age is\" +str(age))  #ugly syntax\n",
    "name,age=\"harshit\",\"24\"\n",
    "print(\"hello my name is\" +name+ \"and age is\" +str(age))  #ugly syntax\n",
    "print(\"hello {} and age is {}\".format(name,age))   #python 3 with format method\n",
    "n1=\"jyoti\"\n",
    "n2=34\n",
    "print(f\"hello {n1} and age is {n2}\")  #python 3.6 formatting with string literals(f)\n",
    "# %s-string  %f-floatingpoint number   ,,, %d-integer ,,, %b-binary foramt\n",
    "print('joe stood up and %s to the crowd' %'spoke')\n",
    "print(\"there are %d dogs\" %4)\n",
    "#ask user to input 3 numbers (in single line)and print average of 3 numbers using string formatting \n",
    "n1,n2,n3=input(\"enter three number\").split(\",\")\n",
    "\n",
    "print(f\"average of three number is{((int(n1)+int(n2)+int(n3))//3)}\")"
   ]
  },
  {
   "cell_type": "markdown",
   "id": "8331303c",
   "metadata": {},
   "source": [
    "# string indexing:access the string using index by default start with 0 position "
   ]
  },
  {
   "cell_type": "code",
   "execution_count": 2,
   "id": "45ed16fd",
   "metadata": {},
   "outputs": [
    {
     "name": "stdout",
     "output_type": "stream",
     "text": [
      "access data from 0 to end position called forward indexing\n",
      "acccess data from last to start called backward indexing\n",
      "p\n",
      "o\n",
      "n\n",
      "11\n",
      "programming\n",
      "gnimmargorp\n",
      "porm\n",
      "enter user name ghjgklb\n",
      "blkgjhg\n",
      "user name is reverse order {'blkgjhg'}\n",
      "len() is used to count the length of the string and also count spaces 19\n"
     ]
    },
    {
     "ename": "NameError",
     "evalue": "name 'c' is not defined",
     "output_type": "error",
     "traceback": [
      "\u001b[1;31m---------------------------------------------------------------------------\u001b[0m",
      "\u001b[1;31mNameError\u001b[0m                                 Traceback (most recent call last)",
      "\u001b[1;32m<ipython-input-2-51d53e17083e>\u001b[0m in \u001b[0;36m<module>\u001b[1;34m\u001b[0m\n\u001b[0;32m     21\u001b[0m \u001b[0mname\u001b[0m\u001b[1;33m=\u001b[0m\u001b[1;34m\"haAAArhsit Vasistha\"\u001b[0m\u001b[1;33m\u001b[0m\u001b[1;33m\u001b[0m\u001b[0m\n\u001b[0;32m     22\u001b[0m \u001b[0mprint\u001b[0m\u001b[1;33m(\u001b[0m\u001b[1;34m\"len() is used to count the length of the string and also count spaces\"\u001b[0m\u001b[1;33m,\u001b[0m\u001b[0mlen\u001b[0m\u001b[1;33m(\u001b[0m\u001b[0mname\u001b[0m\u001b[1;33m)\u001b[0m\u001b[1;33m)\u001b[0m\u001b[1;33m\u001b[0m\u001b[1;33m\u001b[0m\u001b[0m\n\u001b[1;32m---> 23\u001b[1;33m \u001b[0mprint\u001b[0m\u001b[1;33m(\u001b[0m\u001b[1;34m\"lower() is used to convert all upper case character into lower\"\u001b[0m\u001b[1;33m,\u001b[0m\u001b[0mc\u001b[0m\u001b[1;33m.\u001b[0m\u001b[0mlower\u001b[0m\u001b[1;33m(\u001b[0m\u001b[1;33m)\u001b[0m\u001b[1;33m)\u001b[0m\u001b[1;33m\u001b[0m\u001b[1;33m\u001b[0m\u001b[0m\n\u001b[0m\u001b[0;32m     24\u001b[0m \u001b[0mc\u001b[0m\u001b[1;33m=\u001b[0m\u001b[1;34m\"PYTHON IS DEVELOPED BY GUIDOVEN ROSSUIM IN 1989.\"\u001b[0m\u001b[1;33m\u001b[0m\u001b[1;33m\u001b[0m\u001b[0m\n\u001b[0;32m     25\u001b[0m \u001b[0mprint\u001b[0m\u001b[1;33m(\u001b[0m\u001b[1;34m\"upper() is used to convert all string into lower case \"\u001b[0m\u001b[1;33m,\u001b[0m\u001b[0mname\u001b[0m\u001b[1;33m.\u001b[0m\u001b[0mupper\u001b[0m\u001b[1;33m(\u001b[0m\u001b[1;33m)\u001b[0m\u001b[1;33m)\u001b[0m\u001b[1;33m\u001b[0m\u001b[1;33m\u001b[0m\u001b[0m\n",
      "\u001b[1;31mNameError\u001b[0m: name 'c' is not defined"
     ]
    }
   ],
   "source": [
    "print(\"access data from 0 to end position called forward indexing\")\n",
    "print(\"acccess data from last to start called backward indexing\")\n",
    "a=\"python\"\n",
    "print(a[0])\n",
    "print(a[4])\n",
    "#print(\"when index is out of range\",a[9])\n",
    "print(a[-1])  #access last element\n",
    "#string slicing /selecting sub sequences (means want to print more than 1 character)  str[start:stop-1:step]\n",
    "b=\"programming\"\n",
    "print(len(b))\n",
    "print(b[:])  #start and stop argumnet are optional \n",
    "print(b[-1::-1])  #reverse of the string \n",
    "print(b[0:8:2])   #step argument with 2 step \n",
    "#wap ask user name and print back user name in revese order (program of 2 line) \n",
    "name=input(\"enter user name \")\n",
    "print(name[-1::-1])\n",
    "print(f\"user name is reverse order\",{name[-1::-1]})\n",
    "\n",
    "#string method :::\n",
    "#str.len()\n",
    "name=\"haAAArhsit Vasistha\"\n",
    "print(\"len() is used to count the length of the string and also count spaces\",len(name))\n",
    "print(\"lower() is used to convert all upper case character into lower\",c.lower())\n",
    "c=\"PYTHON IS DEVELOPED BY GUIDOVEN ROSSUIM IN 1989.\"\n",
    "print(\"upper() is used to convert all string into lower case \",name.upper())\n",
    "print(\"str.title() it will change first letter of string into upper case\",c.title())\n",
    "print(\"count('char') how many times any character in the given string\" ,c.count('O'))\n",
    "#strip method :to reslove space problem we use strip method #if we have large space in between any string strip method will not remove that space \n",
    "name=\"      harshit     \"\n",
    "dots=\"................\"\n",
    "print(name+dots)\n",
    "print(\"want to remove left space\",name.lstrip()+dots)\n",
    "name=\"      harshit     \"\n",
    "dots=\"................\"\n",
    "print(name+dots)\n",
    "print(\"want to remove right side  space\",name.rstrip()+dots)\n",
    "print(\"want to remove both space at 1 time \",name.strip())\n",
    "print(name.replace(\" \",\"\")) #will remove between space of any string \n",
    "\n",
    "\n",
    "#TAKE 2 COMMA SEPRATED INPUT FROM THE USER  1)user name 2)single char    output print lines ,count that charcter \n",
    "name,char=input(\"enter any name or character using comma seprated\").split(\",\")\n",
    "print(\"length of the user \",len(name))\n",
    "\n",
    "print(f\"charcater count :{name.lower().count(char.lower())}\")  #after comma if we will give some space then it will give char count as 0 TO solve this problem strip method is use \n",
    "print(f\"character count :{name.strip().lower().count(char.strip().lower())}\")\n"
   ]
  },
  {
   "cell_type": "code",
   "execution_count": 17,
   "id": "47ec830c",
   "metadata": {},
   "outputs": [
    {
     "name": "stdout",
     "output_type": "stream",
     "text": [
      "she was beautiful and she is good dancer\n",
      "4\n",
      "41\n",
      "**harshit**\n"
     ]
    }
   ],
   "source": [
    "#difference between find and replace method\n",
    "string1=\"she is beautiful and she is good dancer\"\n",
    "print(string1.replace(\"is\",\"was\",1))  #str.replace(old,new,position) 1 mention first change 1st is in given string \n",
    "\n",
    "#find (word,position) is use to find the position of string and character also,position(konsi position s search krna h ) \n",
    "print(string1.find(\"is\"))  #4 is output because is starting from 4position \n",
    "#when we dont know any is position in given string \n",
    "c=\"python is general purpose high level and is easy to use\"\n",
    "is_pos1=c.find(\"is\")\n",
    "is_pos=c.find(\"is\",is_pos1+1)  \n",
    "print(is_pos)\n",
    "\n",
    "\n",
    "#center method:want to add some space \n",
    "name=\"harshit\"    #output  **harshit**\n",
    "print(name.center(len(name)+4,'*'))  \n",
    "print(\"string are immutable once created can not change any character\")"
   ]
  },
  {
   "cell_type": "markdown",
   "id": "58770543",
   "metadata": {},
   "source": [
    "# Flow control "
   ]
  },
  {
   "cell_type": "code",
   "execution_count": 7,
   "id": "ddf07b7b",
   "metadata": {},
   "outputs": [
    {
     "name": "stdout",
     "output_type": "stream",
     "text": [
      "enter your age10\n",
      "your are below 14\n"
     ]
    }
   ],
   "source": [
    "#### if-else:if statement is use to check the condition if true then if part will execute otherwise else part will execute .\n",
    "age=int(input(\"enter your age\"))\n",
    "if age>=14:\n",
    "    print(\"you are above 14\")\n",
    "else:\n",
    "    print(\"your are below 14\")"
   ]
  },
  {
   "cell_type": "code",
   "execution_count": 13,
   "id": "935a594b",
   "metadata": {},
   "outputs": [
    {
     "name": "stdout",
     "output_type": "stream",
     "text": [
      "Enter some random number27\n",
      "you won\n"
     ]
    }
   ],
   "source": [
    "#exercise:number guessing game ,make a variable ,like winning_number and assign any number to it \n",
    "#ask user to guess a number \n",
    "#if user guessed correctly then print you won  #\n",
    "#if user did not guessed correctly then :user guessed lower than actual number then print too low\n",
    "#if user guessed higher than actual number then print too high \n",
    "win_num=27\n",
    "winning_number=int(input(\"Enter some random number\"))\n",
    "if winning_number==win_num:\n",
    "    print(\"you won\")\n",
    "else:\n",
    "    if winning_number<win_num:\n",
    "        print(\"too low\")\n",
    "    else:\n",
    "        print(\"too high\")"
   ]
  },
  {
   "cell_type": "code",
   "execution_count": 2,
   "id": "7065dfda",
   "metadata": {},
   "outputs": [
    {
     "name": "stdout",
     "output_type": "stream",
     "text": [
      "Enter user age0\n",
      "ticket price is 200\n"
     ]
    }
   ],
   "source": [
    "#if-elif-else     when we have multiple condition \n",
    "age=int(input(\"Enter user age\"))\n",
    "if 0<age<=3:\n",
    "    print(\"Ticket price free\")\n",
    "elif 3<age<=10:\n",
    "    print(\"150 is the fare\")\n",
    "elif 10<age<=60:\n",
    "    print(\"fare is 250\")\n",
    "else:\n",
    "    print(\"ticket price is 200\")"
   ]
  },
  {
   "cell_type": "code",
   "execution_count": 3,
   "id": "11d702a5",
   "metadata": {},
   "outputs": [
    {
     "name": "stdout",
     "output_type": "stream",
     "text": [
      "condition true\n",
      "\n",
      "\n",
      "True\n"
     ]
    }
   ],
   "source": [
    "#and,or operator :check 2 condition at same time \n",
    "name,age=\"abc\",19\n",
    "if name==\"abc\" and age==19:   #when both condition are True   overall condition true otherwise condition false\n",
    "    print(\"condition true\")\n",
    "else:\n",
    "    print(\"condition false\")\n",
    "print(\"\\n\")\n",
    "    \n",
    "#or operator:when any 1 condition is True then condition will True\n",
    "if name==\"abc\" or age==24:\n",
    "    print(True)\n",
    "else:\n",
    "    print(False)"
   ]
  },
  {
   "cell_type": "code",
   "execution_count": 5,
   "id": "a95244da",
   "metadata": {},
   "outputs": [
    {
     "name": "stdout",
     "output_type": "stream",
     "text": [
      "not present\n"
     ]
    }
   ],
   "source": [
    "#in-keyword:use to check whether value is present in sequence or not \n",
    "name=\"harshit\"\n",
    "if 'j' in name:\n",
    "    print(\"present\")\n",
    "else:\n",
    "    print(\"not present\")\n",
    "\n",
    "    \n"
   ]
  },
  {
   "cell_type": "code",
   "execution_count": 10,
   "id": "5474d3ad",
   "metadata": {},
   "outputs": [
    {
     "name": "stdout",
     "output_type": "stream",
     "text": [
      "enter your namejyoti\n",
      "user namejyoti\n"
     ]
    }
   ],
   "source": [
    "#check empty or not \n",
    "name=input(\"enter your name\")\n",
    "if name:    #if string is not empty true otherwise false\n",
    "    print(f\"user name{name}\")\n",
    "else:\n",
    "    print(\"you did not type anything\")"
   ]
  },
  {
   "cell_type": "code",
   "execution_count": null,
   "id": "69cdb198",
   "metadata": {},
   "outputs": [],
   "source": [
    "#while loop:as long as condition is true,statement is execute,when condition false while loop will stop the execution\n",
    "i=1\n",
    "while i<=10:\n",
    "    print(\"hello world\")\n",
    "    i=i+1"
   ]
  },
  {
   "cell_type": "code",
   "execution_count": 1,
   "id": "397ad6ec",
   "metadata": {},
   "outputs": [
    {
     "name": "stdout",
     "output_type": "stream",
     "text": [
      "210\n"
     ]
    }
   ],
   "source": [
    "#sum using while loop 1 to 20 \n",
    "total=0\n",
    "i=1\n",
    "while i<=20:\n",
    "    total=total+i\n",
    "    i=i+1   #i+=1\n",
    "print(total)    \n",
    "\n",
    "    "
   ]
  },
  {
   "cell_type": "code",
   "execution_count": 6,
   "id": "eaed1e3e",
   "metadata": {},
   "outputs": [
    {
     "name": "stdout",
     "output_type": "stream",
     "text": [
      "enter any number123\n",
      "6\n"
     ]
    }
   ],
   "source": [
    "#ask user to input a number contaning more than 1 digit and calculate sum of that numbe r\n",
    "num=input(\"enter any number\")\n",
    "total=0\n",
    "i=0  #i have to start with 0 index \n",
    "while i<len(num):\n",
    "    total=total+int(num[i])\n",
    "    i=i+1\n",
    "print(total)"
   ]
  },
  {
   "cell_type": "code",
   "execution_count": 10,
   "id": "f1433d2b",
   "metadata": {},
   "outputs": [
    {
     "name": "stdout",
     "output_type": "stream",
     "text": [
      "enter user nameharshit\n",
      "h:2\n",
      "a:1\n",
      "r:1\n",
      "s:1\n",
      "i:1\n",
      "t:1\n"
     ]
    }
   ],
   "source": [
    "#ask user for name and print count of each words \n",
    "name=input(\"enter user name\")\n",
    "i=0\n",
    "temp_var=\"\"\n",
    "while i<len(name):\n",
    "    if name[i] not in temp_var:\n",
    "        temp_var=temp_var+name[i]\n",
    "        print(f\"{name[i]}:{name.count(name[i])}\")\n",
    "    i=i+1\n",
    "        \n",
    "    "
   ]
  },
  {
   "cell_type": "code",
   "execution_count": null,
   "id": "77ed69ce",
   "metadata": {},
   "outputs": [],
   "source": [
    "#infinite loop :which never stop , by mistake or khud s chalye\n",
    "i=0\n",
    "while i<10:\n",
    "   # print(i)   \n",
    "    #i=i+1  #by mistake we forgot to mention increment -create infinite loop "
   ]
  },
  {
   "cell_type": "code",
   "execution_count": 3,
   "id": "2595a5c8",
   "metadata": {},
   "outputs": [
    {
     "name": "stdout",
     "output_type": "stream",
     "text": [
      "enter natural number20\n",
      "210\n"
     ]
    }
   ],
   "source": [
    "#sum of n natural number ask from the user for natural number(n) print sum  of n number \n",
    "n=int(input(\"enter natural number\"))\n",
    "total=0\n",
    "i=1\n",
    "while i<=n:\n",
    "    total=total+i\n",
    "    i=i+1\n",
    "print(total)"
   ]
  },
  {
   "cell_type": "code",
   "execution_count": 6,
   "id": "1dde791d",
   "metadata": {},
   "outputs": [
    {
     "name": "stdout",
     "output_type": "stream",
     "text": [
      "0\n",
      "1\n",
      "2\n",
      "3\n",
      "4\n",
      "5\n",
      "6\n",
      "7\n",
      "8\n",
      "9\n",
      "\n",
      "\n",
      "210\n"
     ]
    }
   ],
   "source": [
    "#for loop with range function \n",
    "for i in range(0,10):   #range(start,stop-1)\n",
    "    print(i)\n",
    "print(\"\\n\")\n",
    "t=0\n",
    "for i in range(1,21):\n",
    "    t=t+i\n",
    "print(t)"
   ]
  },
  {
   "cell_type": "code",
   "execution_count": 10,
   "id": "8c58c54a",
   "metadata": {},
   "outputs": [
    {
     "name": "stdout",
     "output_type": "stream",
     "text": [
      "enter number 123\n",
      "6\n"
     ]
    }
   ],
   "source": [
    "#take input from the user and sum that number\n",
    "num=input(\"enter number \")\n",
    "total=0\n",
    "for i in range(0,len(num)):\n",
    "    total=total+int(num[i])\n",
    "print(total)"
   ]
  },
  {
   "cell_type": "code",
   "execution_count": 13,
   "id": "01e62c37",
   "metadata": {},
   "outputs": [
    {
     "name": "stdout",
     "output_type": "stream",
     "text": [
      "h :2\n",
      "a :1\n",
      "r :1\n",
      "s :1\n",
      "i :1\n",
      "t :1\n"
     ]
    }
   ],
   "source": [
    "#ask user name and count each characte \n",
    "name=\"harshit\"\n",
    "temp_var=\"\"\n",
    "for i in range(0,len(name)):\n",
    "    if name[i] not in temp_var:\n",
    "        print(f\"{name[i]} :{name.count(name[i])}\")\n",
    "        temp_var=temp_var+name[i]\n",
    "        "
   ]
  },
  {
   "cell_type": "code",
   "execution_count": null,
   "id": "96970edd",
   "metadata": {},
   "outputs": [],
   "source": [
    "#exercise ask user name and age :if user name start with ('a' or 'A') and age is above 18then print(\"you can watch coco\") else:print(\"sorry,you can not wathc movie\")\n",
    "name=input(\"enter user name\")\n",
    "age=int(input(\"enter user age \"))\n",
    "if name[0]=='a' or name[0]=='A' and age<10:\n",
    "    print(\"you can watch coco movie\")\n",
    "else:\n",
    "    print(\"sorry,you can not watch coco movie\")"
   ]
  },
  {
   "cell_type": "code",
   "execution_count": 2,
   "id": "922e981b",
   "metadata": {},
   "outputs": [
    {
     "name": "stdout",
     "output_type": "stream",
     "text": [
      "1\n",
      "2\n",
      "3\n",
      "4\n",
      "\n",
      "\n",
      "1\n",
      "2\n",
      "3\n",
      "4\n",
      "6\n",
      "7\n",
      "8\n",
      "9\n",
      "10\n"
     ]
    }
   ],
   "source": [
    "#break and continue keyword\n",
    "for i in range(1,11):\n",
    "    if i==5:\n",
    "        break\n",
    "    print(i)     #when condition met it will terminate the execution \n",
    "print(\"\\n\")\n",
    "for i in range(1,11):\n",
    "    if i==5:\n",
    "        continue\n",
    "    print(i)  #it will skip only those part where condition met "
   ]
  },
  {
   "cell_type": "code",
   "execution_count": 6,
   "id": "8c61e7cb",
   "metadata": {},
   "outputs": [
    {
     "name": "stdout",
     "output_type": "stream",
     "text": [
      "10\n",
      "9\n",
      "8\n",
      "7\n",
      "6\n",
      "5\n",
      "4\n",
      "3\n",
      "2\n",
      "1\n"
     ]
    }
   ],
   "source": [
    "#step argument in range function \n",
    "for i in range(10,0,-1):\n",
    "    print(i)"
   ]
  },
  {
   "cell_type": "code",
   "execution_count": null,
   "id": "3a1671a8",
   "metadata": {},
   "outputs": [],
   "source": [
    "#pass statement  :when we need statement but dont want to execute (dont want to write anything )\n",
    "sequence=[\"a\",\"e\",\"i\",\"o\",'u']\n",
    "for i in sequence:\n",
    "    pass"
   ]
  },
  {
   "cell_type": "code",
   "execution_count": null,
   "id": "248e8501",
   "metadata": {},
   "outputs": [],
   "source": []
  },
  {
   "cell_type": "markdown",
   "id": "f5e79014",
   "metadata": {},
   "source": [
    "# list :ordered collection of items(str,float,int)  seprated by , &enclosed with [square brackets]"
   ]
  },
  {
   "cell_type": "code",
   "execution_count": 7,
   "id": "99295781",
   "metadata": {},
   "outputs": [
    {
     "name": "stdout",
     "output_type": "stream",
     "text": [
      "[3, 4, 'jyoti', 'karma', None, 'python']\n",
      "karma\n",
      "[3, 4, 'jyoti']\n",
      "['python', None, 'karma', 'jyoti', 4, 3]\n",
      "['programming', 4, 'jyoti', 'karma', None, 'python']\n"
     ]
    }
   ],
   "source": [
    "#syntax of the list \n",
    "list1=[3,4,'jyoti','karma',None,'python']\n",
    "print(list1)\n",
    "\n",
    "#how to access elements of the list \n",
    "#print(\"access list\",list1[4])  #will give error when out of range\n",
    "\n",
    "print(list1[3])  #karma\n",
    "print(list1[0:3])\n",
    "print(list1[-1::-1])\n",
    "list1[0]=\"programming\"   #we can change list elements after creating the list \n",
    "print(list1)"
   ]
  },
  {
   "cell_type": "code",
   "execution_count": 1,
   "id": "17786feb",
   "metadata": {},
   "outputs": [
    {
     "name": "stdout",
     "output_type": "stream",
     "text": [
      "['apple', 'mango', 'banana', 'pineapple']\n",
      "['kerala', 'punjab']\n",
      "\n",
      "\n",
      "['kerala', 'harayana', 'punjab']\n",
      "extend method does not return any value.... None\n",
      "after extending 1 list into another list ['apple', 'mango', 'banana', 'pineapple', ['kerala', 'harayana', 'punjab']]\n"
     ]
    }
   ],
   "source": [
    "#add data in the list   list.append(item):add item at the end of the list automatically\n",
    "fruits=[\"apple\",\"mango\",\"banana\"]\n",
    "fruits.append(\"pineapple\")\n",
    "print(fruits)\n",
    "\n",
    "list2=[]   #suppose we have empty list or we dont know how many elements are there in this case we use append method \n",
    "list2.append(\"kerala\")\n",
    "list2.append(\"punjab\")\n",
    "print(list2)\n",
    "print(\"\\n\")\n",
    "\n",
    "\n",
    "#list.insert(index,value):at a particular position i want to add any item \n",
    "list2.insert(1,\"harayana\")\n",
    "print(list2)\n",
    "\n",
    "#list1.extend(list2) :want to add multiple elements in the string  but at the end  and it does not return any value \n",
    "print(\"extend method does not return any value....\",fruits.append(list2))\n",
    "print(\"after extending 1 list into another list\",fruits)\n"
   ]
  },
  {
   "cell_type": "markdown",
   "id": "4b1a43e5",
   "metadata": {},
   "source": [
    "# Delete the data from the list "
   ]
  },
  {
   "cell_type": "code",
   "execution_count": 2,
   "id": "79fac02a",
   "metadata": {},
   "outputs": [
    {
     "name": "stdout",
     "output_type": "stream",
     "text": [
      "pop remove any value and return any value so that we can save that value and if we need then reuse it \n",
      "['orange', 'apple', 'pear', 'banana']\n",
      "after pop an element ['orange', 'apple', 'pear']\n",
      "['orange', 'pear']\n",
      "\n",
      "\n",
      "['pear']\n",
      "[]\n"
     ]
    }
   ],
   "source": [
    "fruits=['orange','apple','pear','banana','kiwi']  #list.pop(),list.pop(index)\n",
    "fruits.pop()  #when index is given then it will delete particular element otherwise bydeafult -1 element deleted and return any value also \n",
    "print(\"pop remove any value and return any value so that we can save that value and if we need then reuse it \")\n",
    "print(fruits)\n",
    "fruits.pop(3)\n",
    "print(\"after pop an element\",fruits)  #['orange', 'apple', 'pear']\n",
    "\n",
    "\n",
    "\n",
    "#del list[]:delete the element \n",
    "del fruits[1]   #delete the element at a particular position \n",
    "print(fruits)\n",
    "print(\"\\n\")\n",
    "\n",
    "\n",
    "#list.remove(element): :when we don't know the position of the item but we know which element i have to remove \n",
    "fruits.remove('orange') #here we dont know what is the psoition of the banana \n",
    "print(fruits)  #suppose we have same element then it will remove 1st matching element \n",
    "\n",
    "\n",
    "\n",
    "#list.clear():it will remove all the elements from the list  but give empty list \n",
    "a=[3,4,5]\n",
    "a.clear()\n",
    "print(a)\n",
    "del a\n",
    "#print(a)  #after deleting the list it will give error "
   ]
  },
  {
   "cell_type": "code",
   "execution_count": 1,
   "id": "d4de5c87",
   "metadata": {},
   "outputs": [
    {
     "name": "stdout",
     "output_type": "stream",
     "text": [
      "5\n",
      "how many times elements are there 2\n",
      "\n",
      "\n",
      "\n",
      "['apple', 'apple', 'banana', 'kiwi', 'orange']\n",
      "after sorting the list [10, 9, 5, 3, 1]\n",
      "\n",
      "\n",
      "[0, 3, 5, 6, 7, 8, 10, 100]\n"
     ]
    }
   ],
   "source": [
    "#len(list):number of any objects \n",
    "fruits=['orange','apple','banana','kiwi','apple']\n",
    "print(len(fruits))  #how many elements are there in the list \n",
    "\n",
    "\n",
    "#count :how many times any elements are there in the list \n",
    "print(\"how many times elements are there\",fruits.count('apple'))\n",
    "\n",
    "\n",
    "print(\"\\n\\n\")\n",
    "\n",
    "#list.sort(key,reverse=True):sort array or arrange array in alphabetical order ,reverse=True means decreasing order\n",
    "fruits.sort()\n",
    "print(fruits)\n",
    "number1=[3,5,1,9,10]\n",
    "number1.sort(reverse=True) \n",
    "print(\"after sorting the list\",number1)\n",
    "print(\"\\n\")\n",
    "\n",
    "#list.sorted(iterable,key,reverse):reverse,key are optional /in sorted() original list are same but after apply sorted and store result in some variable then print \n",
    "num2=[10,5,3,6,7,8,0,100]\n",
    "res=sorted(num2)\n",
    "print(res)"
   ]
  },
  {
   "cell_type": "code",
   "execution_count": 51,
   "id": "0949e4b1",
   "metadata": {},
   "outputs": [
    {
     "name": "stdout",
     "output_type": "stream",
     "text": [
      "False\n",
      "True\n",
      "False\n",
      "False\n",
      "doubel equals check our list values are same or not\n",
      "is  keyword check  krta h ,kya hmaari list same  hamri memory k andar same place p h ya nhi h\n",
      "427008001408\n",
      "427006029056\n"
     ]
    }
   ],
   "source": [
    "#how to compare 2 list (is vs ==)  == check elements of the list.\n",
    "fruits1=['orange','apple','pear']\n",
    "fruits2=['banana','kiwi','apple','banana']\n",
    "fruits3=['orange','apple','pear']\n",
    "print(fruits1==fruits2)   #false \n",
    "print(fruits1==fruits3)    #true (values are same )\n",
    "\n",
    "\n",
    "print(fruits1 is fruits2)   #false\n",
    "print(fruits1 is fruits3)   #false    (both are in the different place )thats why result are false \n",
    "print(\"doubel equals check our list values are same or not\")\n",
    "print(\"is  keyword check  krta h ,kya hmaari list same  hamri memory k andar same place p h ya nhi h\")\n",
    "print(id(fruits1))\n",
    "print(id(fruits3)) "
   ]
  },
  {
   "cell_type": "code",
   "execution_count": 60,
   "id": "b94461ca",
   "metadata": {},
   "outputs": [
    {
     "name": "stdout",
     "output_type": "stream",
     "text": [
      "['my', 'name', 'is', 'jyoti']\n",
      "harshit,24\n"
     ]
    }
   ],
   "source": [
    "#split(\",\") method convert string into list \n",
    "a=\"my name is jyoti\".split()\n",
    "print(a)\n",
    "\n",
    "#join()method is use to convert list into string \n",
    "user_info=['harshit','24']\n",
    "print(\",\".join(user_info))"
   ]
  },
  {
   "cell_type": "markdown",
   "id": "4658cd2d",
   "metadata": {},
   "source": [
    "# list comprehension :with the help of this we can create of list in 1 line."
   ]
  },
  {
   "cell_type": "code",
   "execution_count": 1,
   "id": "0035d6f0",
   "metadata": {},
   "outputs": [
    {
     "name": "stdout",
     "output_type": "stream",
     "text": [
      "[1, 4, 9, 16, 25, 36, 49, 64, 81, 100]\n",
      "[-1, -2, -3, -4, -5, -6, -7, -8, -9, -10]\n",
      "\n",
      "\n",
      "['H', 'm', 'r']\n"
     ]
    }
   ],
   "source": [
    "#create a list of squares from 1 to 10 .\n",
    "squares=[i**2 for i  in range(1,11)]\n",
    "print(squares)\n",
    "\n",
    "\n",
    "#newlist = [expression for item in iterable if condition == True]\n",
    "negative_list=[-i for i in  range(1,11)]\n",
    "print(negative_list)\n",
    "\n",
    "print(\"\\n\")\n",
    "name=[\"HARSHIT\",\"mohit\",\"rohit\"]\n",
    "res=[i[0] for i in name]\n",
    "print(res)"
   ]
  },
  {
   "cell_type": "code",
   "execution_count": 3,
   "id": "6c6021ad",
   "metadata": {},
   "outputs": [
    {
     "name": "stdout",
     "output_type": "stream",
     "text": [
      "['cba', 'zyx', 'tuv']\n",
      "[2, 4, 6, 8, 10]\n"
     ]
    }
   ],
   "source": [
    "#Define a function that take list of strings  #list containing reverse of every string \n",
    "def reverse_str(l):\n",
    "    return [name[::-1] for name in l]\n",
    "print(reverse_str(['abc','xyz','vut']))\n",
    "\n",
    "#list comprehension with if statement\n",
    "numbers=list(range(1,11))\n",
    "even_num=[i for i in numbers if i%2==0]\n",
    "print(even_num)"
   ]
  },
  {
   "cell_type": "code",
   "execution_count": 4,
   "id": "5d85f439",
   "metadata": {},
   "outputs": [
    {
     "name": "stdout",
     "output_type": "stream",
     "text": [
      "list is collection of items with different data types,flexible(i normal life we use list)\n",
      "import array module,speed of array module is faster but we don't use it because single data type we use\n",
      "in data science we use numpy arrays (performance is fast)\n",
      "\n",
      "\n",
      "\n",
      "string is immutable(once created but can not change )\n",
      "lists are mutable(once created then we can change)\n"
     ]
    }
   ],
   "source": [
    "#list vs array (ordered collection of items but similar type(str,int,float))\n",
    "print(\"list is collection of items with different data types,flexible(i normal life we use list)\")\n",
    "print(\"import array module,speed of array module is faster but we don't use it because single data type we use\")\n",
    "print(\"in data science we use numpy arrays (performance is fast)\")\n",
    "\n",
    "print(\"\\n\\n\")\n",
    "#list vs string \n",
    "print(\"string is immutable(once created but can not change )\")\n",
    "print(\"lists are mutable(once created then we can change)\")"
   ]
  },
  {
   "cell_type": "code",
   "execution_count": 66,
   "id": "c82f024a",
   "metadata": {},
   "outputs": [
    {
     "name": "stdout",
     "output_type": "stream",
     "text": [
      "orange,banana,apple,kiwi,pineapple,\n",
      "\n",
      "orange\n",
      "banana\n",
      "apple\n",
      "kiwi\n",
      "pineapple\n"
     ]
    }
   ],
   "source": [
    "#looping in list \n",
    "fruits=[\"orange\",'banana','apple','kiwi','pineapple']\n",
    "for i in fruits:\n",
    "    print(i,end=\",\")\n",
    "print(\"\\n\")\n",
    "#while loop in list \n",
    "i=0  #start with 0 because item list at 0 start \n",
    "while i<len(fruits):\n",
    "    print(fruits[i])\n",
    "    i=i+1"
   ]
  },
  {
   "cell_type": "code",
   "execution_count": 74,
   "id": "63c7003c",
   "metadata": {},
   "outputs": [
    {
     "name": "stdout",
     "output_type": "stream",
     "text": [
      "[[1, 2, 3], [7, 8, 9], [10, 11, 12]]\n",
      "there are 3 list inside the list 3\n",
      "access 1st list [1, 2, 3]\n",
      "[1, 2, 3]\n",
      "[7, 8, 9]\n",
      "[10, 11, 12]\n",
      "1\n",
      "2\n",
      "3\n",
      "7\n",
      "8\n",
      "9\n",
      "10\n",
      "11\n",
      "12\n"
     ]
    }
   ],
   "source": [
    "#list inside list :we can store list inside list \n",
    "matrix=[[1,2,3],[7,8,9],[10,11,12]]\n",
    "print(matrix)\n",
    "print(\"there are 3 list inside the list\",len(matrix))\n",
    "print(\"access 1st list\",matrix[0])   #[1,2,3]\n",
    "for i in matrix:  #simple way to print list \n",
    "    print(i)\n",
    "    \n",
    "#print sublist \n",
    "for sublist in matrix:#jab pahli bar loop chelga to ayga [1,2,3]\n",
    "    for i in sublist:  #phir andar wali loop 3 bar chlaegi then print 1 2 3 \n",
    "        print(i)"
   ]
  },
  {
   "cell_type": "code",
   "execution_count": 5,
   "id": "2c9d624a",
   "metadata": {},
   "outputs": [
    {
     "name": "stdout",
     "output_type": "stream",
     "text": [
      "range(1, 11)\n",
      "list() will create list using range function  [1, 2, 3, 4, 5, 6, 7, 8, 9, 10]\n"
     ]
    }
   ],
   "source": [
    "#generate list with range functions :it will generate only range \n",
    "numbers=range(1,11)\n",
    "\n",
    "print(numbers)   #output-range(1,11)\n",
    "\n",
    "numbers2=list(range(1,11)) \n",
    "print(\"list() will create list using range function \",numbers2)  "
   ]
  },
  {
   "cell_type": "code",
   "execution_count": 14,
   "id": "3cd8a5a1",
   "metadata": {},
   "outputs": [
    {
     "name": "stdout",
     "output_type": "stream",
     "text": [
      "[1, 4, 9, 16, 25, 36, 49, 64, 81, 100]\n",
      "\n",
      "\n",
      "define a function which will take list as a argument and this function will print reversed list\n",
      "[4, 3, 2, 1]\n",
      "['cba', 'zyx', 'vux']\n"
     ]
    }
   ],
   "source": [
    "#define a function which will take list containing number as input and return list containing square of every elements \n",
    "def square_list(l1):\n",
    "    sqaure=[]\n",
    "    for i in l1:\n",
    "        sqaure.append(i**2)\n",
    "    return sqaure\n",
    "number=list(range(1,11))\n",
    "res=square_list(number)\n",
    "print(res)\n",
    "\n",
    "print(\"\\n\")\n",
    "print(\"define a function which will take list as a argument and this function will print reversed list\")\n",
    "def reverse_func1(l):\n",
    "    r_list=[]\n",
    "    for i in range(len(l)):\n",
    "        item=l.pop()\n",
    "        r_list.append(item)\n",
    "    return r_list\n",
    "number5=list(range(1,5))\n",
    "print(reverse_func1(number5))\n",
    "\n",
    "#define a function that take list of words as argument and return list with reverse of every element in that list ['abc','xtyz']--->['cba','vut']\n",
    "\n",
    "def reverse_eleme(l):\n",
    "    elements=[]\n",
    "    for i in l:\n",
    "        elements.append(i[::-1])\n",
    "    return elements\n",
    "words=['abc','xyz','xuv']\n",
    "print(reverse_eleme(words))"
   ]
  },
  {
   "cell_type": "markdown",
   "id": "5c2ea31c",
   "metadata": {},
   "source": [
    "# Tuples :store any data type ,immutable(after creation we can not update anything in tuples)"
   ]
  },
  {
   "cell_type": "code",
   "execution_count": 6,
   "id": "ee001851",
   "metadata": {},
   "outputs": [
    {
     "name": "stdout",
     "output_type": "stream",
     "text": [
      "tuple are enclosed with () ('jyoti', 'komal', 3)\n",
      "in tuple no remove,no pop,no append are used\n",
      "tuples are faster than list beacause in tuple we will not change after creation\n",
      "0,1,2,jyoti,karan,python,\n",
      "\n",
      "<class 'tuple'>\n",
      "<class 'tuple'>\n",
      "\n",
      "\n",
      "\n",
      "we can add list inside tuple also ('jyoti', [1, 2, 3], ['a', 'b', 'c'])\n",
      "(9, 20)\n"
     ]
    }
   ],
   "source": [
    "\n",
    "t1=('jyoti','komal',3)\n",
    "print(\"tuple are enclosed with ()\",t1)\n",
    "print(\"in tuple no remove,no pop,no append are used\")\n",
    "print(\"tuples are faster than list because in tuple we will not change after creation\")\n",
    "\n",
    "\n",
    "mixed=(0,1,2,'jyoti','karan','python')\n",
    "\n",
    "#for loop and tuple \n",
    "\n",
    "for i in mixed:\n",
    "    print(i,end=\",\")\n",
    "print(\"\\n\")\n",
    "#tuple with 1 element(1,)\n",
    "num1=(3,)  #it is not tuple \n",
    "words=('jyoti',)  #it is string not tuple because after 1 element use ,then it will show tuple \n",
    "print(type(words))\n",
    "\n",
    "#tuple without paranthesis   #without paranethsis() type will be tuple \n",
    "\n",
    "guitars='yamuna','tayler','guitar2'\n",
    "print(type(guitars))\n",
    "print(\"\\n\\n\")\n",
    "\n",
    "\n",
    "\n",
    "#list inside tuple (when list inside tuple then we can change that list data )\n",
    "tup2=('jyoti',[1,2,3],['a','b','c'])\n",
    "print(\"we can add list inside tuple also\",tup2)\n",
    "#function returning 2 values \n",
    "def func(int1,int2):\n",
    "    add=int1+int2\n",
    "    multiply=int1*int2\n",
    "    return add,multiply\n",
    "print(func(4,5))  #jab bhi hum 2 values return krenge then y tuple result type dega ,2 different value nhi dega  (9,20) output  \n",
    "#yha par hum 2 different variable m store kr skte h , add1,mult1 "
   ]
  },
  {
   "cell_type": "markdown",
   "id": "de84910c",
   "metadata": {},
   "source": [
    "# tuple methods :\n"
   ]
  },
  {
   "cell_type": "code",
   "execution_count": 13,
   "id": "b3f6208c",
   "metadata": {},
   "outputs": [
    {
     "name": "stdout",
     "output_type": "stream",
     "text": [
      "how many elements are there in the list 5\n",
      "\n",
      "\n",
      "<class 'tuple'>\n"
     ]
    }
   ],
   "source": [
    "a=(\"endk\",\"owehd\",\"bdjew\",3567,\"jhui\")\n",
    "print(\"how many elements are there in the list\",len(a))   \n",
    "print(\"\\n\")\n",
    "b=[\"endk\",\"owehd\",\"bdjew\",3567,\"jhui\"]\n",
    "lis=tuple(b)\n",
    "print(type(lis))"
   ]
  },
  {
   "cell_type": "code",
   "execution_count": 20,
   "id": "8f4ab399",
   "metadata": {},
   "outputs": [
    {
     "name": "stdout",
     "output_type": "stream",
     "text": [
      "(1, 2, 3, 4, 5, 6, 7, 8, 9, 10)\n",
      "[1, 2, 3, 4, 5, 6, 7, 8, 9, 10]\n",
      "(1, 2, 3, 4, 5, 6, 7, 8, 9, 10)\n",
      "<class 'str'>\n"
     ]
    }
   ],
   "source": [
    "name=tuple(range(1,11))  #will create tuple 1 to 10 \n",
    "print(name)\n",
    "#change tuple into list \n",
    "res=list(name)\n",
    "print(res)\n",
    "#want to change into string \n",
    "res2=str(name)\n",
    "print(res2)\n",
    "print(type(res2))"
   ]
  },
  {
   "cell_type": "code",
   "execution_count": 17,
   "id": "3d0d4ea2",
   "metadata": {},
   "outputs": [
    {
     "name": "stdout",
     "output_type": "stream",
     "text": [
      "jyoti\n",
      "{'name': 'mohit'}\n",
      "{'u': None, 'i': None, 'o': None, 'e': None, 'a': None}\n",
      "present\n",
      "\n",
      "\n",
      "present\n",
      "name,harshit\n",
      "age,4\n",
      "fav_tunes,['coco', 'kimi na cova']\n",
      "fav_movies,['diljale', 'kal ho na ho', 'ajadpanchi']\n",
      "\n",
      "\n",
      "{'name': 'jyoti', 'age': 24, 'fav_movie': ['diljale', 'maut', 'hum apke h kon'], 'fav_songs': ['song1', 'song2', 'song3']}\n",
      "jyoti\n",
      "after clear method apply it willgive empty dictionary {}\n",
      "copy of any dictionary {'name': 'jyoti', 'age': 24, 'fav_movie': ['diljale', 'maut', 'hum apke h kon'], 'fav_songs': ['song1', 'song2', 'song3']}\n",
      "{'a': 1, 'h': 1, 'r': 1, 's': 1, 'i': 1, 't': 1}\n",
      "{'h': 2}\n"
     ]
    }
   ],
   "source": [
    "#dictionary :it is an ordered collection of items in the form of (can't change must be immutable and unique)key:value(can be any data type & can be repeat)\n",
    "#where we use dictionary :when there is a realtion between data like user name and contact number.\n",
    "d1={'name':'jyoti',2:[1,2,3]}\n",
    "#access elements of dictionary dict[key]\n",
    "\n",
    "print(d1.get('name'))  #when key is not available ,IT GIVE None as a result \n",
    "\n",
    "\n",
    "#how to add data to empty dictionary \n",
    "user_info={}\n",
    "user_info['name']='mohit'\n",
    "print(user_info)\n",
    "\n",
    "#fromkeys():create a new dictionary from the given sequence of elements with a value provided by user (default value is unknown like diferent key with same value)\n",
    "keys={'a','e','i','o','u'}\n",
    "value={1,2,3,4,5}\n",
    "vowels=dict.fromkeys(keys)  #{'a': None, 'u': None, 'i': None, 'o': None, 'e': None}\n",
    "print(vowels)\n",
    "\n",
    "#in keyword and iteration in dictionary \n",
    "user_info={'name':'harshit','age':4,'fav_tunes':['coco','kimi na cova'],'fav_movies':['diljale','kal ho na ho','ajadpanchi']}\n",
    "\n",
    "\n",
    "#how to check key in dictionary \n",
    "if 'name' in user_info:\n",
    "    print(\"present\")\n",
    "else:\n",
    "    print(\"not present\")\n",
    "   \n",
    "print(\"\\n\")\n",
    "#check value exist in dictionary \n",
    "if 'harshit' in user_info.values():  \n",
    "    print(\"present\")\n",
    "else:\n",
    "    print(\"not present\")\n",
    "\n",
    "#loops in dictionary \n",
    "for k,v in  user_info.items():\n",
    "    print(f\"{k},{v}\")                 #\n",
    "\n",
    "    \n",
    "print(\"\\n\")\n",
    "#add and delete data from dictionary \n",
    "user_info={'name':'jyoti','age':24,'fav_movie':['diljale','maut','hum apke h kon']}\n",
    "#add data in dictionary \n",
    "user_info['fav_songs']=['song1','song2','song3']\n",
    "print(user_info)\n",
    "\n",
    "\n",
    "#how to update dictionary  dict1.update(d2)  #we have already 1 dictionary and i want to update it \n",
    "\n",
    "#delete the data from dictionary \n",
    "#dict.pop('key'):delete element with key-->pair and it also return the element so we can store it in variable (if key is not available then it will give error)\n",
    "#dict.popitem()it returns and also delete random variables and does not take any parameter \n",
    "\n",
    "#get method :\n",
    "d={'name':'jyoti','age':'unknown'}\n",
    "#print(\"it will give the output\",d['name'])\n",
    "#print(\"it will give key error to remove this we use get method\",d['names'])  #it will give keyError to handle this error we use get method\n",
    "print(d.get('name'))\n",
    "\n",
    "#copy(want to make copy of the dictionary) and clear method (clear will give empty dictionary )\n",
    "d.clear()\n",
    "print(\"after clear method apply it willgive empty dictionary\",d)\n",
    "d1=user_info.copy()\n",
    "print(\"copy of any dictionary\",d1)\n",
    "\n",
    "\n",
    "#word counter   (name=\"harshit\") in dictionary 2 keys are not same \n",
    "d2={'a':1,'h':2,'r':1,'s':1,'i':1,'t':1,'h':1}\n",
    "print(d2)\n",
    "def word_count(s):\n",
    "    \n",
    "    count={}\n",
    "    for char in s:\n",
    "        count[char]=s.count(char)\n",
    "        return count\n",
    "print(word_count('harshit'))"
   ]
  },
  {
   "cell_type": "code",
   "execution_count": 20,
   "id": "e1821d2c",
   "metadata": {},
   "outputs": [
    {
     "name": "stdout",
     "output_type": "stream",
     "text": [
      "value\n",
      " dict_items([('name', 'jyoti'), ('age', 6)])\n",
      "dict_keys(['name', 'age'])\n",
      "dict_values(['jyoti', 6])\n"
     ]
    }
   ],
   "source": [
    "#dict.items():give all the items \n",
    "a={'name':\"jyoti\",\"age\":6}\n",
    "print(f\"value\\n\",a.items())\n",
    "#dict.keys():return all the keys \n",
    "print(a.keys())\n",
    "print(a.values())  #return all the values "
   ]
  },
  {
   "cell_type": "code",
   "execution_count": 26,
   "id": "3cd39fda",
   "metadata": {},
   "outputs": [
    {
     "name": "stdout",
     "output_type": "stream",
     "text": [
      "False\n"
     ]
    }
   ],
   "source": [
    "#lambda expression(anonymous function):(It is a function defined in single line and have no name.)\n",
    "add2=lambda a,b:a+b,\n",
    "#we don,t assign lambda expression into any variable  .we use it with in built function \n",
    "\n",
    "is_even=lambda a:a%2==0\n",
    "print(is_even(9))  #False means not even number \n"
   ]
  },
  {
   "cell_type": "markdown",
   "id": "3e519918",
   "metadata": {},
   "source": [
    "# *args "
   ]
  },
  {
   "cell_type": "code",
   "execution_count": 18,
   "id": "0f698973",
   "metadata": {},
   "outputs": [
    {
     "name": "stdout",
     "output_type": "stream",
     "text": [
      "9\n",
      "15\n",
      "126\n",
      "\n",
      "\n",
      "24\n"
     ]
    }
   ],
   "source": [
    "def total(a,b):\n",
    "    return a+b\n",
    "print(total(4,5))\n",
    "\n",
    "#here only i provide only 2 numbers ,suppose i want to give 4 numbers ,we use *operator\n",
    "\n",
    "def all_total(*args):  #*args will make a tuple of all arguments .*args will take as a input tuple format \n",
    "    total=0\n",
    "    for i in args:\n",
    "        total=total+i\n",
    "    return total\n",
    "print(all_total(2,3,10))       \n",
    "    \n",
    "    \n",
    "#* args with normal parameter \n",
    "def mul(num,*args):\n",
    "    mul=1\n",
    "    for i in args:\n",
    "        mul=mul*i\n",
    "    return mul\n",
    "print(mul(1,3,6,7))  #here num=1 just like a normal paramter \n",
    "\n",
    "\n",
    "print(\"\\n\")\n",
    "#*args as normal argument (how to use *args as a argument)\n",
    "def mul(*args):\n",
    "    mult=1\n",
    "    for i in args:\n",
    "        mult=mult*i\n",
    "    return mult\n",
    "nums=[2,3,4]\n",
    "print(mul(*nums))   #here   *nums unpack all the items "
   ]
  },
  {
   "cell_type": "code",
   "execution_count": 23,
   "id": "1310657b",
   "metadata": {},
   "outputs": [
    {
     "name": "stdout",
     "output_type": "stream",
     "text": [
      "[1, 4, 9]\n"
     ]
    }
   ],
   "source": [
    "#Define a function take input num ,iterable(containing numbers as args  #if user did not pass any args then give a user a message  \"hey you did not pass args \")\n",
    "def to_power(num,*args):\n",
    "    if args:\n",
    "        return [i**num for i in args]\n",
    "    else:\n",
    "        return \"you did not pass any args\"\n",
    "l=[1,2,3]\n",
    "print(to_power(2,*l))"
   ]
  },
  {
   "cell_type": "code",
   "execution_count": 26,
   "id": "0acc5910",
   "metadata": {},
   "outputs": [
    {
     "name": "stdout",
     "output_type": "stream",
     "text": [
      "f_name:harshit\n",
      "l_name:narwal\n"
     ]
    }
   ],
   "source": [
    "#**kwargs:(keyword argumnets,double star operator)\n",
    "#**kwargs as a parameter   \n",
    "def func(**kwargs):\n",
    "    for k,v in kwargs.items():\n",
    "        print(f\"{k}:{v}\")\n",
    "func(f_name=\"harshit\",l_name=\"narwal\")   #as many as keyword argumnets we can pass it will gather as a dictionary "
   ]
  },
  {
   "cell_type": "code",
   "execution_count": 31,
   "id": "a7707b79",
   "metadata": {},
   "outputs": [
    {
     "name": "stdout",
     "output_type": "stream",
     "text": [
      "harshit\n",
      "(1, 2, 3)\n",
      "unkown\n",
      "{'a': 1, 'b': 3}\n"
     ]
    }
   ],
   "source": [
    "#function with all type of parameter.(PADK) parameter/args/default parameter/kwargs\n",
    "def func(name,*args,last_name=\"unkown\",**kwargs):\n",
    "    print(name)\n",
    "    print(args)\n",
    "    print(last_name)\n",
    "    print(kwargs)\n",
    "func(\"harshit\",1,2,3,a=1,b=3)\n"
   ]
  },
  {
   "cell_type": "code",
   "execution_count": 14,
   "id": "32b0a526",
   "metadata": {},
   "outputs": [
    {
     "name": "stdout",
     "output_type": "stream",
     "text": [
      "0--->abc\n",
      "1--->abcdef\n",
      "2--->harshit\n",
      "3--->xyz\n",
      "\n",
      "\n",
      "0--->abc\n",
      "1--->abcdef\n",
      "2--->harshit\n",
      "3--->xyz\n",
      "\n",
      "\n"
     ]
    },
    {
     "data": {
      "text/plain": [
       "-1"
      ]
     },
     "execution_count": 14,
     "metadata": {},
     "output_type": "execute_result"
    }
   ],
   "source": [
    "#enumerate function enum():we use enumerate function with for loop to track position of our item in iterable.\n",
    "\n",
    "\n",
    "#how can we do this without enumerate function.\n",
    "names=['abc','abcdef','harshit',\"xyz\"]\n",
    "pos=0\n",
    "for name in names:\n",
    "    print(f\"{pos}--->{name}\")\n",
    "    pos=pos+1\n",
    "    \n",
    "print(\"\\n\")\n",
    "    \n",
    "\n",
    "#withe the help of enumerate function\n",
    "\n",
    "for pos,name in enumerate(names):\n",
    "    print(f\"{pos}--->{name}\")\n",
    "    \n",
    "    \n",
    "print(\"\\n\")\n",
    "#Define a function that take 2 arguments  1)list containing string 2)string that want to find in your list and this function will return  the index of the string in your list and \n",
    "#if string is not present then return -1\n",
    "def find_pos(lis,tar):\n",
    "    for pos,name in enumerate(lis):\n",
    "        if name==tar:\n",
    "            return pos\n",
    "        \n",
    "    return -1\n",
    "find_pos(names,\"jyoti\")\n",
    "   "
   ]
  },
  {
   "cell_type": "code",
   "execution_count": 23,
   "id": "de08aa3b",
   "metadata": {},
   "outputs": [
    {
     "name": "stdout",
     "output_type": "stream",
     "text": [
      "1 4 9\n",
      "\n",
      "\n",
      "[1, 4, 9, 16, 25]\n",
      "\n",
      " using lambda function with map function \n",
      "[1, 4, 9, 16, 25]\n"
     ]
    }
   ],
   "source": [
    "#map function :\n",
    "numbers=[1,2,3,4,5]\n",
    "def square(a):\n",
    "    return a**2\n",
    "print(square(1),square(2),square(3)) #here we take single single argument \n",
    "\n",
    "print(\"\\n\")\n",
    "#with the map function \n",
    "print(list(map(square,numbers)))   #map(functionname,list)\n",
    "\n",
    "\n",
    "print(\"\\n using lambda function with map function \")\n",
    "squares=list(map(lambda a:a**2,numbers))\n",
    "print(squares)"
   ]
  },
  {
   "cell_type": "code",
   "execution_count": 27,
   "id": "7aa90084",
   "metadata": {},
   "outputs": [
    {
     "name": "stdout",
     "output_type": "stream",
     "text": [
      "[4, 6, 8, 10]\n",
      "[4, 6, 8, 10]\n"
     ]
    }
   ],
   "source": [
    "##filter function :it will extract those items that satisfy a given condition./extract values from the given iterables.\n",
    "def is_even(a):\n",
    "    return a%2==0\n",
    "numbers=[3,4,5,6,7,8,9,10]\n",
    "print(list(filter(is_even,numbers)))\n",
    "\n",
    "#print(\"\\n using lambda function\")\n",
    "evens=filter(lambda a:a%2==0,numbers)\n",
    "print(list(evens))"
   ]
  },
  {
   "cell_type": "code",
   "execution_count": null,
   "id": "aada6103",
   "metadata": {},
   "outputs": [],
   "source": [
    "#iterator vs iterable (is an object which one can iterate over.and generates an iterator when passed it to iter() method.)"
   ]
  },
  {
   "cell_type": "code",
   "execution_count": 40,
   "id": "f957a3d8",
   "metadata": {},
   "outputs": [
    {
     "name": "stdout",
     "output_type": "stream",
     "text": [
      "zip() returns a zip object,\n",
      "[('karan', 'karan'), ('ajay', 'kunal')]\n",
      "{'a': 1, 'b': 2}\n",
      "{'karan': 'karan', 'ajay': 'kunal'}\n",
      "[2, 4, 6, 8]\n"
     ]
    }
   ],
   "source": [
    "#zip(iterator1,iterator2,iterator3..):means iterator objects that will be joined together.\n",
    "print(\"zip() returns a zip object,\")\n",
    "a=(\"karan\",\"ajay\",\"rohan\")\n",
    "b=[\"karan\",\"kunal\"]\n",
    "print(list(zip(a,b)))\n",
    "#if there is less items in list then further zipping process will stop automatically.\n",
    " \n",
    "\n",
    "example=[('a',1),('b',2)]\n",
    "print(dict(example))\n",
    "\n",
    "print(dict(zip(a,b)))\n",
    "\n",
    "#how to use *operator with zip\n",
    "l1=[1,3,5,7]\n",
    "l2=[2,4,6,8]\n",
    "l=[(1,2),(3,4),(5,6),(7,8)]\n",
    "new_list=[]\n",
    "\n",
    "for pair in zip(l1,l2):\n",
    "    new_list.append(max(pair))\n",
    "print(new_list)"
   ]
  },
  {
   "cell_type": "code",
   "execution_count": 1,
   "id": "1d8b32e1",
   "metadata": {},
   "outputs": [
    {
     "name": "stdout",
     "output_type": "stream",
     "text": [
      "[2.5, 3.5, 4.5]\n"
     ]
    }
   ],
   "source": [
    "#Define a function take any no of list conatining number  return average \n",
    "def average_find(l1,l2):\n",
    "    average=[]\n",
    "    for pair in zip(l1,l2):\n",
    "        average.append(sum(pair)/len(pair))\n",
    "    return average\n",
    "print(average_find([1,2,3],[4,5,6]))"
   ]
  },
  {
   "cell_type": "code",
   "execution_count": null,
   "id": "e8873637",
   "metadata": {},
   "outputs": [],
   "source": []
  },
  {
   "cell_type": "code",
   "execution_count": null,
   "id": "3876be09",
   "metadata": {},
   "outputs": [],
   "source": []
  },
  {
   "cell_type": "code",
   "execution_count": null,
   "id": "ef57decb",
   "metadata": {},
   "outputs": [],
   "source": []
  }
 ],
 "metadata": {
  "kernelspec": {
   "display_name": "Python 3",
   "language": "python",
   "name": "python3"
  },
  "language_info": {
   "codemirror_mode": {
    "name": "ipython",
    "version": 3
   },
   "file_extension": ".py",
   "mimetype": "text/x-python",
   "name": "python",
   "nbconvert_exporter": "python",
   "pygments_lexer": "ipython3",
   "version": "3.8.8"
  }
 },
 "nbformat": 4,
 "nbformat_minor": 5
}
