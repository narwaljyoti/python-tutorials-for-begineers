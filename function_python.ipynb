{
 "cells": [
  {
   "cell_type": "code",
   "execution_count": null,
   "id": "ab739acc",
   "metadata": {},
   "outputs": [],
   "source": [
    "#function:group of related statement that performs some specific task .function allows us to divide large programs into smaller part.\n",
    "#function provide reusabiltiy of code.and avoid repititon of code .\n",
    "#type:1)user defined  2)in bulilt function"
   ]
  },
  {
   "cell_type": "code",
   "execution_count": 12,
   "id": "df12b090",
   "metadata": {},
   "outputs": [
    {
     "data": {
      "text/plain": [
       "9"
      ]
     },
     "execution_count": 12,
     "metadata": {},
     "output_type": "execute_result"
    }
   ],
   "source": [
    "def add(a,b):  #here a,b parameter and function will take input here .\n",
    "    return a+b\n",
    "\n",
    "add(4,5)"
   ]
  },
  {
   "cell_type": "code",
   "execution_count": 14,
   "id": "2d09967f",
   "metadata": {},
   "outputs": [
    {
     "name": "stdout",
     "output_type": "stream",
     "text": [
      "return the value from the function and a function can have only 1 return statement involved in it.\n",
      "outside the function we can not use return statement.\n",
      "if return statement has no expression then result will be None\n",
      "print is use to print something on the screen\n",
      "15\n"
     ]
    }
   ],
   "source": [
    "#print vs return \n",
    "print(\"return the value from the function and a function can have only 1 return statement involved in it.\")\n",
    "print(\"outside the function we can not use return statement.\")\n",
    "print(\"if return statement has no expression then result will be None\")\n",
    "\n",
    "print(\"print is use to print something on the screen\")\n",
    "def add_three(a,b,c):\n",
    "    return a+b+c\n",
    "print(add_three(5,5,5))"
   ]
  },
  {
   "cell_type": "code",
   "execution_count": 23,
   "id": "a792620a",
   "metadata": {},
   "outputs": [
    {
     "data": {
      "text/plain": [
       "'odd'"
      ]
     },
     "execution_count": 23,
     "metadata": {},
     "output_type": "execute_result"
    }
   ],
   "source": [
    "#take a name and print last character\n",
    "def last_char(name):\n",
    "    return name[-1]\n",
    "last_char('jyoti')\n",
    "\n",
    "\n",
    "#find odd and even \n",
    "def is_even(num):\n",
    "    if num%2==0:\n",
    "        return 'even'\n",
    "    else:\n",
    "        return 'odd'\n",
    "is_even(9)\n",
    "is_even(10)\n",
    "#another way to define function \n",
    "def odd_even(num):  #during define a function num i parameter\n",
    "    if num%2==0:\n",
    "        return \"even\"\n",
    "    return \"odd\"\n",
    "odd_even(9)  #when call a function -called argument"
   ]
  },
  {
   "cell_type": "code",
   "execution_count": null,
   "id": "7f2fbd18",
   "metadata": {},
   "outputs": [],
   "source": [
    "#define a function which takes 2 numbers as a input and return greater of 2 numbers \n",
    "def greater_two(x,y):\n",
    "    if x>y:\n",
    "        return \"X IS greater\"\n",
    "    return \"y is greater\"\n",
    "a=int(input(\"enter first number\"))\n",
    "b=int(input(\"enter second number\"))\n",
    "bigger=greater_two(a,b) \n",
    "print(bigger)\n",
    "#define a function which takes 3 parameter and print biggest one \n",
    "def three_greater(x,y,z):\n",
    "    if x>y and y>z:\n",
    "        return \"x is greater\"\n",
    "    elif y>z and y>x:\n",
    "        return \"y is greater\"\n",
    "    else:\n",
    "        return \"z is greater\"\n",
    "three_greater(9,10,1000)\n",
    "        "
   ]
  },
  {
   "cell_type": "code",
   "execution_count": 2,
   "id": "6a47b724",
   "metadata": {},
   "outputs": [
    {
     "data": {
      "text/plain": [
       "True"
      ]
     },
     "execution_count": 2,
     "metadata": {},
     "output_type": "execute_result"
    }
   ],
   "source": [
    "#define a palindrome function that take name as input and return TRue if palindrome else false \n",
    "def is_palindrome(name):\n",
    "    if name[::-1]==name:\n",
    "        return True\n",
    "    else:\n",
    "        return False\n",
    "is_palindrome(\"naman\")"
   ]
  },
  {
   "cell_type": "code",
   "execution_count": 11,
   "id": "9e8b8186",
   "metadata": {},
   "outputs": [
    {
     "name": "stdout",
     "output_type": "stream",
     "text": [
      "0 1,1,2,3,5,8,13,21,34,"
     ]
    }
   ],
   "source": [
    "#fibonacci series 0 1 1 2 3 5 8 13 21 34\n",
    "\n",
    "def fibo(n):\n",
    "    n1=0 #first number\n",
    "    n2=1   #second number\n",
    "    if n==1:\n",
    "        print(n1)\n",
    "    elif n==2:\n",
    "        print(a, b)\n",
    "    else:\n",
    "        print(n1,n2,end=\",\")\n",
    "        for i in range(n-2):\n",
    "            n3=n1+n2\n",
    "            n1=n2\n",
    "            n2=n3\n",
    "            print(n2,end=\",\")\n",
    "fibo(10)\n",
    "    "
   ]
  },
  {
   "cell_type": "markdown",
   "id": "7a68f253",
   "metadata": {},
   "source": [
    "# Default parameter "
   ]
  },
  {
   "cell_type": "code",
   "execution_count": 14,
   "id": "fd5e6f10",
   "metadata": {},
   "outputs": [
    {
     "name": "stdout",
     "output_type": "stream",
     "text": [
      "your first name isjyoti\n",
      "your lname is,gulia\n",
      "your age is89\n"
     ]
    }
   ],
   "source": [
    "def user_info(fname,lname,age=89):  #here age = 34 so it is default parameter ,you do not need to mention age parameter at calling time \n",
    "#def user_info(fname,lname=\"guila\",age),we can make default parameter at last or in sequence ,\n",
    "    \n",
    "    print(f\"your first name is{fname}\")\n",
    "    print(f\"your lname is,{lname}\")\n",
    "\n",
    "    print(f\"your age is{age}\")\n",
    "user_info(\"jyoti\",\"gulia\")"
   ]
  },
  {
   "cell_type": "code",
   "execution_count": 18,
   "id": "c1b6401f",
   "metadata": {},
   "outputs": [
    {
     "name": "stdout",
     "output_type": "stream",
     "text": [
      "5\n"
     ]
    }
   ],
   "source": [
    "#variable scope\n",
    "#local variable :we can use this variable  only inside the function , wecan not use this variable outside this function \n",
    "#gloabl variables :we can use global varaibles inside and outside the function \n",
    "a=5 #global variables \n",
    "def func(): \n",
    "    x=4 #local variables \n",
    "    print(x)\n",
    "def func2():\n",
    "    #print(x)\n",
    "    print(a)\n",
    "func2()"
   ]
  },
  {
   "cell_type": "code",
   "execution_count": null,
   "id": "6e077d00",
   "metadata": {},
   "outputs": [],
   "source": []
  }
 ],
 "metadata": {
  "kernelspec": {
   "display_name": "Python 3",
   "language": "python",
   "name": "python3"
  },
  "language_info": {
   "codemirror_mode": {
    "name": "ipython",
    "version": 3
   },
   "file_extension": ".py",
   "mimetype": "text/x-python",
   "name": "python",
   "nbconvert_exporter": "python",
   "pygments_lexer": "ipython3",
   "version": "3.8.8"
  }
 },
 "nbformat": 4,
 "nbformat_minor": 5
}
