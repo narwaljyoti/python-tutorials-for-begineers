{
 "cells": [
  {
   "cell_type": "code",
   "execution_count": null,
   "id": "ab739acc",
   "metadata": {},
   "outputs": [],
   "source": [
    "#function:group of related statement that performs some specific task .function allows us to divide large programs into smaller part.\n",
    "#function provide reusabiltiy of code.and avoid repititon (duplication)of code .easy to update ,easy to read and \n",
    "#type:1)user defined  2)in built function.\n"
   ]
  },
  {
   "cell_type": "code",
   "execution_count": 21,
   "id": "df12b090",
   "metadata": {},
   "outputs": [
    {
     "name": "stdout",
     "output_type": "stream",
     "text": [
      "9\n",
      "8\n",
      "30\n",
      "bacon local\n",
      "spam global\n",
      "bacon local\n",
      "global\n"
     ]
    }
   ],
   "source": [
    "def add(a,b):  #here a,b parameter and function will take  as input here .\n",
    "    return a+b\n",
    "\n",
    "print(add(4,5))\n",
    "print(add(3,5))\n",
    "print(add(10,20))  #here we pass the values called arguments \n",
    "#local and global variables with the same name we should avoid  for simplify the program.\n",
    "def spam():\n",
    "    eggs=\"spam global\"\n",
    "    print(eggs)\n",
    "def bacon():\n",
    "    eggs=\"bacon local\"\n",
    "    print(eggs)\n",
    "    spam()\n",
    "    print(eggs)\n",
    "eggs=\"global\"\n",
    "bacon()\n",
    "print(eggs)\n",
    "    "
   ]
  },
  {
   "cell_type": "code",
   "execution_count": 17,
   "id": "3b5a9a55",
   "metadata": {},
   "outputs": [
    {
     "name": "stdout",
     "output_type": "stream",
     "text": [
      "ask again later\n",
      "None\n",
      "\n",
      "\n",
      "hello world\n"
     ]
    },
    {
     "data": {
      "text/plain": [
       "True"
      ]
     },
     "execution_count": 17,
     "metadata": {},
     "output_type": "execute_result"
    }
   ],
   "source": [
    "#return values vs return statements\n",
    "import random \n",
    "def getans(number):\n",
    "    if number==1:\n",
    "        return \"IT IS CERTAIN NUMBER\"\n",
    "    elif number==2:\n",
    "        print(\"it is decidedly number\")\n",
    "    elif number==3:\n",
    "        print(\"yes\")\n",
    "    elif number==4:\n",
    "        print(\"reply hazy try again\")\n",
    "    elif number==5:   \n",
    "        print(\"ask again later\")\n",
    "    elif number==6:\n",
    "        print(\"return concentrate and ask again\")\n",
    "    elif number==7:\n",
    "        print(\"my reply is no\")\n",
    "    elif number==8:\n",
    "        print(\"outlook not so good\")\n",
    "    elif number==9:\n",
    "        print(\"very doubtful\")\n",
    "r=random.randint(1,9)\n",
    "fortune=getans(r)\n",
    "print(fortune)\n",
    "            \n",
    "print(\"\\n\")\n",
    "#none values :absence of values \n",
    "spam=print(\"hello world\")\n",
    "None==spam\n",
    "    "
   ]
  },
  {
   "cell_type": "code",
   "execution_count": 3,
   "id": "2d09967f",
   "metadata": {},
   "outputs": [
    {
     "name": "stdout",
     "output_type": "stream",
     "text": [
      "outside the function we can not use return statement.\n",
      "if return statement has no expression then result will be None\n"
     ]
    },
    {
     "ename": "TypeError",
     "evalue": "add_three() takes 0 positional arguments but 3 were given",
     "output_type": "error",
     "traceback": [
      "\u001b[1;31m---------------------------------------------------------------------------\u001b[0m",
      "\u001b[1;31mTypeError\u001b[0m                                 Traceback (most recent call last)",
      "\u001b[1;32m<ipython-input-3-4443c2f59476>\u001b[0m in \u001b[0;36m<module>\u001b[1;34m\u001b[0m\n\u001b[0;32m      6\u001b[0m \u001b[1;32mdef\u001b[0m \u001b[0madd_three\u001b[0m\u001b[1;33m(\u001b[0m\u001b[1;33m)\u001b[0m\u001b[1;33m:\u001b[0m\u001b[1;33m\u001b[0m\u001b[1;33m\u001b[0m\u001b[0m\n\u001b[0;32m      7\u001b[0m     \u001b[1;32mreturn\u001b[0m \u001b[0ma\u001b[0m\u001b[1;33m+\u001b[0m\u001b[0mb\u001b[0m\u001b[1;33m+\u001b[0m\u001b[0mc\u001b[0m\u001b[1;33m\u001b[0m\u001b[1;33m\u001b[0m\u001b[0m\n\u001b[1;32m----> 8\u001b[1;33m \u001b[0mprint\u001b[0m\u001b[1;33m(\u001b[0m\u001b[0madd_three\u001b[0m\u001b[1;33m(\u001b[0m\u001b[1;36m5\u001b[0m\u001b[1;33m,\u001b[0m\u001b[1;36m5\u001b[0m\u001b[1;33m,\u001b[0m\u001b[1;36m5\u001b[0m\u001b[1;33m)\u001b[0m\u001b[1;33m)\u001b[0m\u001b[1;33m\u001b[0m\u001b[1;33m\u001b[0m\u001b[0m\n\u001b[0m",
      "\u001b[1;31mTypeError\u001b[0m: add_three() takes 0 positional arguments but 3 were given"
     ]
    }
   ],
   "source": [
    "\n",
    "#print vs return print(\"return the value from the function and exit the function\")\n",
    "print(\"outside the function we can not use return statement.\")\n",
    "print(\"if return statement has no expression then result will be None\")\n",
    "print(\"when you want to send a value from 1 point to another\")\n",
    "\n",
    "print(\"print something on the screen and it will print result immediately\")\n",
    "def add_three(a,b,c):\n",
    "    return a+b+c\n",
    "print(add_three(5,55,5)"
   ]
  },
  {
   "cell_type": "code",
   "execution_count": 23,
   "id": "a792620a",
   "metadata": {},
   "outputs": [
    {
     "data": {
      "text/plain": [
       "'odd'"
      ]
     },
     "execution_count": 23,
     "metadata": {},
     "output_type": "execute_result"
    }
   ],
   "source": [
    "#take a name and print last character\n",
    "def last_char(name):\n",
    "    return name[-1]\n",
    "last_char('jyoti')\n",
    "\n",
    "\n",
    "#find odd and even \n",
    "def is_even(num):\n",
    "    if num%2==0:\n",
    "        return 'even'\n",
    "    else:\n",
    "        return 'odd'\n",
    "is_even(9)\n",
    "is_even(10)\n",
    "#another way to define function \n",
    "def odd_even(num):  #during define a function num i parameter\n",
    "    if num%2==0:\n",
    "        return \"even\"\n",
    "    return \"odd\"\n",
    "odd_even(9)  #when call a function -called argument"
   ]
  },
  {
   "cell_type": "code",
   "execution_count": null,
   "id": "7f2fbd18",
   "metadata": {},
   "outputs": [],
   "source": [
    "#define a function which takes 2 numbers as a input and return greater of 2 numbers \n",
    "def greater_two(x,y):\n",
    "    if x>y:\n",
    "        return \"X IS greater\"\n",
    "    return \"y is greater\"\n",
    "a=int(input(\"enter first number\"))\n",
    "b=int(input(\"enter second number\"))\n",
    "bigger=greater_two(a,b) \n",
    "print(bigger)\n",
    "#define a function which takes 3 parameter and print biggest one \n",
    "def three_greater(x,y,z):\n",
    "    if x>y and y>z:\n",
    "        return \"x is greater\"\n",
    "    elif y>z and y>x:\n",
    "        return \"y is greater\"\n",
    "    else:\n",
    "        return \"z is greater\"\n",
    "three_greater(9,10,1000)\n",
    "        "
   ]
  },
  {
   "cell_type": "code",
   "execution_count": 2,
   "id": "6a47b724",
   "metadata": {},
   "outputs": [
    {
     "data": {
      "text/plain": [
       "True"
      ]
     },
     "execution_count": 2,
     "metadata": {},
     "output_type": "execute_result"
    }
   ],
   "source": [
    "#define a palindrome function that take name as input and return TRue if palindrome else false \n",
    "def is_palindrome(name):\n",
    "    if name[::-1]==name:\n",
    "        return True\n",
    "    else:\n",
    "        return False\n",
    "is_palindrome(\"naman\")"
   ]
  },
  {
   "cell_type": "code",
   "execution_count": 11,
   "id": "9e8b8186",
   "metadata": {},
   "outputs": [
    {
     "name": "stdout",
     "output_type": "stream",
     "text": [
      "0 1,1,2,3,5,8,13,21,34,"
     ]
    }
   ],
   "source": [
    "#fibonacci series 0 1 1 2 3 5 8 13 21 34\n",
    "\n",
    "def fibo(n):\n",
    "    n1=0 #first number\n",
    "    n2=1   #second number\n",
    "    if n==1:\n",
    "        print(n1)\n",
    "    elif n==2:\n",
    "        print(a, b)\n",
    "    else:\n",
    "        print(n1,n2,end=\",\")\n",
    "        for i in range(n-2):\n",
    "            n3=n1+n2\n",
    "            n1=n2\n",
    "            n2=n3\n",
    "            print(n2,end=\",\")\n",
    "fibo(10)\n",
    "    "
   ]
  },
  {
   "cell_type": "markdown",
   "id": "7a68f253",
   "metadata": {},
   "source": [
    "# Default parameter "
   ]
  },
  {
   "cell_type": "code",
   "execution_count": 14,
   "id": "fd5e6f10",
   "metadata": {},
   "outputs": [
    {
     "name": "stdout",
     "output_type": "stream",
     "text": [
      "your first name isjyoti\n",
      "your lname is,gulia\n",
      "your age is89\n"
     ]
    }
   ],
   "source": [
    "def user_info(fname,lname,age=89):  #here age = 34 so it is default parameter ,you do not need to mention age parameter at calling time \n",
    "#def user_info(fname,lname=\"guila\",age),we can make default parameter at last or in sequence ,\n",
    "    \n",
    "    print(f\"your first name is{fname}\")\n",
    "    print(f\"your lname is,{lname}\")\n",
    "\n",
    "    print(f\"your age is{age}\")\n",
    "user_info(\"jyoti\",\"gulia\")"
   ]
  },
  {
   "cell_type": "code",
   "execution_count": 18,
   "id": "c1b6401f",
   "metadata": {},
   "outputs": [
    {
     "name": "stdout",
     "output_type": "stream",
     "text": [
      "5\n"
     ]
    }
   ],
   "source": [
    "#variable scope\n",
    "#local variable :we can use this variable  only inside the function , wecan not use this variable outside this function \n",
    "#gloabl variables :we can use global varaibles inside and outside the function \n",
    "a=5 #global variables \n",
    "def func(): \n",
    "    x=4 #local variables \n",
    "    print(x)\n",
    "def func2():\n",
    "    #print(x)\n",
    "    print(a)\n",
    "func2()"
   ]
  },
  {
   "cell_type": "code",
   "execution_count": null,
   "id": "6e077d00",
   "metadata": {},
   "outputs": [],
   "source": [
    "import time,sys\n",
    "indent=0  #how many spaces to indent\n",
    "indentincrease=True   #whether the indent is increasing or not \n",
    "try:\n",
    "    while True:\n",
    "        print(\" \"*indent,end=\"\")\n",
    "        print(\"********\")\n",
    "        time.sleep(0.1)\n",
    "        if indentincrease:\n",
    "            indent=indent+1\n",
    "            if indent==20:\n",
    "                indentincreasing=False\n",
    "            else:\n",
    "                indent=indent-1\n",
    "                if indent==0:\n",
    "                    indentincrease=True\n",
    "except sKeyboardInterrupt:\n",
    "    sys.exit()"
   ]
  },
  {
   "cell_type": "code",
   "execution_count": 3,
   "id": "eea98b8f",
   "metadata": {},
   "outputs": [
    {
     "name": "stdout",
     "output_type": "stream",
     "text": [
      "factorail of  number is 120\n"
     ]
    }
   ],
   "source": [
    "#python recursive function :a function that calls itself \n",
    "#factorial  using recursive funtcion \n",
    "def factorial(x):\n",
    "    if x==1:\n",
    "        return 1\n",
    "    else:\n",
    "        return(x*factorial(x-1))\n",
    "num=5\n",
    "print(\"factorail of  number is\",factorial(num))\n",
    "        "
   ]
  },
  {
   "cell_type": "code",
   "execution_count": null,
   "id": "b5feef36",
   "metadata": {},
   "outputs": [],
   "source": [
    "\n",
    "def collatz(num):\n",
    "    while num > 1:\n",
    "        if num % 2 == 0:\n",
    "            print(num//2)\n",
    "            num = num //2\n",
    "        elif num % 2 ==1:\n",
    "            print(3*num+1)\n",
    "            num = 3*num+1\n",
    "        else:\n",
    "            print(num)\n",
    "\n",
    "def getNum():\n",
    "    global num\n",
    "    num = (input(\"> \"))\n",
    "    try:\n",
    "        num = int(num)\n",
    "    except ValueError:\n",
    "        print('plese enter a number')\n",
    "        getNum()\n",
    "getNum()\n",
    "collatz(num)\n",
    "    \n"
   ]
  },
  {
   "cell_type": "markdown",
   "id": "e1551f35",
   "metadata": {},
   "source": [
    "# python exception by durga sir "
   ]
  }
 ],
 "metadata": {
  "kernelspec": {
   "display_name": "Python 3",
   "language": "python",
   "name": "python3"
  },
  "language_info": {
   "codemirror_mode": {
    "name": "ipython",
    "version": 3
   },
   "file_extension": ".py",
   "mimetype": "text/x-python",
   "name": "python",
   "nbconvert_exporter": "python",
   "pygments_lexer": "ipython3",
   "version": "3.8.8"
  }
 },
 "nbformat": 4,
 "nbformat_minor": 5
}
